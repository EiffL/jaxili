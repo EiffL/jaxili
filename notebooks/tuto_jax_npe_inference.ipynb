{
 "cells": [
  {
   "cell_type": "markdown",
   "metadata": {
    "colab_type": "text",
    "id": "view-in-github"
   },
   "source": [
    "<a href=\"https://colab.research.google.com/gist/Justinezgh/75ee6fbd05c999f81b2d18d61f4fc308/tuto_npe_inference.ipynb\" target=\"_parent\"><img src=\"https://colab.research.google.com/assets/colab-badge.svg\" alt=\"Open In Colab\"/></a>"
   ]
  },
  {
   "cell_type": "code",
   "execution_count": 2,
   "metadata": {
    "id": "X-9ZYnzyU-ja"
   },
   "outputs": [
    {
     "name": "stdout",
     "output_type": "stream",
     "text": [
      "\u001b[33m  WARNING: Failed to remove contents in a temporary directory '/feynman/work/dap/lcs/sg276684/.conda/envs/jax_sbi/lib/python3.10/site-packages/~l_dtypes'.\n",
      "  You can safely remove it manually.\u001b[0m\u001b[33m\n",
      "\u001b[0m\u001b[31mERROR: pip's dependency resolver does not currently take into account all the packages that are installed. This behaviour is the source of the following dependency conflicts.\n",
      "tensorflow 2.15.0.post1 requires ml-dtypes~=0.2.0, but you have ml-dtypes 0.3.2 which is incompatible.\u001b[0m\u001b[31m\n",
      "\u001b[0m\u001b[33m  WARNING: Failed to remove contents in a temporary directory '/feynman/work/dap/lcs/sg276684/.conda/envs/jax_sbi/lib/python3.10/site-packages/~umpy.libs'.\n",
      "  You can safely remove it manually.\u001b[0m\u001b[33m\n",
      "\u001b[0m\u001b[33m  WARNING: Failed to remove contents in a temporary directory '/feynman/work/dap/lcs/sg276684/.conda/envs/jax_sbi/lib/python3.10/site-packages/~umpy'.\n",
      "  You can safely remove it manually.\u001b[0m\u001b[33m\n",
      "\u001b[0m\u001b[31mERROR: pip's dependency resolver does not currently take into account all the packages that are installed. This behaviour is the source of the following dependency conflicts.\n",
      "tensorflow 2.15.0.post1 requires ml-dtypes~=0.2.0, but you have ml-dtypes 0.3.2 which is incompatible.\u001b[0m\u001b[31m\n",
      "\u001b[0m"
     ]
    }
   ],
   "source": [
    "!pip install --quiet sbibm dm-haiku\n",
    "!pip install --quiet git+https://github.com/DifferentiableUniverseInitiative/sbi_lens.git\n",
    "!pip install --quiet chainconsumer==0.34.0"
   ]
  },
  {
   "cell_type": "code",
   "execution_count": 1,
   "metadata": {
    "id": "_zKYOvOQgTcT"
   },
   "outputs": [],
   "source": [
    "import sbibm\n",
    "import jax\n",
    "import jax.numpy as jnp\n",
    "import sbi_lens\n",
    "from functools import partial\n",
    "import haiku as hk\n",
    "import optax\n",
    "\n",
    "jax.config.update(\"jax_enable_x64\", True)"
   ]
  },
  {
   "cell_type": "markdown",
   "metadata": {
    "id": "ddiCtfWwKf_9"
   },
   "source": [
    "# Simulation model"
   ]
  },
  {
   "cell_type": "code",
   "execution_count": 2,
   "metadata": {
    "colab": {
     "base_uri": "https://localhost:8080/"
    },
    "id": "hYiMR2jYrAcw",
    "outputId": "7a485b22-d8d9-4187-d56d-94a20e4f2ade"
   },
   "outputs": [
    {
     "data": {
      "text/plain": [
       "['bernoulli_glm',\n",
       " 'gaussian_linear',\n",
       " 'gaussian_linear_uniform',\n",
       " 'gaussian_mixture',\n",
       " 'lotka_volterra',\n",
       " 'sir',\n",
       " 'slcp',\n",
       " 'two_moons',\n",
       " 'slcp_distractors',\n",
       " 'bernoulli_glm_raw']"
      ]
     },
     "execution_count": 2,
     "metadata": {},
     "output_type": "execute_result"
    }
   ],
   "source": [
    "# you can choose any simulation model\n",
    "sbibm.get_available_tasks()"
   ]
  },
  {
   "cell_type": "code",
   "execution_count": 3,
   "metadata": {
    "id": "4cG-_kw5VQQ3"
   },
   "outputs": [
    {
     "name": "stderr",
     "output_type": "stream",
     "text": [
      "2024-02-01 09:07:23.458640: W external/xla/xla/service/gpu/nvptx_compiler.cc:698] The NVIDIA driver's CUDA version is 11.5 which is older than the ptxas CUDA version (11.8.89). Because the driver is older than the ptxas version, XLA is disabling parallel compilation, which may slow down compilation. You should update your NVIDIA driver or use the NVIDIA-provided CUDA forward compatibility packages.\n"
     ]
    }
   ],
   "source": [
    "task = sbibm.get_task(\"gaussian_mixture\")\n",
    "prior = task.get_prior()\n",
    "simulator = task.get_simulator()\n",
    "reference_samples = jnp.array(task.get_reference_posterior_samples(num_observation=1))\n",
    "observation = jnp.array(task.get_observation(num_observation=1))\n",
    "truth = jnp.array(task.get_true_parameters(num_observation=1).flatten())\n",
    "\n",
    "dim = truth.shape[0] # the dimensionality of the params space"
   ]
  },
  {
   "cell_type": "markdown",
   "metadata": {
    "id": "03Z8ILuvKlAx"
   },
   "source": [
    "# Neural Posterior Estimation"
   ]
  },
  {
   "cell_type": "code",
   "execution_count": 4,
   "metadata": {
    "id": "tjnnfNQ-VQTc"
   },
   "outputs": [
    {
     "name": "stderr",
     "output_type": "stream",
     "text": [
      "2024-02-01 09:07:25.824309: E external/local_xla/xla/stream_executor/cuda/cuda_dnn.cc:9261] Unable to register cuDNN factory: Attempting to register factory for plugin cuDNN when one has already been registered\n",
      "2024-02-01 09:07:25.824373: E external/local_xla/xla/stream_executor/cuda/cuda_fft.cc:607] Unable to register cuFFT factory: Attempting to register factory for plugin cuFFT when one has already been registered\n",
      "2024-02-01 09:07:25.825266: E external/local_xla/xla/stream_executor/cuda/cuda_blas.cc:1515] Unable to register cuBLAS factory: Attempting to register factory for plugin cuBLAS when one has already been registered\n",
      "2024-02-01 09:07:27.889924: W tensorflow/compiler/tf2tensorrt/utils/py_utils.cc:38] TF-TRT Warning: Could not find TensorRT\n"
     ]
    }
   ],
   "source": [
    "# Create neural density estimator (NDE) to approximate p(theta | y)\n",
    "from sbi_lens.normflow.models import AffineCoupling, ConditionalRealNVP\n",
    "\n",
    "# Affine bijection used in the RealNVP coupling\n",
    "bijector_npe = partial(\n",
    "  AffineCoupling,\n",
    "  layers=[128] * 2,\n",
    "  activation=jax.nn.silu\n",
    ")\n",
    "\n",
    "# Normalizing Flow with 4 RealNVP coupling layers\n",
    "NF_npe = partial(\n",
    "  ConditionalRealNVP,\n",
    "  n_layers=4,\n",
    "  bijector_fn=bijector_npe\n",
    ")\n",
    "\n",
    "\n",
    "# log probability of the NDE\n",
    "nvp_nd = hk.without_apply_rng(\n",
    "    hk.transform(\n",
    "        lambda theta,y : NF_npe(dim)(y).log_prob(theta).squeeze()\n",
    "    )\n",
    ")\n",
    "\n",
    "# sampling of the NDE\n",
    "nvp_sample_nd = hk.transform(\n",
    "  lambda y : NF_npe(dim)(y).sample(100_000, seed=hk.next_rng_key())\n",
    ")"
   ]
  },
  {
   "cell_type": "code",
   "execution_count": 5,
   "metadata": {
    "id": "JfyHxx_cVSor"
   },
   "outputs": [],
   "source": [
    "# negative log likelihood\n",
    "def loss_nll(params, mu, batch):\n",
    "    return - jnp.mean(nvp_nd.apply(params, mu, batch))\n",
    "\n",
    "@jax.jit\n",
    "def update(params, opt_state, mu, batch):\n",
    "    \"\"\"Single SGD update step.\"\"\"\n",
    "    loss, grads  = jax.value_and_grad(loss_nll)(\n",
    "        params,\n",
    "        mu,\n",
    "        batch,\n",
    "    )\n",
    "    updates, new_opt_state = optimizer.update(grads, opt_state, params)\n",
    "    new_params = optax.apply_updates(params, updates)\n",
    "\n",
    "    return loss, new_params, new_opt_state"
   ]
  },
  {
   "cell_type": "code",
   "execution_count": 6,
   "metadata": {
    "id": "9jy1Kao_VU9T"
   },
   "outputs": [],
   "source": [
    "# init nf params\n",
    "params = nvp_nd.init(\n",
    "    jax.random.PRNGKey(42),\n",
    "    0.5 * jnp.ones([1, dim]),\n",
    "    0.5 * jnp.ones([1, dim])\n",
    ")\n",
    "\n",
    "# define optimizer\n",
    "optimizer = optax.adam(learning_rate=1e-3)\n",
    "opt_state = optimizer.init(params)"
   ]
  },
  {
   "cell_type": "code",
   "execution_count": 7,
   "metadata": {
    "colab": {
     "base_uri": "https://localhost:8080/"
    },
    "id": "0vwpnJOSVWhT",
    "outputId": "b06b59d9-a982-4284-c808-534a0a68b6cd"
   },
   "outputs": [
    {
     "name": "stderr",
     "output_type": "stream",
     "text": [
      "loss nan: 100%|██████████| 5000/5000 [00:17<00:00, 286.24it/s]         \n"
     ]
    }
   ],
   "source": [
    "# training\n",
    "from tqdm import tqdm\n",
    "\n",
    "batch_size = 128\n",
    "batch_loss = []\n",
    "pbar = tqdm(range(5_000))\n",
    "\n",
    "for batch in pbar:\n",
    "  thetas = prior(num_samples=batch_size)\n",
    "  xs = simulator(thetas)\n",
    "\n",
    "  l, params, opt_state = update(\n",
    "      params,\n",
    "      opt_state,\n",
    "      jnp.array(thetas, dtype=jnp.float64),\n",
    "      jnp.array(xs, dtype=jnp.float64),\n",
    "  )\n",
    "  batch_loss.append(l)\n",
    "  pbar.set_description(f\"loss {l:.3f}\")"
   ]
  },
  {
   "cell_type": "code",
   "execution_count": 8,
   "metadata": {
    "colab": {
     "base_uri": "https://localhost:8080/",
     "height": 464
    },
    "id": "G7dRtUUZnpwE",
    "outputId": "32b707d7-129d-4a6c-80fd-0a0698667a3f"
   },
   "outputs": [
    {
     "name": "stdout",
     "output_type": "stream",
     "text": [
      "%pylab is deprecated, use %matplotlib inline and import the required libraries.\n",
      "Populating the interactive namespace from numpy and matplotlib\n"
     ]
    },
    {
     "data": {
      "text/plain": [
       "[<matplotlib.lines.Line2D at 0x7ffbcb227250>]"
      ]
     },
     "execution_count": 8,
     "metadata": {},
     "output_type": "execute_result"
    },
    {
     "data": {
      "image/png": "[encoded data removed]",
      "text/plain": [
       "<Figure size 640x480 with 1 Axes>"
      ]
     },
     "metadata": {},
     "output_type": "display_data"
    }
   ],
   "source": [
    "%pylab inline\n",
    "plt.plot(batch_loss[50:])"
   ]
  },
  {
   "cell_type": "markdown",
   "metadata": {
    "id": "fpdG79GfK6SP"
   },
   "source": [
    "# Results"
   ]
  },
  {
   "cell_type": "code",
   "execution_count": 9,
   "metadata": {
    "colab": {
     "base_uri": "https://localhost:8080/",
     "height": 1000
    },
    "id": "4BkFRF4UVcu-",
    "outputId": "6966c4b2-3c38-4fff-cc94-6fd400f74d9a"
   },
   "outputs": [
    {
     "ename": "AssertionError",
     "evalue": "Data for chain Prediction, parameter 0 is being used, but has either NaNs or infs in it!",
     "output_type": "error",
     "traceback": [
      "\u001b[0;31m---------------------------------------------------------------------------\u001b[0m",
      "\u001b[0;31mAssertionError\u001b[0m                            Traceback (most recent call last)",
      "Cell \u001b[0;32mIn[9], line 13\u001b[0m\n\u001b[1;32m     11\u001b[0m c\u001b[38;5;241m.\u001b[39madd_chain(reference_samples, shade_alpha \u001b[38;5;241m=\u001b[39m \u001b[38;5;241m0.5\u001b[39m, name\u001b[38;5;241m=\u001b[39m\u001b[38;5;124m'\u001b[39m\u001b[38;5;124mTruth\u001b[39m\u001b[38;5;124m'\u001b[39m)\n\u001b[1;32m     12\u001b[0m c\u001b[38;5;241m.\u001b[39madd_chain(sample_nd,  shade_alpha \u001b[38;5;241m=\u001b[39m \u001b[38;5;241m0.5\u001b[39m, name\u001b[38;5;241m=\u001b[39m\u001b[38;5;124m'\u001b[39m\u001b[38;5;124mPrediction\u001b[39m\u001b[38;5;124m'\u001b[39m)\n\u001b[0;32m---> 13\u001b[0m fig \u001b[38;5;241m=\u001b[39m \u001b[43mc\u001b[49m\u001b[38;5;241;43m.\u001b[39;49m\u001b[43mplotter\u001b[49m\u001b[38;5;241;43m.\u001b[39;49m\u001b[43mplot\u001b[49m\u001b[43m(\u001b[49m\u001b[43mfigsize\u001b[49m\u001b[38;5;241;43m=\u001b[39;49m\u001b[38;5;241;43m1.\u001b[39;49m\u001b[43m)\u001b[49m\n",
      "File \u001b[0;32m~/.conda/envs/jax_sbi/lib/python3.10/site-packages/chainconsumer/plotter.py:89\u001b[0m, in \u001b[0;36mPlotter.plot\u001b[0;34m(self, figsize, parameters, chains, extents, filename, display, truth, legend, blind, watermark, log_scales)\u001b[0m\n\u001b[1;32m     26\u001b[0m \u001b[38;5;28;01mdef\u001b[39;00m \u001b[38;5;21mplot\u001b[39m(\n\u001b[1;32m     27\u001b[0m     \u001b[38;5;28mself\u001b[39m,\n\u001b[1;32m     28\u001b[0m     figsize\u001b[38;5;241m=\u001b[39m\u001b[38;5;124m\"\u001b[39m\u001b[38;5;124mGROW\u001b[39m\u001b[38;5;124m\"\u001b[39m,\n\u001b[0;32m   (...)\u001b[0m\n\u001b[1;32m     38\u001b[0m     log_scales\u001b[38;5;241m=\u001b[39m\u001b[38;5;28;01mNone\u001b[39;00m,\n\u001b[1;32m     39\u001b[0m ):  \u001b[38;5;66;03m# pragma: no cover\u001b[39;00m\n\u001b[1;32m     40\u001b[0m \u001b[38;5;250m    \u001b[39m\u001b[38;5;124;03m\"\"\" Plot the chain!\u001b[39;00m\n\u001b[1;32m     41\u001b[0m \n\u001b[1;32m     42\u001b[0m \u001b[38;5;124;03m    Parameters\u001b[39;00m\n\u001b[0;32m   (...)\u001b[0m\n\u001b[1;32m     86\u001b[0m \n\u001b[1;32m     87\u001b[0m \u001b[38;5;124;03m    \"\"\"\u001b[39;00m\n\u001b[0;32m---> 89\u001b[0m     chains, parameters, truth, extents, blind, log_scales \u001b[38;5;241m=\u001b[39m \u001b[38;5;28;43mself\u001b[39;49m\u001b[38;5;241;43m.\u001b[39;49m\u001b[43m_sanitise\u001b[49m\u001b[43m(\u001b[49m\n\u001b[1;32m     90\u001b[0m \u001b[43m        \u001b[49m\u001b[43mchains\u001b[49m\u001b[43m,\u001b[49m\u001b[43m \u001b[49m\u001b[43mparameters\u001b[49m\u001b[43m,\u001b[49m\u001b[43m \u001b[49m\u001b[43mtruth\u001b[49m\u001b[43m,\u001b[49m\u001b[43m \u001b[49m\u001b[43mextents\u001b[49m\u001b[43m,\u001b[49m\u001b[43m \u001b[49m\u001b[43mcolor_p\u001b[49m\u001b[38;5;241;43m=\u001b[39;49m\u001b[38;5;28;43;01mTrue\u001b[39;49;00m\u001b[43m,\u001b[49m\u001b[43m \u001b[49m\u001b[43mblind\u001b[49m\u001b[38;5;241;43m=\u001b[39;49m\u001b[43mblind\u001b[49m\u001b[43m,\u001b[49m\u001b[43m \u001b[49m\u001b[43mlog_scales\u001b[49m\u001b[38;5;241;43m=\u001b[39;49m\u001b[43mlog_scales\u001b[49m\n\u001b[1;32m     91\u001b[0m \u001b[43m    \u001b[49m\u001b[43m)\u001b[49m\n\u001b[1;32m     92\u001b[0m     names \u001b[38;5;241m=\u001b[39m [chain\u001b[38;5;241m.\u001b[39mname \u001b[38;5;28;01mfor\u001b[39;00m chain \u001b[38;5;129;01min\u001b[39;00m chains]\n\u001b[1;32m     94\u001b[0m     \u001b[38;5;28;01mif\u001b[39;00m legend \u001b[38;5;129;01mis\u001b[39;00m \u001b[38;5;28;01mNone\u001b[39;00m:\n",
      "File \u001b[0;32m~/.conda/envs/jax_sbi/lib/python3.10/site-packages/chainconsumer/plotter.py:857\u001b[0m, in \u001b[0;36mPlotter._sanitise\u001b[0;34m(self, chains, parameters, truth, extents, color_p, blind, wide_extents, log_scales)\u001b[0m\n\u001b[1;32m    854\u001b[0m \u001b[38;5;28;01melif\u001b[39;00m \u001b[38;5;28misinstance\u001b[39m(extents, \u001b[38;5;28mlist\u001b[39m):\n\u001b[1;32m    855\u001b[0m     extents \u001b[38;5;241m=\u001b[39m \u001b[38;5;28mdict\u001b[39m((p, e) \u001b[38;5;28;01mfor\u001b[39;00m p, e \u001b[38;5;129;01min\u001b[39;00m \u001b[38;5;28mzip\u001b[39m(parameters, extents))\n\u001b[0;32m--> 857\u001b[0m extents \u001b[38;5;241m=\u001b[39m \u001b[38;5;28;43mself\u001b[39;49m\u001b[38;5;241;43m.\u001b[39;49m\u001b[43m_get_custom_extents\u001b[49m\u001b[43m(\u001b[49m\u001b[43mparameters\u001b[49m\u001b[43m,\u001b[49m\u001b[43m \u001b[49m\u001b[43mchains\u001b[49m\u001b[43m,\u001b[49m\u001b[43m \u001b[49m\u001b[43mextents\u001b[49m\u001b[43m,\u001b[49m\u001b[43m \u001b[49m\u001b[43mwide_extents\u001b[49m\u001b[38;5;241;43m=\u001b[39;49m\u001b[43mwide_extents\u001b[49m\u001b[43m)\u001b[49m\n\u001b[1;32m    859\u001b[0m \u001b[38;5;28;01mif\u001b[39;00m log_scales \u001b[38;5;129;01mis\u001b[39;00m \u001b[38;5;28;01mNone\u001b[39;00m:\n\u001b[1;32m    860\u001b[0m     log_scales \u001b[38;5;241m=\u001b[39m {}\n",
      "File \u001b[0;32m~/.conda/envs/jax_sbi/lib/python3.10/site-packages/chainconsumer/plotter.py:914\u001b[0m, in \u001b[0;36mPlotter._get_custom_extents\u001b[0;34m(self, parameters, chains, external_extents, wide_extents)\u001b[0m\n\u001b[1;32m    912\u001b[0m         extents[p] \u001b[38;5;241m=\u001b[39m external_extents[p]\n\u001b[1;32m    913\u001b[0m     \u001b[38;5;28;01melse\u001b[39;00m:\n\u001b[0;32m--> 914\u001b[0m         extents[p] \u001b[38;5;241m=\u001b[39m \u001b[38;5;28;43mself\u001b[39;49m\u001b[38;5;241;43m.\u001b[39;49m\u001b[43m_get_parameter_extents\u001b[49m\u001b[43m(\u001b[49m\u001b[43mp\u001b[49m\u001b[43m,\u001b[49m\u001b[43m \u001b[49m\u001b[43mchains\u001b[49m\u001b[43m,\u001b[49m\u001b[43m \u001b[49m\u001b[43mwide_extents\u001b[49m\u001b[38;5;241;43m=\u001b[39;49m\u001b[43mwide_extents\u001b[49m\u001b[43m)\u001b[49m\n\u001b[1;32m    915\u001b[0m \u001b[38;5;28;01mreturn\u001b[39;00m extents\n",
      "File \u001b[0;32m~/.conda/envs/jax_sbi/lib/python3.10/site-packages/chainconsumer/plotter.py:1050\u001b[0m, in \u001b[0;36mPlotter._get_parameter_extents\u001b[0;34m(self, parameter, chains, wide_extents)\u001b[0m\n\u001b[1;32m   1048\u001b[0m             min_prop, max_prop \u001b[38;5;241m=\u001b[39m get_extents(data, chain\u001b[38;5;241m.\u001b[39mweights, tiny\u001b[38;5;241m=\u001b[39m\u001b[38;5;28;01mTrue\u001b[39;00m)\n\u001b[1;32m   1049\u001b[0m \u001b[38;5;28;01melse\u001b[39;00m:\n\u001b[0;32m-> 1050\u001b[0m     data \u001b[38;5;241m=\u001b[39m \u001b[43mchain\u001b[49m\u001b[38;5;241;43m.\u001b[39;49m\u001b[43mget_data\u001b[49m\u001b[43m(\u001b[49m\u001b[43mparameter\u001b[49m\u001b[43m)\u001b[49m\n\u001b[1;32m   1051\u001b[0m     \u001b[38;5;28;01mif\u001b[39;00m chain\u001b[38;5;241m.\u001b[39mgrid:\n\u001b[1;32m   1052\u001b[0m         min_prop \u001b[38;5;241m=\u001b[39m data\u001b[38;5;241m.\u001b[39mmin()\n",
      "File \u001b[0;32m~/.conda/envs/jax_sbi/lib/python3.10/site-packages/chainconsumer/chain.py:278\u001b[0m, in \u001b[0;36mChain.get_data\u001b[0;34m(self, params)\u001b[0m\n\u001b[1;32m    276\u001b[0m params \u001b[38;5;241m=\u001b[39m [\u001b[38;5;28mself\u001b[39m\u001b[38;5;241m.\u001b[39mparameters[param] \u001b[38;5;28;01mif\u001b[39;00m \u001b[38;5;28misinstance\u001b[39m(param, \u001b[38;5;28mint\u001b[39m) \u001b[38;5;28;01melse\u001b[39;00m param \u001b[38;5;28;01mfor\u001b[39;00m param \u001b[38;5;129;01min\u001b[39;00m params]\n\u001b[1;32m    277\u001b[0m \u001b[38;5;28;01mfor\u001b[39;00m p \u001b[38;5;129;01min\u001b[39;00m params:\n\u001b[0;32m--> 278\u001b[0m     \u001b[38;5;28;43mself\u001b[39;49m\u001b[38;5;241;43m.\u001b[39;49m\u001b[43mvalidate_parameter\u001b[49m\u001b[43m(\u001b[49m\u001b[43mp\u001b[49m\u001b[43m)\u001b[49m\n\u001b[1;32m    279\u001b[0m indexes \u001b[38;5;241m=\u001b[39m [\u001b[38;5;28mself\u001b[39m\u001b[38;5;241m.\u001b[39mparameters\u001b[38;5;241m.\u001b[39mindex(param) \u001b[38;5;28;01mfor\u001b[39;00m param \u001b[38;5;129;01min\u001b[39;00m params]\n\u001b[1;32m    280\u001b[0m \u001b[38;5;28;01mreturn\u001b[39;00m np\u001b[38;5;241m.\u001b[39msqueeze(\u001b[38;5;28mself\u001b[39m\u001b[38;5;241m.\u001b[39mchain[:, indexes])\n",
      "File \u001b[0;32m~/.conda/envs/jax_sbi/lib/python3.10/site-packages/chainconsumer/chain.py:287\u001b[0m, in \u001b[0;36mChain.validate_parameter\u001b[0;34m(self, param)\u001b[0m\n\u001b[1;32m    285\u001b[0m data \u001b[38;5;241m=\u001b[39m \u001b[38;5;28mself\u001b[39m\u001b[38;5;241m.\u001b[39mchain[:, index]\n\u001b[1;32m    286\u001b[0m msg \u001b[38;5;241m=\u001b[39m \u001b[38;5;124m\"\u001b[39m\u001b[38;5;124mData for chain \u001b[39m\u001b[38;5;132;01m%s\u001b[39;00m\u001b[38;5;124m, parameter \u001b[39m\u001b[38;5;132;01m%s\u001b[39;00m\u001b[38;5;124m is being used, but has either NaNs or infs in it!\u001b[39m\u001b[38;5;124m\"\u001b[39m\n\u001b[0;32m--> 287\u001b[0m \u001b[38;5;28;01massert\u001b[39;00m np\u001b[38;5;241m.\u001b[39mall(np\u001b[38;5;241m.\u001b[39misfinite(data)), msg \u001b[38;5;241m%\u001b[39m (\u001b[38;5;28mself\u001b[39m\u001b[38;5;241m.\u001b[39mname, param)\n\u001b[1;32m    288\u001b[0m \u001b[38;5;28mself\u001b[39m\u001b[38;5;241m.\u001b[39mvalidated_params\u001b[38;5;241m.\u001b[39madd(param)\n",
      "\u001b[0;31mAssertionError\u001b[0m: Data for chain Prediction, parameter 0 is being used, but has either NaNs or infs in it!"
     ]
    }
   ],
   "source": [
    "from chainconsumer import ChainConsumer\n",
    "\n",
    "# plot infered params\n",
    "sample_nd = nvp_sample_nd.apply(\n",
    "      params,\n",
    "      rng = jax.random.PRNGKey(43),\n",
    "      y = observation * jnp.ones([100_000, dim])\n",
    ")\n",
    "\n",
    "c = ChainConsumer()\n",
    "c.add_chain(reference_samples, shade_alpha = 0.5, name='Truth')\n",
    "c.add_chain(sample_nd,  shade_alpha = 0.5, name='Prediction')\n",
    "fig = c.plotter.plot(figsize=1.)"
   ]
  },
  {
   "cell_type": "code",
   "execution_count": 10,
   "metadata": {
    "id": "EFQybrr0oMfD"
   },
   "outputs": [
    {
     "data": {
      "text/plain": [
       "(100000, 2)"
      ]
     },
     "execution_count": 10,
     "metadata": {},
     "output_type": "execute_result"
    }
   ],
   "source": [
    "sample_nd.shape"
   ]
  },
  {
   "cell_type": "code",
   "execution_count": null,
   "metadata": {},
   "outputs": [],
   "source": []
  }
 ],
 "metadata": {
  "colab": {
   "authorship_tag": "ABX9TyNnhek6kjHkeGs2xLqxlnme",
   "include_colab_link": true,
   "provenance": []
  },
  "kernelspec": {
   "display_name": "Python 3 (ipykernel)",
   "language": "python",
   "name": "python3"
  },
  "language_info": {
   "codemirror_mode": {
    "name": "ipython",
    "version": 3
   },
   "file_extension": ".py",
   "mimetype": "text/x-python",
   "name": "python",
   "nbconvert_exporter": "python",
   "pygments_lexer": "ipython3",
   "version": "3.10.13"
  }
 },
 "nbformat": 4,
 "nbformat_minor": 4
}
