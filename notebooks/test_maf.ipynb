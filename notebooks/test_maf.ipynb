{
 "cells": [
  {
   "cell_type": "markdown",
   "metadata": {},
   "source": [
    "# Masked Autoregressive Flows (MAFs)"
   ]
  },
  {
   "cell_type": "code",
   "execution_count": 1,
   "metadata": {},
   "outputs": [
    {
     "name": "stderr",
     "output_type": "stream",
     "text": [
      "2024-02-14 15:21:31.989323: E external/local_xla/xla/stream_executor/cuda/cuda_dnn.cc:9261] Unable to register cuDNN factory: Attempting to register factory for plugin cuDNN when one has already been registered\n",
      "2024-02-14 15:21:31.989430: E external/local_xla/xla/stream_executor/cuda/cuda_fft.cc:607] Unable to register cuFFT factory: Attempting to register factory for plugin cuFFT when one has already been registered\n",
      "2024-02-14 15:21:32.017143: E external/local_xla/xla/stream_executor/cuda/cuda_blas.cc:1515] Unable to register cuBLAS factory: Attempting to register factory for plugin cuBLAS when one has already been registered\n",
      "2024-02-14 15:21:39.080369: W tensorflow/compiler/tf2tensorrt/utils/py_utils.cc:38] TF-TRT Warning: Could not find TensorRT\n"
     ]
    }
   ],
   "source": [
    "%load_ext autoreload\n",
    "\n",
    "%autoreload 2\n",
    "\n",
    "import os\n",
    "\n",
    "os.environ[\"XLA_PYTHON_CLIENT_MEM_FRACTION\"] = \"0.33\"\n",
    "\n",
    "import numpy as np\n",
    "import jax\n",
    "import jax.numpy as jnp\n",
    "import haiku as hk\n",
    "import optax\n",
    "import sbibm\n",
    "import matplotlib.pyplot as plt\n",
    "from functools import partial\n",
    "from importlib import reload\n",
    "from typing import Sequence, Callable\n",
    "\n",
    "import torch\n",
    "import torch.utils.data as data\n",
    "\n",
    "from normflow.utils import create_data_loader\n",
    "from normflow.train import TrainerModule, TrainState\n",
    "\n",
    "jax.config.update(\"jax_enable_x64\", True)"
   ]
  },
  {
   "cell_type": "markdown",
   "metadata": {},
   "source": [
    "### Testing Masked Linear layer"
   ]
  },
  {
   "cell_type": "code",
   "execution_count": 2,
   "metadata": {},
   "outputs": [
    {
     "name": "stderr",
     "output_type": "stream",
     "text": [
      "2024-02-14 15:22:50.901484: W external/xla/xla/service/gpu/nvptx_compiler.cc:698] The NVIDIA driver's CUDA version is 11.5 which is older than the ptxas CUDA version (11.8.89). Because the driver is older than the ptxas version, XLA is disabling parallel compilation, which may slow down compilation. You should update your NVIDIA driver or use the NVIDIA-provided CUDA forward compatibility packages.\n"
     ]
    }
   ],
   "source": [
    "from normflow.model import MaskedLinear\n",
    "\n",
    "model = MaskedLinear(3)\n",
    "input = jnp.arange(5)\n",
    "mask = jnp.zeros((5, 3))\n",
    "model.initialize_mask(mask)\n",
    "\n",
    "params = model.init(jax.random.PRNGKey(0), input)"
   ]
  },
  {
   "cell_type": "code",
   "execution_count": 3,
   "metadata": {},
   "outputs": [
    {
     "data": {
      "text/plain": [
       "Array([0., 0., 0.], dtype=float64)"
      ]
     },
     "execution_count": 3,
     "metadata": {},
     "output_type": "execute_result"
    }
   ],
   "source": [
    "model.apply(params, input)"
   ]
  },
  {
   "cell_type": "code",
   "execution_count": 4,
   "metadata": {},
   "outputs": [
    {
     "name": "stdout",
     "output_type": "stream",
     "text": [
      "[[1. 1. 1.]\n",
      " [1. 1. 1.]\n",
      " [1. 1. 1.]\n",
      " [1. 1. 1.]\n",
      " [1. 1. 1.]]\n"
     ]
    }
   ],
   "source": [
    "mask = jnp.ones((5, 3))\n",
    "model.initialize_mask(mask)\n",
    "print(mask)"
   ]
  },
  {
   "cell_type": "code",
   "execution_count": 5,
   "metadata": {},
   "outputs": [
    {
     "data": {
      "text/plain": [
       "Array([ 1.6449495 ,  0.90466896, -4.55038121], dtype=float64)"
      ]
     },
     "execution_count": 5,
     "metadata": {},
     "output_type": "execute_result"
    }
   ],
   "source": [
    "model.apply(params, input)"
   ]
  },
  {
   "cell_type": "code",
   "execution_count": 6,
   "metadata": {},
   "outputs": [],
   "source": [
    "from normflow.model import ConditionalMADE"
   ]
  },
  {
   "cell_type": "code",
   "execution_count": 7,
   "metadata": {},
   "outputs": [],
   "source": [
    "model = ConditionalMADE(3, [5, 5], n_cond=3, gaussian=True, random_order=True, seed=36)"
   ]
  },
  {
   "cell_type": "code",
   "execution_count": 8,
   "metadata": {},
   "outputs": [],
   "source": [
    "params = model.init(jax.random.PRNGKey(0), jnp.zeros(3), jnp.zeros(3))"
   ]
  },
  {
   "cell_type": "code",
   "execution_count": 9,
   "metadata": {},
   "outputs": [],
   "source": [
    "input = jnp.array([0.5, 0.5, 0.5])\n",
    "cond = jnp.array([1, 1, 1])\n",
    "result = model.apply(params, input, cond) "
   ]
  },
  {
   "cell_type": "code",
   "execution_count": 10,
   "metadata": {},
   "outputs": [
    {
     "data": {
      "text/plain": [
       "Array([ 0.1636737 ,  0.        , -0.02277961,  0.26304815,  0.        ,\n",
       "       -0.04986678], dtype=float64)"
      ]
     },
     "execution_count": 10,
     "metadata": {},
     "output_type": "execute_result"
    }
   ],
   "source": [
    "result"
   ]
  },
  {
   "cell_type": "markdown",
   "metadata": {},
   "source": [
    "### Testing MAF Layer"
   ]
  },
  {
   "cell_type": "code",
   "execution_count": 170,
   "metadata": {},
   "outputs": [],
   "source": [
    "from normflow.model import MAFLayer"
   ]
  },
  {
   "cell_type": "code",
   "execution_count": 171,
   "metadata": {},
   "outputs": [],
   "source": [
    "maf_layer = MAFLayer(3, 3, [5, 5], reverse=False, seed=100)"
   ]
  },
  {
   "cell_type": "code",
   "execution_count": 172,
   "metadata": {},
   "outputs": [],
   "source": [
    "params = maf_layer.init(jax.random.PRNGKey(0), jnp.zeros(3), jnp.zeros(3))"
   ]
  },
  {
   "cell_type": "code",
   "execution_count": 173,
   "metadata": {},
   "outputs": [
    {
     "data": {
      "text/plain": [
       "Array([ 0.        ,  0.        , -0.00258242,  0.        ,  0.        ,\n",
       "        0.01258937], dtype=float64)"
      ]
     },
     "execution_count": 173,
     "metadata": {},
     "output_type": "execute_result"
    }
   ],
   "source": [
    "input = jnp.arange(3)\n",
    "cond = jnp.zeros(3)\n",
    "\n",
    "maf_layer.apply(params, input, cond)"
   ]
  },
  {
   "cell_type": "code",
   "execution_count": 174,
   "metadata": {},
   "outputs": [
    {
     "data": {
      "text/plain": [
       "(Array([0.       , 1.       , 2.0152278], dtype=float64),\n",
       " Array(0.00629468, dtype=float64))"
      ]
     },
     "execution_count": 174,
     "metadata": {},
     "output_type": "execute_result"
    }
   ],
   "source": [
    "u, log_det = maf_layer.apply(params, input, cond, method=\"forward\")\n",
    "u, log_det"
   ]
  },
  {
   "cell_type": "code",
   "execution_count": 175,
   "metadata": {},
   "outputs": [
    {
     "data": {
      "text/plain": [
       "(Array([[0., 1., 2.]], dtype=float64), Array([-0.00629468], dtype=float64))"
      ]
     },
     "execution_count": 175,
     "metadata": {},
     "output_type": "execute_result"
    }
   ],
   "source": [
    "maf_layer.apply(params, u.reshape(1, 3), cond.reshape(1, 3), method=\"backward\")"
   ]
  },
  {
   "cell_type": "markdown",
   "metadata": {},
   "source": [
    "### Testing MAF"
   ]
  },
  {
   "cell_type": "code",
   "execution_count": 38,
   "metadata": {},
   "outputs": [],
   "source": [
    "from normflow.model import ConditionalMAF"
   ]
  },
  {
   "cell_type": "code",
   "execution_count": 40,
   "metadata": {},
   "outputs": [],
   "source": [
    "maf = ConditionalMAF(3, 3, 2, [128, 128], use_reverse=False, seed=42)"
   ]
  },
  {
   "cell_type": "code",
   "execution_count": 41,
   "metadata": {},
   "outputs": [],
   "source": [
    "input = jnp.arange(9).reshape((3,3))\n",
    "cond = jnp.zeros((3,3))\n",
    "train = True\n",
    "variables  = maf.init(jax.random.PRNGKey(0), input, cond, train=True)"
   ]
  },
  {
   "cell_type": "code",
   "execution_count": 264,
   "metadata": {},
   "outputs": [],
   "source": [
    "from flax.training import train_state\n",
    "from typing import Any\n",
    "\n",
    "class TrainState(train_state.TrainState):\n",
    "    batch_stats: Any\n",
    "\n",
    "state = TrainState.create(\n",
    "    apply_fn=maf.apply,\n",
    "    params=variables[\"params\"],\n",
    "    batch_stats=variables[\"batch_stats\"],\n",
    "    tx=optax.adam(1e-3)\n",
    ")"
   ]
  },
  {
   "cell_type": "code",
   "execution_count": 265,
   "metadata": {},
   "outputs": [],
   "source": [
    "def train_step(state: TrainState, input, cond):\n",
    "    def loss_fn(params):\n",
    "        output, updates = state.apply_fn(\n",
    "            {'params': params, 'batch_stats': state.batch_stats},\n",
    "            input, cond, train=True, mutable=['batch_stats'], method='log_prob'\n",
    "        )\n",
    "        print('Output:', output)\n",
    "        loss = -jnp.mean(output)\n",
    "        print('Loss:', loss)\n",
    "        return loss, updates\n",
    "    \n",
    "    grad_fn = jax.value_and_grad(loss_fn, has_aux=True)\n",
    "    (loss, updates), grads = grad_fn(state.params)\n",
    "    print('Gradient:', grads)\n",
    "    state = state.apply_gradients(grads=grads)\n",
    "    state = state.replace(batch_stats=updates['batch_stats'])\n",
    "    return state, loss\n"
   ]
  },
  {
   "cell_type": "code",
   "execution_count": 268,
   "metadata": {},
   "outputs": [
    {
     "name": "stdout",
     "output_type": "stream",
     "text": [
      "Traced<ConcreteArray([[-8.35887516e-19 -2.18938446e-03  1.84219935e-02]\n",
      " [-8.35887516e-19  1.03311201e-01  1.99571382e-01]\n",
      " [-8.35887516e-19  6.06362364e-02  3.60363725e-01]], dtype=float64)>with<JVPTrace(level=2/0)> with\n",
      "  primal = Array([[-8.35887516e-19, -2.18938446e-03,  1.84219935e-02],\n",
      "       [-8.35887516e-19,  1.03311201e-01,  1.99571382e-01],\n",
      "       [-8.35887516e-19,  6.06362364e-02,  3.60363725e-01]],      dtype=float64)\n",
      "  tangent = Traced<ShapedArray(float64[3,3])>with<JaxprTrace(level=1/0)> with\n",
      "    pval = (ShapedArray(float64[3,3]), None)\n",
      "    recipe = JaxprEqnRecipe(eqn_id=<object object at 0x7ffa29acf510>, in_tracers=(Traced<ShapedArray(float64[3,6]):JaxprTrace(level=1/0)>,), out_tracer_refs=[<weakref at 0x7fffe0a7dc10; to 'JaxprTracer' at 0x7fffe0a7e7f0>], out_avals=[ShapedArray(float64[3,3])], primitive=slice, params={'start_indices': (0, 0), 'limit_indices': (3, 3), 'strides': None}, effects=frozenset(), source_info=SourceInfo(traceback=<jaxlib.xla_extension.Traceback object at 0x7fffe0a4c970>, name_stack=NameStack(stack=(Transform(name='jvp'), Scope(name='ConditionalMAF.log_prob'), Scope(name='ConditionalMAF'), Scope(name='layer_list_0.forward'))))) Traced<ConcreteArray([[-0.002      -0.00671798 -0.03265817]\n",
      " [-0.002       0.30397465 -0.5926599 ]\n",
      " [-0.002       0.91262315 -1.37155919]], dtype=float64)>with<JVPTrace(level=2/0)> with\n",
      "  primal = Array([[-0.002     , -0.00671798, -0.03265817],\n",
      "       [-0.002     ,  0.30397465, -0.5926599 ],\n",
      "       [-0.002     ,  0.91262315, -1.37155919]], dtype=float64)\n",
      "  tangent = Traced<ShapedArray(float64[3,3])>with<JaxprTrace(level=1/0)> with\n",
      "    pval = (ShapedArray(float64[3,3]), None)\n",
      "    recipe = JaxprEqnRecipe(eqn_id=<object object at 0x7ffa29acf710>, in_tracers=(Traced<ShapedArray(float64[3,6]):JaxprTrace(level=1/0)>,), out_tracer_refs=[<weakref at 0x7fffe0a7e2f0; to 'JaxprTracer' at 0x7fffe0a7e7a0>], out_avals=[ShapedArray(float64[3,3])], primitive=slice, params={'start_indices': (0, 3), 'limit_indices': (3, 6), 'strides': None}, effects=frozenset(), source_info=SourceInfo(traceback=<jaxlib.xla_extension.Traceback object at 0x7fffe0a4ca70>, name_stack=NameStack(stack=(Transform(name='jvp'), Scope(name='ConditionalMAF.log_prob'), Scope(name='ConditionalMAF'), Scope(name='layer_list_0.forward')))))\n",
      "Traced<ConcreteArray([[ 8.47057060e-12 -3.62334426e-02 -5.84764348e-02]\n",
      " [ 8.47057060e-12  1.75728649e-02  5.45255335e-02]\n",
      " [ 8.47057060e-12  2.86919574e-02 -6.61871307e-02]], dtype=float64)>with<JVPTrace(level=2/0)> with\n",
      "  primal = Array([[ 8.47057060e-12, -3.62334426e-02, -5.84764348e-02],\n",
      "       [ 8.47057060e-12,  1.75728649e-02,  5.45255335e-02],\n",
      "       [ 8.47057060e-12,  2.86919574e-02, -6.61871307e-02]],      dtype=float64)\n",
      "  tangent = Traced<ShapedArray(float64[3,3])>with<JaxprTrace(level=1/0)> with\n",
      "    pval = (ShapedArray(float64[3,3]), None)\n",
      "    recipe = JaxprEqnRecipe(eqn_id=<object object at 0x7ffa29acfac0>, in_tracers=(Traced<ShapedArray(float64[3,6]):JaxprTrace(level=1/0)>,), out_tracer_refs=[<weakref at 0x7fffe0a67060; to 'JaxprTracer' at 0x7fffe0a65990>], out_avals=[ShapedArray(float64[3,3])], primitive=slice, params={'start_indices': (0, 0), 'limit_indices': (3, 3), 'strides': None}, effects=frozenset(), source_info=SourceInfo(traceback=<jaxlib.xla_extension.Traceback object at 0x7fffe0a836b0>, name_stack=NameStack(stack=(Transform(name='jvp'), Scope(name='ConditionalMAF.log_prob'), Scope(name='ConditionalMAF'), Scope(name='layer_list_1.forward'))))) Traced<ConcreteArray([[-0.002       0.01915472 -0.25473408]\n",
      " [-0.002       0.00533296  0.00781969]\n",
      " [-0.002       0.0215607   0.05515005]], dtype=float64)>with<JVPTrace(level=2/0)> with\n",
      "  primal = Array([[-0.002     ,  0.01915472, -0.25473408],\n",
      "       [-0.002     ,  0.00533296,  0.00781969],\n",
      "       [-0.002     ,  0.0215607 ,  0.05515005]], dtype=float64)\n",
      "  tangent = Traced<ShapedArray(float64[3,3])>with<JaxprTrace(level=1/0)> with\n",
      "    pval = (ShapedArray(float64[3,3]), None)\n",
      "    recipe = JaxprEqnRecipe(eqn_id=<object object at 0x7ffa29acfb50>, in_tracers=(Traced<ShapedArray(float64[3,6]):JaxprTrace(level=1/0)>,), out_tracer_refs=[<weakref at 0x7fffe0a66cf0; to 'JaxprTracer' at 0x7fffe0a67650>], out_avals=[ShapedArray(float64[3,3])], primitive=slice, params={'start_indices': (0, 3), 'limit_indices': (3, 6), 'strides': None}, effects=frozenset(), source_info=SourceInfo(traceback=<jaxlib.xla_extension.Traceback object at 0x7fffe08887b0>, name_stack=NameStack(stack=(Transform(name='jvp'), Scope(name='ConditionalMAF.log_prob'), Scope(name='ConditionalMAF'), Scope(name='layer_list_1.forward')))))\n",
      "Output: Traced<ConcreteArray([-4.69110957 -2.66104273 -4.45555291], dtype=float64)>with<JVPTrace(level=2/0)> with\n",
      "  primal = Array([-4.69110957, -2.66104273, -4.45555291], dtype=float64)\n",
      "  tangent = Traced<ShapedArray(float64[3])>with<JaxprTrace(level=1/0)> with\n",
      "    pval = (ShapedArray(float64[3]), None)\n",
      "    recipe = JaxprEqnRecipe(eqn_id=<object object at 0x7ffa29acfce0>, in_tracers=(Traced<ShapedArray(float64[3]):JaxprTrace(level=1/0)>, Traced<ShapedArray(float64[3]):JaxprTrace(level=1/0)>), out_tracer_refs=[<weakref at 0x7fffe088d350; to 'JaxprTracer' at 0x7fffe088ccc0>], out_avals=[ShapedArray(float64[3])], primitive=pjit, params={'jaxpr': { lambda ; a:f64[3] b:f64[3]. let c:f64[3] = add a b in (c,) }, 'in_shardings': (UnspecifiedValue, UnspecifiedValue), 'out_shardings': (UnspecifiedValue,), 'resource_env': None, 'donated_invars': (False, False), 'name': 'fn', 'keep_unused': False, 'inline': True}, effects=set(), source_info=SourceInfo(traceback=<jaxlib.xla_extension.Traceback object at 0x7fffe0a7b6b0>, name_stack=NameStack(stack=(Transform(name='jvp'), Scope(name='ConditionalMAF.log_prob')))))\n",
      "Loss: Traced<ConcreteArray(3.9359017364299658, dtype=float64)>with<JVPTrace(level=2/0)> with\n",
      "  primal = Array(3.93590174, dtype=float64)\n",
      "  tangent = Traced<ShapedArray(float64[])>with<JaxprTrace(level=1/0)> with\n",
      "    pval = (ShapedArray(float64[]), None)\n",
      "    recipe = JaxprEqnRecipe(eqn_id=<object object at 0x7ffa29acfca0>, in_tracers=(Traced<ShapedArray(float64[]):JaxprTrace(level=1/0)>,), out_tracer_refs=[<weakref at 0x7fffe0a64400; to 'JaxprTracer' at 0x7fffe0a65170>], out_avals=[ShapedArray(float64[])], primitive=pjit, params={'jaxpr': { lambda ; a:f64[]. let b:f64[] = neg a in (b,) }, 'in_shardings': (UnspecifiedValue,), 'out_shardings': (UnspecifiedValue,), 'resource_env': None, 'donated_invars': (False,), 'name': '<lambda>', 'keep_unused': False, 'inline': True}, effects=set(), source_info=SourceInfo(traceback=<jaxlib.xla_extension.Traceback object at 0x7fffe0a502b0>, name_stack=NameStack(stack=(Transform(name='jvp'),))))\n",
      "Gradient: {'BatchNorm_0': {'bias': Array([1.2021019e-01, 3.8517475e-02, 6.4069758e-07], dtype=float32), 'scale': Array([-2.2273876e-02, -3.6141884e-02,  1.0610397e-05], dtype=float32)}, 'BatchNorm_1': {'bias': Array([ 2.9203528e-07, -5.8433258e-12, -2.9203827e-07], dtype=float32), 'scale': Array([0.9979893, 0.9979898, 0.99799  ], dtype=float32)}, 'layer_list_0': {'ConditionalMADE_0': {'layers_0': {'Dense_0': {'bias': Array([ 1.46771809e-02,  8.91821180e-03,  1.11918850e-02, -4.77705784e-02,\n",
      "       -8.29602033e-03,  4.23122980e-02, -2.66417192e-04, -5.65501396e-03,\n",
      "       -3.43541568e-03,  3.47331688e-02,  2.62810029e-02,  9.52441990e-03,\n",
      "        3.84767242e-02, -8.63667671e-03,  1.85033139e-02,  2.22593937e-02,\n",
      "        1.55883245e-02,  2.79156230e-02, -1.13644160e-03,  2.70230370e-03,\n",
      "       -1.79242902e-03,  3.57701592e-02,  8.99047628e-02,  6.77208453e-02,\n",
      "       -4.51978482e-03,  5.41673508e-03, -3.22795007e-04,  3.23845353e-03,\n",
      "        2.52026296e-03,  9.72740538e-03, -1.22242626e-02,  4.32135118e-03,\n",
      "        3.56010161e-02, -2.94819083e-02,  1.16390772e-02,  7.57908262e-03,\n",
      "       -1.57350663e-03,  1.34067552e-03,  5.84725058e-03, -5.43999765e-03,\n",
      "        7.23208286e-05, -5.72988484e-03, -8.57518334e-03,  1.38654636e-04,\n",
      "        4.11008019e-03, -3.78606783e-04,  8.93851160e-04, -3.37902969e-03,\n",
      "       -1.92803703e-02, -2.22535594e-03, -3.35098966e-03, -2.68443488e-03,\n",
      "        7.45535304e-04,  3.51352319e-02,  4.82853182e-04, -1.00556041e-04,\n",
      "       -1.19250566e-02,  1.29464106e-03, -3.02134529e-02, -4.85659391e-03,\n",
      "       -2.01915186e-02,  1.11371754e-02,  1.75724470e-03, -3.16048674e-02,\n",
      "       -9.72105656e-03,  8.89875693e-04,  5.61752822e-04, -4.89858910e-02,\n",
      "       -2.39216629e-02, -1.12506300e-02, -1.24474028e-02, -7.71705201e-03,\n",
      "       -2.72667338e-03, -4.38415036e-02,  3.28818057e-03,  5.61965704e-02,\n",
      "        1.80357359e-02, -3.35518233e-02,  4.73877415e-03,  3.41979824e-02,\n",
      "       -1.91588439e-02,  2.30385200e-03, -2.13604663e-02,  4.25400548e-02,\n",
      "       -4.18286305e-03,  1.43787428e-03, -3.23864184e-02, -2.93920413e-02,\n",
      "        1.39560578e-02,  6.99716993e-03, -9.53492126e-04,  5.06940763e-03,\n",
      "       -8.92482603e-06,  1.00321472e-02, -2.08581779e-02,  1.73360500e-02,\n",
      "        3.54822986e-02,  3.96938138e-02,  2.12026592e-02, -1.67362078e-03,\n",
      "        2.32761968e-02, -1.95251387e-02,  4.24572872e-03, -3.63529623e-02,\n",
      "        1.78374518e-02, -2.95506008e-02, -1.51400631e-02, -2.30042525e-02,\n",
      "       -1.44989910e-02,  1.33485310e-02,  1.41409086e-03,  2.99020335e-02,\n",
      "       -4.93161902e-02, -8.24772567e-02, -2.48408094e-02, -3.85218905e-03,\n",
      "        3.07650329e-03, -2.31044330e-02,  3.99254775e-03, -7.31445476e-03,\n",
      "        9.35729407e-03, -5.91702722e-02, -4.59876610e-04,  3.35975103e-02,\n",
      "       -3.91058065e-02, -6.96675526e-03,  8.53381935e-04, -4.21997946e-04],      dtype=float32), 'kernel': Array([[ 2.59993169e-02,  2.16088668e-02, -1.65293235e-02,\n",
      "        -1.64593309e-01,  9.61549301e-03,  1.63802758e-01,\n",
      "        -4.54492541e-03, -3.50133143e-02, -1.72894727e-02,\n",
      "         9.29861665e-02,  1.07370161e-01,  9.65498039e-04,\n",
      "         1.33370087e-01, -5.37302494e-02,  7.46619776e-02,\n",
      "         1.04484238e-01,  4.71648723e-02,  8.12034756e-02,\n",
      "        -9.19400156e-03,  8.53903033e-03,  1.28471269e-03,\n",
      "         1.30310804e-01,  3.98029357e-01,  2.06530318e-01,\n",
      "         3.05340532e-03, -8.75389110e-03,  1.33048568e-03,\n",
      "         4.68278583e-03, -3.17314756e-03,  1.43660028e-02,\n",
      "        -5.87250032e-02,  5.38959540e-03,  1.15149952e-01,\n",
      "        -7.80541748e-02, -1.11519257e-02,  3.09808692e-03,\n",
      "         1.28670949e-02, -2.35781586e-03,  1.49789650e-03,\n",
      "         7.20983837e-03,  7.16209551e-03,  1.02423495e-02,\n",
      "        -2.28429586e-02,  1.97213423e-02,  4.05221188e-04,\n",
      "        -8.76639970e-03, -2.27410346e-04, -4.47251834e-02,\n",
      "        -5.40028028e-02,  9.80434823e-04,  2.68150726e-03,\n",
      "         2.60719890e-03,  4.82461601e-03,  1.09990679e-01,\n",
      "        -8.80295690e-03, -9.54203308e-03, -3.61787044e-02,\n",
      "         3.96417687e-03, -9.74869207e-02, -1.95641592e-02,\n",
      "        -7.50096515e-02,  4.18805368e-02,  2.44764122e-03,\n",
      "        -1.27678752e-01, -3.35208550e-02, -2.30705808e-03,\n",
      "         2.98393634e-03, -2.03461200e-01, -8.12864453e-02,\n",
      "         5.53837046e-03, -2.73125451e-02, -1.79780778e-02,\n",
      "        -1.15776230e-02, -1.54175326e-01, -5.02834562e-04,\n",
      "         2.04708859e-01,  2.50808578e-02, -1.34179369e-01,\n",
      "        -5.69209829e-03,  1.37558803e-01, -6.30733222e-02,\n",
      "        -1.95982473e-04, -7.11613223e-02,  1.28979981e-01,\n",
      "         1.21751495e-04, -1.52930967e-04, -7.01309368e-02,\n",
      "        -4.94883135e-02,  5.45077734e-02,  2.71683512e-03,\n",
      "        -2.49509281e-03,  1.39856543e-02, -6.55516924e-04,\n",
      "         8.64305422e-02, -8.37681741e-02,  9.45134088e-03,\n",
      "         1.26875371e-01,  1.58119887e-01,  1.04784435e-02,\n",
      "        -7.54423020e-03,  4.42698710e-02, -1.02543414e-01,\n",
      "         1.49309644e-02, -1.12277225e-01,  3.51619683e-02,\n",
      "        -1.05366372e-01, -5.46210669e-02, -8.42791274e-02,\n",
      "        -5.89033142e-02,  4.00881171e-02,  7.84763787e-03,\n",
      "         1.18179619e-01, -1.95689291e-01, -3.29087317e-01,\n",
      "        -8.68495554e-02,  1.10438336e-02, -5.41662704e-03,\n",
      "        -7.16680139e-02, -1.23021202e-02, -5.62623434e-04,\n",
      "        -9.76843107e-03, -2.37210438e-01, -1.24696511e-04,\n",
      "         1.03221595e-01, -1.87712848e-01,  3.56593315e-04,\n",
      "         2.14260723e-03, -3.96754406e-03],\n",
      "       [ 0.00000000e+00,  3.05270795e-02, -0.00000000e+00,\n",
      "        -0.00000000e+00,  0.00000000e+00,  2.06115052e-01,\n",
      "        -0.00000000e+00, -4.06683274e-02, -2.07248889e-02,\n",
      "         0.00000000e+00,  1.33651167e-01,  0.00000000e+00,\n",
      "         1.71846807e-01, -6.23669289e-02,  9.31652859e-02,\n",
      "         0.00000000e+00,  6.27532005e-02,  0.00000000e+00,\n",
      "        -0.00000000e+00,  0.00000000e+00, -5.07716322e-04,\n",
      "         1.66080952e-01,  0.00000000e+00,  0.00000000e+00,\n",
      "        -0.00000000e+00, -0.00000000e+00,  1.00769068e-03,\n",
      "         7.92123936e-03, -0.00000000e+00,  2.40934081e-02,\n",
      "        -0.00000000e+00,  9.71094705e-03,  0.00000000e+00,\n",
      "        -0.00000000e+00,  0.00000000e+00,  1.06771691e-02,\n",
      "         1.12935882e-02, -1.01714034e-03,  0.00000000e+00,\n",
      "         1.76984048e-03,  7.23441597e-03,  0.00000000e+00,\n",
      "        -3.14181410e-02,  1.98599976e-02,  0.00000000e+00,\n",
      "        -9.14500654e-03,  6.66440814e-04, -0.00000000e+00,\n",
      "        -0.00000000e+00, -1.24492100e-03, -6.69482339e-04,\n",
      "        -7.72361236e-05,  5.57015138e-03,  0.00000000e+00,\n",
      "        -8.32010340e-03, -0.00000000e+00, -4.81037609e-02,\n",
      "         0.00000000e+00, -1.27700374e-01, -2.44207531e-02,\n",
      "        -9.52011719e-02,  5.30177131e-02,  4.20488603e-03,\n",
      "        -0.00000000e+00, -0.00000000e+00, -1.41718239e-03,\n",
      "         3.54568893e-03, -0.00000000e+00, -1.05208106e-01,\n",
      "        -0.00000000e+00, -0.00000000e+00, -0.00000000e+00,\n",
      "        -1.43042970e-02, -0.00000000e+00,  0.00000000e+00,\n",
      "         0.00000000e+00,  0.00000000e+00, -1.67731196e-01,\n",
      "        -9.53324139e-04,  1.71756789e-01, -8.22321624e-02,\n",
      "         0.00000000e+00, -9.25217867e-02,  0.00000000e+00,\n",
      "        -4.06111125e-03,  1.28494331e-03, -0.00000000e+00,\n",
      "        -0.00000000e+00,  6.84638321e-02,  0.00000000e+00,\n",
      "        -3.44858505e-03,  0.00000000e+00, -6.64441788e-04,\n",
      "         0.00000000e+00, -1.04626350e-01,  0.00000000e+00,\n",
      "         0.00000000e+00,  0.00000000e+00,  0.00000000e+00,\n",
      "        -9.21785086e-03,  0.00000000e+00, -0.00000000e+00,\n",
      "         0.00000000e+00, -0.00000000e+00,  0.00000000e+00,\n",
      "        -1.34916976e-01, -0.00000000e+00, -1.07283376e-01,\n",
      "        -0.00000000e+00,  0.00000000e+00,  9.26172920e-03,\n",
      "         0.00000000e+00, -2.45005473e-01, -0.00000000e+00,\n",
      "        -1.11690365e-01,  7.19164452e-03, -0.00000000e+00,\n",
      "        -9.47724432e-02, -8.30957200e-03, -0.00000000e+00,\n",
      "        -0.00000000e+00, -2.96380699e-01, -5.84573136e-04,\n",
      "         1.36819109e-01, -0.00000000e+00, -0.00000000e+00,\n",
      "         2.99598905e-03, -0.00000000e+00],\n",
      "       [ 0.00000000e+00,  0.00000000e+00,  0.00000000e+00,\n",
      "        -0.00000000e+00, -0.00000000e+00,  0.00000000e+00,\n",
      "        -0.00000000e+00, -0.00000000e+00, -0.00000000e+00,\n",
      "         0.00000000e+00,  0.00000000e+00,  0.00000000e+00,\n",
      "         0.00000000e+00, -0.00000000e+00,  0.00000000e+00,\n",
      "         0.00000000e+00,  0.00000000e+00,  0.00000000e+00,\n",
      "        -0.00000000e+00,  0.00000000e+00, -0.00000000e+00,\n",
      "         0.00000000e+00,  0.00000000e+00,  0.00000000e+00,\n",
      "        -0.00000000e+00,  0.00000000e+00,  0.00000000e+00,\n",
      "         0.00000000e+00,  0.00000000e+00,  0.00000000e+00,\n",
      "        -0.00000000e+00,  0.00000000e+00,  0.00000000e+00,\n",
      "        -0.00000000e+00,  0.00000000e+00,  0.00000000e+00,\n",
      "         0.00000000e+00,  0.00000000e+00,  0.00000000e+00,\n",
      "        -0.00000000e+00,  0.00000000e+00, -0.00000000e+00,\n",
      "        -0.00000000e+00,  0.00000000e+00,  0.00000000e+00,\n",
      "        -0.00000000e+00,  0.00000000e+00, -0.00000000e+00,\n",
      "        -0.00000000e+00, -0.00000000e+00, -0.00000000e+00,\n",
      "        -0.00000000e+00,  0.00000000e+00,  0.00000000e+00,\n",
      "        -0.00000000e+00, -0.00000000e+00, -0.00000000e+00,\n",
      "         0.00000000e+00, -0.00000000e+00, -0.00000000e+00,\n",
      "        -0.00000000e+00,  0.00000000e+00,  0.00000000e+00,\n",
      "        -0.00000000e+00, -0.00000000e+00, -0.00000000e+00,\n",
      "         0.00000000e+00, -0.00000000e+00, -0.00000000e+00,\n",
      "        -0.00000000e+00, -0.00000000e+00, -0.00000000e+00,\n",
      "        -0.00000000e+00, -0.00000000e+00,  0.00000000e+00,\n",
      "         0.00000000e+00,  0.00000000e+00, -0.00000000e+00,\n",
      "         0.00000000e+00,  0.00000000e+00, -0.00000000e+00,\n",
      "         0.00000000e+00, -0.00000000e+00,  0.00000000e+00,\n",
      "        -0.00000000e+00,  0.00000000e+00, -0.00000000e+00,\n",
      "        -0.00000000e+00,  0.00000000e+00,  0.00000000e+00,\n",
      "        -0.00000000e+00,  0.00000000e+00, -0.00000000e+00,\n",
      "         0.00000000e+00, -0.00000000e+00,  0.00000000e+00,\n",
      "         0.00000000e+00,  0.00000000e+00,  0.00000000e+00,\n",
      "        -0.00000000e+00,  0.00000000e+00, -0.00000000e+00,\n",
      "         0.00000000e+00, -0.00000000e+00,  0.00000000e+00,\n",
      "        -0.00000000e+00, -0.00000000e+00, -0.00000000e+00,\n",
      "        -0.00000000e+00,  0.00000000e+00,  0.00000000e+00,\n",
      "         0.00000000e+00, -0.00000000e+00, -0.00000000e+00,\n",
      "        -0.00000000e+00,  0.00000000e+00,  0.00000000e+00,\n",
      "        -0.00000000e+00, -0.00000000e+00, -0.00000000e+00,\n",
      "         0.00000000e+00, -0.00000000e+00, -0.00000000e+00,\n",
      "         0.00000000e+00, -0.00000000e+00, -0.00000000e+00,\n",
      "         0.00000000e+00, -0.00000000e+00],\n",
      "       [ 0.00000000e+00,  0.00000000e+00,  0.00000000e+00,\n",
      "         0.00000000e+00,  0.00000000e+00,  0.00000000e+00,\n",
      "         0.00000000e+00,  0.00000000e+00,  0.00000000e+00,\n",
      "         0.00000000e+00,  0.00000000e+00,  0.00000000e+00,\n",
      "         0.00000000e+00,  0.00000000e+00,  0.00000000e+00,\n",
      "         0.00000000e+00,  0.00000000e+00,  0.00000000e+00,\n",
      "         0.00000000e+00,  0.00000000e+00,  0.00000000e+00,\n",
      "         0.00000000e+00,  0.00000000e+00,  0.00000000e+00,\n",
      "         0.00000000e+00,  0.00000000e+00,  0.00000000e+00,\n",
      "         0.00000000e+00,  0.00000000e+00,  0.00000000e+00,\n",
      "         0.00000000e+00,  0.00000000e+00,  0.00000000e+00,\n",
      "         0.00000000e+00,  0.00000000e+00,  0.00000000e+00,\n",
      "         0.00000000e+00,  0.00000000e+00,  0.00000000e+00,\n",
      "         0.00000000e+00,  0.00000000e+00,  0.00000000e+00,\n",
      "         0.00000000e+00,  0.00000000e+00,  0.00000000e+00,\n",
      "         0.00000000e+00,  0.00000000e+00,  0.00000000e+00,\n",
      "         0.00000000e+00,  0.00000000e+00,  0.00000000e+00,\n",
      "         0.00000000e+00,  0.00000000e+00,  0.00000000e+00,\n",
      "         0.00000000e+00,  0.00000000e+00,  0.00000000e+00,\n",
      "         0.00000000e+00,  0.00000000e+00,  0.00000000e+00,\n",
      "         0.00000000e+00,  0.00000000e+00,  0.00000000e+00,\n",
      "         0.00000000e+00,  0.00000000e+00,  0.00000000e+00,\n",
      "         0.00000000e+00,  0.00000000e+00,  0.00000000e+00,\n",
      "         0.00000000e+00,  0.00000000e+00,  0.00000000e+00,\n",
      "         0.00000000e+00,  0.00000000e+00,  0.00000000e+00,\n",
      "         0.00000000e+00,  0.00000000e+00,  0.00000000e+00,\n",
      "         0.00000000e+00,  0.00000000e+00,  0.00000000e+00,\n",
      "         0.00000000e+00,  0.00000000e+00,  0.00000000e+00,\n",
      "         0.00000000e+00,  0.00000000e+00,  0.00000000e+00,\n",
      "         0.00000000e+00,  0.00000000e+00,  0.00000000e+00,\n",
      "         0.00000000e+00,  0.00000000e+00,  0.00000000e+00,\n",
      "         0.00000000e+00,  0.00000000e+00,  0.00000000e+00,\n",
      "         0.00000000e+00,  0.00000000e+00,  0.00000000e+00,\n",
      "         0.00000000e+00,  0.00000000e+00,  0.00000000e+00,\n",
      "         0.00000000e+00,  0.00000000e+00,  0.00000000e+00,\n",
      "         0.00000000e+00,  0.00000000e+00,  0.00000000e+00,\n",
      "         0.00000000e+00,  0.00000000e+00,  0.00000000e+00,\n",
      "         0.00000000e+00,  0.00000000e+00,  0.00000000e+00,\n",
      "         0.00000000e+00,  0.00000000e+00,  0.00000000e+00,\n",
      "         0.00000000e+00,  0.00000000e+00,  0.00000000e+00,\n",
      "         0.00000000e+00,  0.00000000e+00,  0.00000000e+00,\n",
      "         0.00000000e+00,  0.00000000e+00,  0.00000000e+00,\n",
      "         0.00000000e+00,  0.00000000e+00],\n",
      "       [ 0.00000000e+00,  0.00000000e+00,  0.00000000e+00,\n",
      "         0.00000000e+00,  0.00000000e+00,  0.00000000e+00,\n",
      "         0.00000000e+00,  0.00000000e+00,  0.00000000e+00,\n",
      "         0.00000000e+00,  0.00000000e+00,  0.00000000e+00,\n",
      "         0.00000000e+00,  0.00000000e+00,  0.00000000e+00,\n",
      "         0.00000000e+00,  0.00000000e+00,  0.00000000e+00,\n",
      "         0.00000000e+00,  0.00000000e+00,  0.00000000e+00,\n",
      "         0.00000000e+00,  0.00000000e+00,  0.00000000e+00,\n",
      "         0.00000000e+00,  0.00000000e+00,  0.00000000e+00,\n",
      "         0.00000000e+00,  0.00000000e+00,  0.00000000e+00,\n",
      "         0.00000000e+00,  0.00000000e+00,  0.00000000e+00,\n",
      "         0.00000000e+00,  0.00000000e+00,  0.00000000e+00,\n",
      "         0.00000000e+00,  0.00000000e+00,  0.00000000e+00,\n",
      "         0.00000000e+00,  0.00000000e+00,  0.00000000e+00,\n",
      "         0.00000000e+00,  0.00000000e+00,  0.00000000e+00,\n",
      "         0.00000000e+00,  0.00000000e+00,  0.00000000e+00,\n",
      "         0.00000000e+00,  0.00000000e+00,  0.00000000e+00,\n",
      "         0.00000000e+00,  0.00000000e+00,  0.00000000e+00,\n",
      "         0.00000000e+00,  0.00000000e+00,  0.00000000e+00,\n",
      "         0.00000000e+00,  0.00000000e+00,  0.00000000e+00,\n",
      "         0.00000000e+00,  0.00000000e+00,  0.00000000e+00,\n",
      "         0.00000000e+00,  0.00000000e+00,  0.00000000e+00,\n",
      "         0.00000000e+00,  0.00000000e+00,  0.00000000e+00,\n",
      "         0.00000000e+00,  0.00000000e+00,  0.00000000e+00,\n",
      "         0.00000000e+00,  0.00000000e+00,  0.00000000e+00,\n",
      "         0.00000000e+00,  0.00000000e+00,  0.00000000e+00,\n",
      "         0.00000000e+00,  0.00000000e+00,  0.00000000e+00,\n",
      "         0.00000000e+00,  0.00000000e+00,  0.00000000e+00,\n",
      "         0.00000000e+00,  0.00000000e+00,  0.00000000e+00,\n",
      "         0.00000000e+00,  0.00000000e+00,  0.00000000e+00,\n",
      "         0.00000000e+00,  0.00000000e+00,  0.00000000e+00,\n",
      "         0.00000000e+00,  0.00000000e+00,  0.00000000e+00,\n",
      "         0.00000000e+00,  0.00000000e+00,  0.00000000e+00,\n",
      "         0.00000000e+00,  0.00000000e+00,  0.00000000e+00,\n",
      "         0.00000000e+00,  0.00000000e+00,  0.00000000e+00,\n",
      "         0.00000000e+00,  0.00000000e+00,  0.00000000e+00,\n",
      "         0.00000000e+00,  0.00000000e+00,  0.00000000e+00,\n",
      "         0.00000000e+00,  0.00000000e+00,  0.00000000e+00,\n",
      "         0.00000000e+00,  0.00000000e+00,  0.00000000e+00,\n",
      "         0.00000000e+00,  0.00000000e+00,  0.00000000e+00,\n",
      "         0.00000000e+00,  0.00000000e+00,  0.00000000e+00,\n",
      "         0.00000000e+00,  0.00000000e+00,  0.00000000e+00,\n",
      "         0.00000000e+00,  0.00000000e+00],\n",
      "       [ 0.00000000e+00,  0.00000000e+00,  0.00000000e+00,\n",
      "         0.00000000e+00,  0.00000000e+00,  0.00000000e+00,\n",
      "         0.00000000e+00,  0.00000000e+00,  0.00000000e+00,\n",
      "         0.00000000e+00,  0.00000000e+00,  0.00000000e+00,\n",
      "         0.00000000e+00,  0.00000000e+00,  0.00000000e+00,\n",
      "         0.00000000e+00,  0.00000000e+00,  0.00000000e+00,\n",
      "         0.00000000e+00,  0.00000000e+00,  0.00000000e+00,\n",
      "         0.00000000e+00,  0.00000000e+00,  0.00000000e+00,\n",
      "         0.00000000e+00,  0.00000000e+00,  0.00000000e+00,\n",
      "         0.00000000e+00,  0.00000000e+00,  0.00000000e+00,\n",
      "         0.00000000e+00,  0.00000000e+00,  0.00000000e+00,\n",
      "         0.00000000e+00,  0.00000000e+00,  0.00000000e+00,\n",
      "         0.00000000e+00,  0.00000000e+00,  0.00000000e+00,\n",
      "         0.00000000e+00,  0.00000000e+00,  0.00000000e+00,\n",
      "         0.00000000e+00,  0.00000000e+00,  0.00000000e+00,\n",
      "         0.00000000e+00,  0.00000000e+00,  0.00000000e+00,\n",
      "         0.00000000e+00,  0.00000000e+00,  0.00000000e+00,\n",
      "         0.00000000e+00,  0.00000000e+00,  0.00000000e+00,\n",
      "         0.00000000e+00,  0.00000000e+00,  0.00000000e+00,\n",
      "         0.00000000e+00,  0.00000000e+00,  0.00000000e+00,\n",
      "         0.00000000e+00,  0.00000000e+00,  0.00000000e+00,\n",
      "         0.00000000e+00,  0.00000000e+00,  0.00000000e+00,\n",
      "         0.00000000e+00,  0.00000000e+00,  0.00000000e+00,\n",
      "         0.00000000e+00,  0.00000000e+00,  0.00000000e+00,\n",
      "         0.00000000e+00,  0.00000000e+00,  0.00000000e+00,\n",
      "         0.00000000e+00,  0.00000000e+00,  0.00000000e+00,\n",
      "         0.00000000e+00,  0.00000000e+00,  0.00000000e+00,\n",
      "         0.00000000e+00,  0.00000000e+00,  0.00000000e+00,\n",
      "         0.00000000e+00,  0.00000000e+00,  0.00000000e+00,\n",
      "         0.00000000e+00,  0.00000000e+00,  0.00000000e+00,\n",
      "         0.00000000e+00,  0.00000000e+00,  0.00000000e+00,\n",
      "         0.00000000e+00,  0.00000000e+00,  0.00000000e+00,\n",
      "         0.00000000e+00,  0.00000000e+00,  0.00000000e+00,\n",
      "         0.00000000e+00,  0.00000000e+00,  0.00000000e+00,\n",
      "         0.00000000e+00,  0.00000000e+00,  0.00000000e+00,\n",
      "         0.00000000e+00,  0.00000000e+00,  0.00000000e+00,\n",
      "         0.00000000e+00,  0.00000000e+00,  0.00000000e+00,\n",
      "         0.00000000e+00,  0.00000000e+00,  0.00000000e+00,\n",
      "         0.00000000e+00,  0.00000000e+00,  0.00000000e+00,\n",
      "         0.00000000e+00,  0.00000000e+00,  0.00000000e+00,\n",
      "         0.00000000e+00,  0.00000000e+00,  0.00000000e+00,\n",
      "         0.00000000e+00,  0.00000000e+00,  0.00000000e+00,\n",
      "         0.00000000e+00,  0.00000000e+00]], dtype=float32)}}, 'layers_2': {'Dense_0': {'bias': Array([-3.74843068e-02,  2.84224302e-02,  9.59849507e-02,  8.48681293e-03,\n",
      "        4.25974019e-02, -7.66516328e-02, -5.28298989e-02, -1.04528941e-01,\n",
      "       -8.82124379e-02,  5.89009933e-02,  4.28219140e-03, -2.19295751e-02,\n",
      "       -5.21974489e-02,  8.77184421e-03,  4.35307175e-02,  1.95605010e-02,\n",
      "       -2.05987319e-03, -1.43185835e-02,  1.26220211e-02, -7.32418373e-02,\n",
      "        1.11779151e-02, -8.41509476e-02, -2.98125800e-02,  6.84825005e-03,\n",
      "       -1.18696159e-02,  4.11525480e-02, -2.02069674e-02,  9.03436467e-02,\n",
      "       -5.80626987e-02,  1.90571547e-01,  3.17611657e-02,  1.60934895e-01,\n",
      "        1.18113935e-01,  1.03533221e-02, -1.01468395e-02,  5.58495894e-03,\n",
      "       -2.13778950e-02,  1.12872813e-02,  2.29135007e-02,  1.13011166e-01,\n",
      "       -8.15587938e-02,  7.79943690e-02, -4.97950315e-02, -6.89033866e-02,\n",
      "        1.19089698e-02, -5.69687746e-02,  7.78322220e-02, -4.36020382e-02,\n",
      "        2.17815768e-02, -9.18012857e-02,  9.76981744e-02, -1.01622395e-01,\n",
      "       -3.54022905e-02,  5.44736581e-03, -2.04402898e-02, -3.00982222e-02,\n",
      "       -6.15218189e-04, -4.63110255e-03, -8.48818794e-02,  7.42051601e-02,\n",
      "       -2.67140544e-03, -8.37201998e-02,  6.27360344e-02,  3.47318463e-02,\n",
      "        4.74067219e-02,  1.22312214e-02,  2.11859271e-02, -6.89838380e-02,\n",
      "       -1.20343606e-03,  2.64851712e-02, -2.18157433e-02,  9.23852101e-02,\n",
      "       -2.45265514e-02, -4.27982099e-02,  2.61413381e-02,  1.66842192e-02,\n",
      "        4.36657481e-02,  1.21747062e-01,  1.99779272e-02,  9.60520376e-03,\n",
      "        3.56445983e-02, -2.29097381e-02,  3.28430012e-02,  2.04205494e-02,\n",
      "       -5.61894067e-02,  5.16530164e-02, -1.60285123e-02, -2.94543765e-02,\n",
      "        5.51411174e-02,  8.62547848e-03, -2.44783256e-02, -2.37571429e-02,\n",
      "       -5.82352690e-02, -9.22869593e-02, -3.47343311e-02,  1.86001454e-02,\n",
      "        4.40921262e-02, -2.73535610e-03, -9.41725634e-03, -3.81912254e-02,\n",
      "       -1.72523540e-02,  1.01109870e-01, -8.58474970e-02,  1.24291419e-05,\n",
      "       -6.84967488e-02,  4.91723493e-02, -3.94152366e-02,  4.07285951e-02,\n",
      "       -3.50170373e-03, -4.44403142e-02, -5.45955487e-02, -3.26986499e-02,\n",
      "       -9.29959863e-02,  1.04854144e-01, -3.10901497e-02, -2.92563587e-02,\n",
      "       -1.05074868e-02,  2.08601952e-02,  3.93337309e-02,  5.21833077e-02,\n",
      "       -1.89241171e-02, -3.86253223e-02, -1.00708246e-01,  1.49649279e-02,\n",
      "        3.12563404e-02,  1.60666257e-02, -8.75350013e-02, -5.03610745e-02],      dtype=float32), 'kernel': Array([[ 0.006827  , -0.00419951, -0.01786021, ..., -0.00233568,\n",
      "         0.01587576,  0.00941057],\n",
      "       [ 0.00347932, -0.00263311, -0.00891149, ..., -0.        ,\n",
      "         0.00812489,  0.        ],\n",
      "       [ 0.00401727, -0.00254342, -0.01040026, ..., -0.00171813,\n",
      "         0.00923784,  0.00539187],\n",
      "       ...,\n",
      "       [ 0.00541189, -0.00338804, -0.01405545, ..., -0.0021814 ,\n",
      "         0.01248214,  0.00731998],\n",
      "       [ 0.00856508, -0.00639078, -0.02194158, ..., -0.        ,\n",
      "         0.01995301,  0.        ],\n",
      "       [ 0.00361529, -0.00228415, -0.00935516, ..., -0.00156639,\n",
      "         0.00830476,  0.00484366]], dtype=float32)}}, 'layers_4': {'Dense_0': {'bias': Array([1.0587912e-21, 4.0900843e-05, 1.1515204e-03, 1.0000000e+00,\n",
      "       1.0000000e+00, 9.9999982e-01], dtype=float32), 'kernel': Array([[-0.00000000e+00,  0.00000000e+00, -6.59329002e-04,\n",
      "         0.00000000e+00,  0.00000000e+00,  4.04469699e-01],\n",
      "       [-0.00000000e+00,  0.00000000e+00, -2.80562323e-04,\n",
      "        -0.00000000e+00, -0.00000000e+00, -6.61116317e-02],\n",
      "       [-0.00000000e+00,  0.00000000e+00, -6.01456733e-04,\n",
      "         0.00000000e+00,  0.00000000e+00,  3.54820043e-01],\n",
      "       [-0.00000000e+00,  1.32964138e-04, -4.27906140e-04,\n",
      "        -0.00000000e+00, -1.66531488e-01, -1.66564152e-01],\n",
      "       [-0.00000000e+00,  4.43672470e-05, -1.69397099e-04,\n",
      "        -0.00000000e+00, -3.07308119e-02, -3.04169841e-02],\n",
      "       [-0.00000000e+00,  4.15910581e-05, -7.29576059e-05,\n",
      "        -0.00000000e+00, -1.08943917e-01, -1.09697282e-01],\n",
      "       [ 0.00000000e+00, -1.52779849e-05,  7.85580050e-05,\n",
      "        -0.00000000e+00, -8.06726236e-03, -8.42053816e-03],\n",
      "       [-0.00000000e+00,  1.95752655e-04, -1.40727055e-03,\n",
      "         0.00000000e+00,  5.48904300e-01,  5.58818758e-01],\n",
      "       [-0.00000000e+00,  0.00000000e+00, -2.13049562e-03,\n",
      "         0.00000000e+00,  0.00000000e+00,  8.06629241e-01],\n",
      "       [-0.00000000e+00,  1.31748111e-05, -5.53397294e-05,\n",
      "        -0.00000000e+00, -6.62103528e-03, -6.48168428e-03],\n",
      "       [ 0.00000000e+00, -0.00000000e+00,  4.33188252e-04,\n",
      "         0.00000000e+00,  0.00000000e+00,  1.25387982e-01],\n",
      "       [-0.00000000e+00,  0.00000000e+00, -1.74779518e-04,\n",
      "        -0.00000000e+00, -0.00000000e+00, -1.34415999e-01],\n",
      "       [-0.00000000e+00,  0.00000000e+00, -1.88880425e-03,\n",
      "         0.00000000e+00,  0.00000000e+00,  6.16694212e-01],\n",
      "       [-0.00000000e+00,  0.00000000e+00, -1.66588405e-04,\n",
      "        -0.00000000e+00, -0.00000000e+00, -9.05526988e-03],\n",
      "       [-0.00000000e+00,  1.14131122e-04, -8.30661622e-04,\n",
      "         0.00000000e+00,  3.25656325e-01,  3.31533998e-01],\n",
      "       [ 0.00000000e+00,  0.00000000e+00,  1.31295410e-05,\n",
      "        -0.00000000e+00, -0.00000000e+00, -1.24373183e-01],\n",
      "       [ 0.00000000e+00, -2.97209517e-05,  1.90686042e-04,\n",
      "        -0.00000000e+00, -5.70385978e-02, -5.82296960e-02],\n",
      "       [-0.00000000e+00,  0.00000000e+00, -3.63659165e-05,\n",
      "        -0.00000000e+00, -0.00000000e+00, -1.29711717e-01],\n",
      "       [ 0.00000000e+00, -0.00000000e+00,  7.58473543e-05,\n",
      "         0.00000000e+00,  0.00000000e+00,  1.07998155e-01],\n",
      "       [ 0.00000000e+00, -0.00000000e+00,  1.06518230e-04,\n",
      "         0.00000000e+00,  0.00000000e+00,  3.78149629e-01],\n",
      "       [-0.00000000e+00,  0.00000000e+00,  1.32077941e-04,\n",
      "        -0.00000000e+00, -0.00000000e+00, -5.72670810e-02],\n",
      "       [ 0.00000000e+00, -6.63014461e-08,  2.92500754e-05,\n",
      "        -0.00000000e+00, -2.58714017e-02, -2.62177065e-02],\n",
      "       [-0.00000000e+00,  1.41898408e-05, -3.52944994e-06,\n",
      "        -0.00000000e+00, -5.65426014e-02, -5.70563637e-02],\n",
      "       [-0.00000000e+00,  1.64777346e-04, -5.68186457e-04,\n",
      "        -0.00000000e+00, -1.66998044e-01, -1.66548178e-01],\n",
      "       [ 0.00000000e+00, -5.50122058e-06,  1.30861023e-04,\n",
      "        -0.00000000e+00, -1.05942667e-01, -1.07372358e-01],\n",
      "       [ 0.00000000e+00, -0.00000000e+00,  5.97396547e-06,\n",
      "         0.00000000e+00,  0.00000000e+00,  1.13188289e-02],\n",
      "       [-0.00000000e+00,  0.00000000e+00, -1.34377391e-03,\n",
      "         0.00000000e+00,  0.00000000e+00,  1.32797289e+00],\n",
      "       [-0.00000000e+00,  4.94476350e-04, -3.31100728e-03,\n",
      "         0.00000000e+00,  1.13122845e+00,  1.15310431e+00],\n",
      "       [-0.00000000e+00,  1.22764150e-05, -1.70620537e-04,\n",
      "         0.00000000e+00,  1.21165112e-01,  1.22860648e-01],\n",
      "       [-0.00000000e+00,  1.04743609e-04, -8.21545429e-04,\n",
      "         0.00000000e+00,  3.58417928e-01,  3.64564449e-01],\n",
      "       [-0.00000000e+00,  1.99052185e-04, -1.32742594e-03,\n",
      "         0.00000000e+00,  4.48251545e-01,  4.56977159e-01],\n",
      "       [-0.00000000e+00,  2.43797285e-06, -1.19438351e-04,\n",
      "         0.00000000e+00,  1.07032679e-01,  1.08435072e-01],\n",
      "       [ 0.00000000e+00, -1.51437807e-05, -4.12093577e-05,\n",
      "         0.00000000e+00,  1.06714502e-01,  1.07842207e-01],\n",
      "       [ 0.00000000e+00, -0.00000000e+00,  1.70004831e-04,\n",
      "         0.00000000e+00,  0.00000000e+00,  8.85904506e-02],\n",
      "       [-0.00000000e+00,  8.95030826e-05, -2.36444816e-04,\n",
      "        -0.00000000e+00, -1.60219729e-01, -1.60871044e-01],\n",
      "       [-0.00000000e+00,  0.00000000e+00, -4.58332652e-04,\n",
      "        -0.00000000e+00, -0.00000000e+00, -1.76166594e-01],\n",
      "       [ 0.00000000e+00, -0.00000000e+00,  1.13075730e-04,\n",
      "        -0.00000000e+00, -0.00000000e+00, -1.28691986e-01],\n",
      "       [-0.00000000e+00,  0.00000000e+00, -4.43349563e-04,\n",
      "        -0.00000000e+00, -0.00000000e+00, -1.91322520e-01],\n",
      "       [-0.00000000e+00,  0.00000000e+00, -1.41250691e-03,\n",
      "         0.00000000e+00,  0.00000000e+00,  3.62325221e-01],\n",
      "       [-0.00000000e+00,  4.51960523e-06, -9.84947110e-05,\n",
      "         0.00000000e+00,  7.61927515e-02,  7.72403851e-02],\n",
      "       [-0.00000000e+00, -1.23786629e-06, -1.04767591e-04,\n",
      "         0.00000000e+00,  1.14223197e-01,  1.15628324e-01],\n",
      "       [-0.00000000e+00,  0.00000000e+00, -1.76837295e-03,\n",
      "         0.00000000e+00,  0.00000000e+00,  8.54992568e-01],\n",
      "       [ 0.00000000e+00, -3.87626387e-05,  1.91441286e-04,\n",
      "        -0.00000000e+00, -1.50952544e-02, -1.59092676e-02],\n",
      "       [ 0.00000000e+00, -8.02828872e-05,  4.42672812e-04,\n",
      "        -0.00000000e+00, -8.39823633e-02, -8.62987339e-02],\n",
      "       [-0.00000000e+00,  1.97967784e-05, -2.37057302e-05,\n",
      "        -0.00000000e+00, -6.83541372e-02, -6.88904822e-02],\n",
      "       [-0.00000000e+00,  1.42491161e-04, -8.83934612e-04,\n",
      "         0.00000000e+00,  2.57106990e-01,  2.62530982e-01],\n",
      "       [ 0.00000000e+00, -8.07092729e-05,  2.00094248e-04,\n",
      "         0.00000000e+00,  1.58418685e-01,  1.59177914e-01],\n",
      "       [ 0.00000000e+00, -1.38741589e-05,  1.09596222e-04,\n",
      "        -0.00000000e+00, -4.51868884e-02, -4.59895208e-02],\n",
      "       [-0.00000000e+00,  4.64459117e-05, -6.27472182e-05,\n",
      "        -0.00000000e+00, -1.46331757e-01, -1.47451669e-01],\n",
      "       [-0.00000000e+00,  4.10565845e-05, -1.90737745e-04,\n",
      "         0.00000000e+00,  1.21649830e-02,  1.29319457e-02],\n",
      "       [-0.00000000e+00,  1.20514465e-04, -7.01372279e-04,\n",
      "         0.00000000e+00,  1.66552082e-01,  1.70521408e-01],\n",
      "       [-0.00000000e+00,  4.19092539e-05, -1.13452828e-04,\n",
      "        -0.00000000e+00, -7.01766163e-02, -7.04322234e-02],\n",
      "       [-0.00000000e+00,  1.40207680e-06, -4.54645196e-05,\n",
      "         0.00000000e+00,  4.24242578e-02,  4.29651253e-02],\n",
      "       [-0.00000000e+00,  0.00000000e+00, -9.87930689e-04,\n",
      "        -0.00000000e+00, -0.00000000e+00, -1.37106329e-01],\n",
      "       [-0.00000000e+00,  0.00000000e+00, -5.96869795e-04,\n",
      "        -0.00000000e+00, -0.00000000e+00, -1.66579127e-01],\n",
      "       [-0.00000000e+00,  0.00000000e+00, -1.38059538e-03,\n",
      "         0.00000000e+00,  0.00000000e+00,  9.17272568e-01],\n",
      "       [-0.00000000e+00,  0.00000000e+00, -1.42980585e-04,\n",
      "        -0.00000000e+00, -0.00000000e+00, -1.71409115e-01],\n",
      "       [-0.00000000e+00,  0.00000000e+00, -3.14822560e-03,\n",
      "         0.00000000e+00,  0.00000000e+00,  1.10846162e+00],\n",
      "       [-0.00000000e+00,  0.00000000e+00, -2.10926495e-03,\n",
      "         0.00000000e+00,  0.00000000e+00,  9.86239493e-01],\n",
      "       [ 0.00000000e+00, -0.00000000e+00,  2.00018549e-04,\n",
      "        -0.00000000e+00, -0.00000000e+00, -1.04372695e-01],\n",
      "       [-0.00000000e+00,  9.22370236e-06,  3.68108849e-05,\n",
      "        -0.00000000e+00, -7.59290755e-02, -7.67588392e-02],\n",
      "       [ 0.00000000e+00, -2.18682926e-05,  1.45961094e-04,\n",
      "        -0.00000000e+00, -4.76671942e-02, -4.86155339e-02],\n",
      "       [-0.00000000e+00,  6.36863115e-05, -1.38423988e-04,\n",
      "        -0.00000000e+00, -1.49759755e-01, -1.50642261e-01],\n",
      "       [-0.00000000e+00,  0.00000000e+00, -9.19465325e-04,\n",
      "         0.00000000e+00,  0.00000000e+00,  4.62161005e-01],\n",
      "       [-0.00000000e+00,  1.49183135e-04, -1.34085608e-03,\n",
      "         0.00000000e+00,  6.86296284e-01,  6.97248697e-01],\n",
      "       [-0.00000000e+00,  0.00000000e+00, -2.34998210e-04,\n",
      "         0.00000000e+00,  0.00000000e+00,  1.30034909e-01],\n",
      "       [-0.00000000e+00,  1.44251127e-04, -1.02315901e-03,\n",
      "         0.00000000e+00,  3.86742383e-01,  3.93845707e-01],\n",
      "       [-0.00000000e+00,  0.00000000e+00, -4.54585504e-04,\n",
      "         0.00000000e+00,  0.00000000e+00,  2.18720496e-01],\n",
      "       [ 0.00000000e+00, -0.00000000e+00,  3.18871636e-04,\n",
      "        -0.00000000e+00, -0.00000000e+00, -3.49487625e-02],\n",
      "       [-0.00000000e+00,  2.92948884e-04, -1.89463946e-03,\n",
      "         0.00000000e+00,  5.99995494e-01,  6.12085104e-01],\n",
      "       [-0.00000000e+00,  1.91698127e-04, -6.90217945e-04,\n",
      "        -0.00000000e+00, -1.59069166e-01, -1.58134028e-01],\n",
      "       [-0.00000000e+00,  9.08574730e-05, -5.65936789e-04,\n",
      "         0.00000000e+00,  1.62105963e-01,  1.65564880e-01],\n",
      "       [-0.00000000e+00,  1.39791373e-04, -4.58433002e-04,\n",
      "        -0.00000000e+00, -1.60059795e-01, -1.59940720e-01],\n",
      "       [ 0.00000000e+00, -0.00000000e+00, -1.39302807e-04,\n",
      "         0.00000000e+00,  0.00000000e+00,  4.42903906e-01],\n",
      "       [ 0.00000000e+00, -0.00000000e+00,  5.32073318e-04,\n",
      "        -0.00000000e+00, -0.00000000e+00, -6.09600544e-02],\n",
      "       [-0.00000000e+00,  3.82473336e-05, -2.20254238e-04,\n",
      "         0.00000000e+00,  4.98629734e-02,  5.10885157e-02],\n",
      "       [-0.00000000e+00,  0.00000000e+00, -7.19540170e-04,\n",
      "         0.00000000e+00,  0.00000000e+00,  7.17822373e-01],\n",
      "       [-0.00000000e+00,  1.51479850e-04, -1.27651368e-03,\n",
      "         0.00000000e+00,  6.08896554e-01,  6.18920326e-01],\n",
      "       [-0.00000000e+00,  0.00000000e+00, -6.19808270e-04,\n",
      "         0.00000000e+00,  0.00000000e+00,  2.24776715e-01],\n",
      "       [ 0.00000000e+00,  0.00000000e+00,  1.73536228e-05,\n",
      "        -0.00000000e+00, -0.00000000e+00, -3.49289253e-02],\n",
      "       [-0.00000000e+00,  0.00000000e+00,  6.92922767e-05,\n",
      "        -0.00000000e+00, -0.00000000e+00, -9.56007093e-02],\n",
      "       [-0.00000000e+00,  6.53717279e-06, -2.33413026e-04,\n",
      "         0.00000000e+00,  2.09238902e-01,  2.11962551e-01],\n",
      "       [-0.00000000e+00,  1.23364691e-04, -3.89734458e-04,\n",
      "        -0.00000000e+00, -1.61493421e-01, -1.61613882e-01],\n",
      "       [-0.00000000e+00,  3.17766280e-05, -1.12174937e-04,\n",
      "        -0.00000000e+00, -3.16738412e-02, -3.15685496e-02],\n",
      "       [-0.00000000e+00,  1.63749173e-05, -9.31101749e-05,\n",
      "         0.00000000e+00,  2.28639469e-02,  2.33924314e-02],\n",
      "       [ 0.00000000e+00, -2.23384689e-07,  1.06746200e-04,\n",
      "        -0.00000000e+00, -1.09014526e-01, -1.10380225e-01],\n",
      "       [-0.00000000e+00,  0.00000000e+00, -2.97358318e-04,\n",
      "        -0.00000000e+00, -0.00000000e+00, -1.50683567e-01],\n",
      "       [-0.00000000e+00,  4.50379339e-05, -1.14303039e-04,\n",
      "        -0.00000000e+00, -8.31092373e-02, -8.34809542e-02],\n",
      "       [-0.00000000e+00,  0.00000000e+00, -5.11568214e-04,\n",
      "         0.00000000e+00,  0.00000000e+00,  4.01259273e-01],\n",
      "       [-0.00000000e+00,  1.21761943e-04, -8.45417730e-04,\n",
      "         0.00000000e+00,  3.07422221e-01,  3.13181698e-01],\n",
      "       [-0.00000000e+00,  0.00000000e+00,  1.80450752e-05,\n",
      "        -0.00000000e+00, -0.00000000e+00, -3.25567685e-02],\n",
      "       [-0.00000000e+00,  8.25319512e-05, -2.07841222e-04,\n",
      "        -0.00000000e+00, -1.56535566e-01, -1.57255501e-01],\n",
      "       [ 0.00000000e+00, -6.30959767e-05,  5.23690760e-05,\n",
      "         0.00000000e+00,  2.33029872e-01,  2.34977171e-01],\n",
      "       [-0.00000000e+00,  0.00000000e+00, -3.72340297e-03,\n",
      "         0.00000000e+00,  0.00000000e+00,  2.93907523e+00],\n",
      "       [-0.00000000e+00,  7.01502286e-05, -1.61934659e-04,\n",
      "        -0.00000000e+00, -1.48825467e-01, -1.49631202e-01],\n",
      "       [-0.00000000e+00,  5.26532313e-05, -9.82858546e-05,\n",
      "        -0.00000000e+00, -1.40031919e-01, -1.40966609e-01],\n",
      "       [-0.00000000e+00,  0.00000000e+00, -2.43516709e-03,\n",
      "         0.00000000e+00,  0.00000000e+00,  7.68285215e-01],\n",
      "       [-0.00000000e+00,  6.87886404e-06, -5.20554713e-05,\n",
      "         0.00000000e+00,  2.41672806e-02,  2.45645046e-02],\n",
      "       [-0.00000000e+00,  0.00000000e+00, -1.13217789e-03,\n",
      "        -0.00000000e+00, -0.00000000e+00, -1.02559872e-01],\n",
      "       [ 0.00000000e+00, -0.00000000e+00, -4.91414976e-05,\n",
      "         0.00000000e+00,  0.00000000e+00,  3.74134511e-01],\n",
      "       [-0.00000000e+00, -0.00000000e+00, -1.43078374e-04,\n",
      "         0.00000000e+00,  0.00000000e+00,  3.71553041e-02],\n",
      "       [-0.00000000e+00,  0.00000000e+00, -5.69768483e-04,\n",
      "         0.00000000e+00,  0.00000000e+00,  3.09419204e-02],\n",
      "       [-0.00000000e+00,  0.00000000e+00, -2.92255403e-03,\n",
      "         0.00000000e+00,  0.00000000e+00,  1.53646553e+00],\n",
      "       [-0.00000000e+00,  0.00000000e+00, -5.79533116e-05,\n",
      "         0.00000000e+00,  0.00000000e+00,  8.47262330e-03],\n",
      "       [-0.00000000e+00,  0.00000000e+00, -1.11237890e-03,\n",
      "         0.00000000e+00,  0.00000000e+00,  5.68049192e-01],\n",
      "       [-0.00000000e+00,  0.00000000e+00, -2.11661588e-03,\n",
      "         0.00000000e+00,  0.00000000e+00,  5.34057677e-01],\n",
      "       [-0.00000000e+00,  1.69492516e-04, -1.31241686e-03,\n",
      "         0.00000000e+00,  5.71893215e-01,  5.81686199e-01],\n",
      "       [ 0.00000000e+00, -0.00000000e+00,  2.07910794e-04,\n",
      "         0.00000000e+00,  0.00000000e+00,  2.61353076e-01],\n",
      "       [-0.00000000e+00,  2.26890450e-04, -8.54820304e-04,\n",
      "        -0.00000000e+00, -1.51434600e-01, -1.49855196e-01],\n",
      "       [-0.00000000e+00,  0.00000000e+00, -1.74857036e-04,\n",
      "        -0.00000000e+00, -0.00000000e+00, -7.37140849e-02],\n",
      "       [-0.00000000e+00,  1.87481182e-05,  5.74636033e-05,\n",
      "        -0.00000000e+00, -1.39790013e-01, -1.41276345e-01],\n",
      "       [-0.00000000e+00,  0.00000000e+00, -1.28153723e-03,\n",
      "         0.00000000e+00,  0.00000000e+00,  5.81881642e-01],\n",
      "       [ 0.00000000e+00, -9.21410465e-05,  3.88942717e-04,\n",
      "         0.00000000e+00,  2.32360382e-02,  2.20898390e-02],\n",
      "       [-0.00000000e+00,  1.83190728e-04, -1.08485622e-03,\n",
      "         0.00000000e+00,  2.71921664e-01,  2.78192669e-01],\n",
      "       [-0.00000000e+00,  0.00000000e+00, -2.03683856e-04,\n",
      "        -0.00000000e+00, -0.00000000e+00, -1.59474507e-01],\n",
      "       [ 0.00000000e+00, -0.00000000e+00,  3.05801863e-04,\n",
      "         0.00000000e+00,  0.00000000e+00,  2.42113620e-01],\n",
      "       [-0.00000000e+00,  0.00000000e+00, -5.11522347e-04,\n",
      "        -0.00000000e+00, -0.00000000e+00, -1.76098511e-01],\n",
      "       [ 0.00000000e+00, -0.00000000e+00,  2.42930255e-04,\n",
      "        -0.00000000e+00, -0.00000000e+00, -1.20241098e-01],\n",
      "       [-0.00000000e+00,  6.16468606e-05, -1.26731728e-04,\n",
      "        -0.00000000e+00, -1.51723653e-01, -1.52666375e-01],\n",
      "       [-0.00000000e+00,  7.59742106e-05, -4.77320456e-04,\n",
      "         0.00000000e+00,  1.38893604e-01,  1.41832516e-01],\n",
      "       [-0.00000000e+00,  9.83071550e-06, -3.71430688e-05,\n",
      "        -0.00000000e+00, -4.60646255e-03, -4.52381000e-03],\n",
      "       [-0.00000000e+00,  0.00000000e+00, -4.20787488e-04,\n",
      "         0.00000000e+00,  0.00000000e+00,  4.30111557e-01],\n",
      "       [-0.00000000e+00,  1.28268730e-04, -6.20591920e-04,\n",
      "         0.00000000e+00,  5.51737100e-02,  5.78301810e-02],\n",
      "       [-0.00000000e+00,  0.00000000e+00, -9.80452867e-04,\n",
      "        -0.00000000e+00, -0.00000000e+00, -1.44605428e-01],\n",
      "       [-0.00000000e+00,  0.00000000e+00, -8.48263226e-05,\n",
      "        -0.00000000e+00, -0.00000000e+00, -1.42985240e-01],\n",
      "       [ 0.00000000e+00, -8.78263745e-06,  6.00144958e-05,\n",
      "        -0.00000000e+00, -2.36839838e-02, -2.41044275e-02],\n",
      "       [-0.00000000e+00,  0.00000000e+00, -6.77646953e-04,\n",
      "         0.00000000e+00,  0.00000000e+00,  3.88839900e-01],\n",
      "       [-0.00000000e+00,  1.16651696e-04, -1.22368312e-03,\n",
      "         0.00000000e+00,  7.19106436e-01,  7.29940414e-01]],      dtype=float32)}}}}, 'layer_list_1': {'ConditionalMADE_0': {'layers_0': {'Dense_0': {'bias': Array([-1.52737638e-02,  5.14574954e-03,  1.55462301e-03,  2.09012590e-02,\n",
      "       -1.67981740e-02,  4.97318525e-03,  4.28362563e-03,  8.41323752e-03,\n",
      "        1.67118497e-02,  3.49291153e-02,  1.88337211e-02,  7.44590675e-03,\n",
      "       -7.20696663e-03, -3.31204459e-02,  1.10777486e-02, -6.37994148e-03,\n",
      "       -4.17442285e-02, -3.11987083e-02,  1.44378087e-02,  1.75119319e-03,\n",
      "       -5.36376424e-03,  3.64559330e-02,  5.65364724e-04, -1.43723628e-02,\n",
      "       -9.99764074e-03,  8.39161687e-03,  6.88959798e-03, -3.86885479e-02,\n",
      "        2.23066267e-02, -1.76644493e-02,  3.11555224e-03, -7.58758653e-03,\n",
      "        3.49895345e-05,  1.06764184e-02, -7.01041194e-03,  3.54700722e-02,\n",
      "        6.25001863e-02,  1.86320264e-02, -1.35096749e-02,  7.79157272e-03,\n",
      "       -3.64460750e-03,  2.49556769e-02,  1.46624912e-02, -5.71275875e-03,\n",
      "        3.91160809e-02,  1.71698090e-02, -2.97102127e-02, -3.08642397e-03,\n",
      "        4.73282952e-03, -4.39565331e-02, -1.57161208e-03, -5.32163046e-02,\n",
      "       -3.58230323e-02, -1.79406244e-03, -1.31710162e-02,  1.14791887e-02,\n",
      "        1.25219626e-03,  6.63335994e-03,  1.00126676e-02, -5.36783934e-02,\n",
      "        1.15911271e-02,  1.29910912e-02, -6.96241334e-02,  6.96484791e-03,\n",
      "       -3.78515869e-02, -3.97316888e-02, -3.67755778e-02, -5.39633520e-02,\n",
      "       -1.32763074e-04,  1.04714455e-02, -7.71620730e-03, -1.40349315e-02,\n",
      "       -2.87670065e-02,  1.90866869e-02,  3.52054164e-02,  3.00532505e-02,\n",
      "        3.76405641e-02, -7.06079835e-03, -1.02451732e-02,  8.83615017e-03,\n",
      "       -1.78894270e-02,  2.28884201e-02,  3.59659456e-02,  2.60332953e-02,\n",
      "       -3.07555236e-02,  1.04961665e-02,  4.40233536e-02,  1.33221485e-02,\n",
      "       -1.09565444e-02,  2.75072586e-02,  1.08660068e-02,  4.08000797e-02,\n",
      "        1.87596388e-03, -7.16746040e-03, -2.21337248e-02,  2.95629594e-02,\n",
      "       -1.37590375e-02, -4.54147048e-02, -3.29654664e-02, -8.25305842e-03,\n",
      "        1.44140632e-03, -6.96539832e-03, -5.70263602e-02, -3.65176648e-02,\n",
      "       -4.27541286e-02,  3.94192850e-03, -8.51132162e-03,  2.74542123e-02,\n",
      "       -5.06315194e-03, -6.96025789e-03, -7.31391413e-03, -2.38308348e-02,\n",
      "       -1.97407864e-02, -3.95888425e-02, -5.38973836e-03, -3.29648294e-02,\n",
      "       -5.83769474e-03,  5.05514443e-03, -1.78182926e-02,  4.80513088e-02,\n",
      "       -6.95677567e-03,  2.10459065e-02,  4.71536145e-02, -6.12353012e-02,\n",
      "       -1.03838472e-02, -2.52148341e-02,  1.13576045e-02, -3.40160495e-03],      dtype=float32), 'kernel': Array([[-4.5420374e-03,  3.5889244e-03,  9.8727667e-04,  8.2380706e-03,\n",
      "         1.1575974e-02,  2.1973311e-03, -8.0722691e-03,  3.5646919e-03,\n",
      "         6.4238510e-03, -1.4924654e-02,  2.1111837e-03,  3.2604910e-03,\n",
      "        -4.4230311e-03,  9.8952176e-03,  7.8337453e-03, -4.9233022e-03,\n",
      "         1.5204565e-02, -1.4760074e-02, -1.4195594e-03, -2.4986321e-03,\n",
      "         5.6715105e-03,  1.1374525e-02,  1.8425056e-03, -6.7722597e-03,\n",
      "        -7.2364979e-03,  6.3644280e-03,  1.4882275e-03, -9.8617561e-03,\n",
      "        -4.0560681e-03,  1.0740551e-02,  2.7947654e-03,  6.8707075e-03,\n",
      "        -7.3139754e-04, -1.0260122e-02, -2.3184798e-03,  1.7672906e-02,\n",
      "         4.0059786e-02,  1.3631435e-02,  1.8834734e-02,  9.7879354e-05,\n",
      "         8.1366673e-03,  1.4815377e-02, -3.8530939e-04, -1.2016182e-03,\n",
      "        -1.9739322e-02, -1.1669332e-02, -1.0549162e-02, -2.2744560e-03,\n",
      "         1.3543140e-03, -5.5147368e-03, -4.3492322e-04, -8.8681774e-03,\n",
      "        -2.1143284e-02,  7.9591786e-03, -8.5019832e-03, -5.9958599e-03,\n",
      "         9.9668617e-04, -9.0162735e-03,  1.1061279e-02,  4.2538815e-03,\n",
      "         6.4816023e-04, -2.8846201e-03, -7.4445480e-04,  3.9582164e-03,\n",
      "        -1.6465054e-03, -2.5474934e-03,  2.6884753e-02, -3.3078574e-02,\n",
      "         1.9374285e-03, -7.5536831e-03, -4.4887429e-03, -2.1053622e-03,\n",
      "         8.8079683e-03, -5.3013316e-03,  1.7762210e-02,  6.8186317e-03,\n",
      "        -1.2835017e-02, -1.8367219e-03,  1.0146664e-02,  5.9711593e-03,\n",
      "         9.3165627e-03,  3.2804287e-03,  1.4879102e-02,  8.2920371e-03,\n",
      "        -8.7279240e-03, -1.3784341e-02,  2.5066265e-03,  8.9615909e-04,\n",
      "        -6.2773414e-03,  5.9066014e-03, -3.3313923e-03, -1.8739831e-02,\n",
      "         4.9121012e-03,  4.9537942e-03, -6.1080689e-03,  1.4786939e-02,\n",
      "        -1.2737247e-03, -2.3485377e-02,  9.1670929e-03,  1.4518945e-03,\n",
      "         6.5643447e-03,  1.3410764e-02,  7.1457489e-03,  8.4115667e-03,\n",
      "        -1.4639831e-02,  5.0304615e-04,  5.4612933e-03,  1.1040811e-02,\n",
      "        -3.9756922e-03,  4.8334396e-04,  1.6845197e-04,  1.4355749e-02,\n",
      "         2.3366143e-03, -1.1754690e-02,  2.6877825e-03,  9.6328817e-03,\n",
      "         3.4268063e-03,  3.4545111e-03,  1.9181481e-03,  9.1235731e-03,\n",
      "        -3.6044008e-04,  7.1432563e-03,  1.4058224e-02,  4.8732787e-02,\n",
      "         3.6145065e-03,  1.2848060e-02,  5.7131373e-03,  8.1985176e-04],\n",
      "       [-0.0000000e+00,  3.3295746e-03,  7.4252510e-04,  0.0000000e+00,\n",
      "         0.0000000e+00,  0.0000000e+00, -0.0000000e+00,  4.7648461e-03,\n",
      "         0.0000000e+00, -0.0000000e+00,  0.0000000e+00,  4.3438030e-03,\n",
      "        -5.1892735e-03,  6.0787038e-03,  7.4628987e-03, -4.3056211e-03,\n",
      "         0.0000000e+00, -0.0000000e+00, -1.5704102e-03, -3.0604533e-03,\n",
      "         5.1168948e-03,  0.0000000e+00,  2.1468832e-03, -6.4247367e-03,\n",
      "        -8.2479343e-03,  8.0762571e-03,  0.0000000e+00, -0.0000000e+00,\n",
      "        -0.0000000e+00,  1.1019707e-02,  0.0000000e+00,  6.1003231e-03,\n",
      "        -5.0418079e-04, -7.8540733e-03, -1.1994069e-03,  0.0000000e+00,\n",
      "         0.0000000e+00,  1.3905456e-02,  0.0000000e+00, -0.0000000e+00,\n",
      "         0.0000000e+00,  0.0000000e+00, -1.5068226e-04, -4.3694995e-04,\n",
      "        -0.0000000e+00, -0.0000000e+00, -0.0000000e+00, -3.2138992e-03,\n",
      "         0.0000000e+00, -0.0000000e+00, -8.6724816e-05, -0.0000000e+00,\n",
      "        -0.0000000e+00,  7.4847150e-03, -0.0000000e+00, -6.6213119e-03,\n",
      "        -0.0000000e+00, -0.0000000e+00,  1.2130279e-02,  0.0000000e+00,\n",
      "         0.0000000e+00, -0.0000000e+00, -0.0000000e+00,  0.0000000e+00,\n",
      "        -0.0000000e+00, -0.0000000e+00,  0.0000000e+00, -4.2695191e-02,\n",
      "         0.0000000e+00, -7.0221969e-03, -0.0000000e+00, -7.6773658e-04,\n",
      "         9.9114366e-03, -0.0000000e+00,  0.0000000e+00,  0.0000000e+00,\n",
      "        -0.0000000e+00, -0.0000000e+00,  0.0000000e+00,  6.7295381e-03,\n",
      "         1.2782586e-02,  0.0000000e+00,  0.0000000e+00,  0.0000000e+00,\n",
      "        -0.0000000e+00, -1.2172363e-02,  0.0000000e+00, -8.3081424e-04,\n",
      "        -6.6979667e-03,  1.0978362e-02, -4.3515619e-03, -0.0000000e+00,\n",
      "         4.3433486e-03,  0.0000000e+00, -0.0000000e+00,  0.0000000e+00,\n",
      "        -0.0000000e+00, -0.0000000e+00,  0.0000000e+00,  0.0000000e+00,\n",
      "         5.3425841e-03,  1.1213869e-02,  0.0000000e+00,  0.0000000e+00,\n",
      "        -0.0000000e+00,  1.8123294e-03,  4.2795464e-03,  0.0000000e+00,\n",
      "        -0.0000000e+00,  1.5046130e-03, -8.4068434e-04,  0.0000000e+00,\n",
      "         0.0000000e+00, -0.0000000e+00,  3.2571945e-03,  0.0000000e+00,\n",
      "         3.8899195e-03,  4.1497266e-03,  1.6319589e-03,  0.0000000e+00,\n",
      "        -0.0000000e+00,  0.0000000e+00,  0.0000000e+00,  0.0000000e+00,\n",
      "         4.6771532e-03,  1.3750873e-02,  4.8171589e-03,  0.0000000e+00],\n",
      "       [-0.0000000e+00,  0.0000000e+00,  0.0000000e+00,  0.0000000e+00,\n",
      "         0.0000000e+00,  0.0000000e+00, -0.0000000e+00,  0.0000000e+00,\n",
      "         0.0000000e+00, -0.0000000e+00,  0.0000000e+00,  0.0000000e+00,\n",
      "        -0.0000000e+00,  0.0000000e+00,  0.0000000e+00, -0.0000000e+00,\n",
      "         0.0000000e+00, -0.0000000e+00, -0.0000000e+00, -0.0000000e+00,\n",
      "         0.0000000e+00,  0.0000000e+00,  0.0000000e+00, -0.0000000e+00,\n",
      "        -0.0000000e+00,  0.0000000e+00,  0.0000000e+00, -0.0000000e+00,\n",
      "        -0.0000000e+00,  0.0000000e+00,  0.0000000e+00,  0.0000000e+00,\n",
      "        -0.0000000e+00, -0.0000000e+00, -0.0000000e+00,  0.0000000e+00,\n",
      "         0.0000000e+00,  0.0000000e+00,  0.0000000e+00, -0.0000000e+00,\n",
      "         0.0000000e+00,  0.0000000e+00, -0.0000000e+00, -0.0000000e+00,\n",
      "        -0.0000000e+00, -0.0000000e+00, -0.0000000e+00, -0.0000000e+00,\n",
      "         0.0000000e+00, -0.0000000e+00, -0.0000000e+00, -0.0000000e+00,\n",
      "        -0.0000000e+00,  0.0000000e+00, -0.0000000e+00, -0.0000000e+00,\n",
      "        -0.0000000e+00, -0.0000000e+00,  0.0000000e+00,  0.0000000e+00,\n",
      "         0.0000000e+00, -0.0000000e+00, -0.0000000e+00,  0.0000000e+00,\n",
      "        -0.0000000e+00, -0.0000000e+00,  0.0000000e+00, -0.0000000e+00,\n",
      "         0.0000000e+00, -0.0000000e+00, -0.0000000e+00, -0.0000000e+00,\n",
      "         0.0000000e+00, -0.0000000e+00,  0.0000000e+00,  0.0000000e+00,\n",
      "        -0.0000000e+00, -0.0000000e+00,  0.0000000e+00,  0.0000000e+00,\n",
      "         0.0000000e+00,  0.0000000e+00,  0.0000000e+00,  0.0000000e+00,\n",
      "        -0.0000000e+00, -0.0000000e+00,  0.0000000e+00, -0.0000000e+00,\n",
      "        -0.0000000e+00,  0.0000000e+00, -0.0000000e+00, -0.0000000e+00,\n",
      "         0.0000000e+00,  0.0000000e+00, -0.0000000e+00,  0.0000000e+00,\n",
      "        -0.0000000e+00, -0.0000000e+00,  0.0000000e+00,  0.0000000e+00,\n",
      "         0.0000000e+00,  0.0000000e+00,  0.0000000e+00,  0.0000000e+00,\n",
      "        -0.0000000e+00,  0.0000000e+00,  0.0000000e+00,  0.0000000e+00,\n",
      "        -0.0000000e+00,  0.0000000e+00, -0.0000000e+00,  0.0000000e+00,\n",
      "         0.0000000e+00, -0.0000000e+00,  0.0000000e+00,  0.0000000e+00,\n",
      "         0.0000000e+00,  0.0000000e+00,  0.0000000e+00,  0.0000000e+00,\n",
      "        -0.0000000e+00,  0.0000000e+00,  0.0000000e+00,  0.0000000e+00,\n",
      "         0.0000000e+00,  0.0000000e+00,  0.0000000e+00,  0.0000000e+00],\n",
      "       [ 0.0000000e+00,  0.0000000e+00,  0.0000000e+00,  0.0000000e+00,\n",
      "         0.0000000e+00,  0.0000000e+00,  0.0000000e+00,  0.0000000e+00,\n",
      "         0.0000000e+00,  0.0000000e+00,  0.0000000e+00,  0.0000000e+00,\n",
      "         0.0000000e+00,  0.0000000e+00,  0.0000000e+00,  0.0000000e+00,\n",
      "         0.0000000e+00,  0.0000000e+00,  0.0000000e+00,  0.0000000e+00,\n",
      "         0.0000000e+00,  0.0000000e+00,  0.0000000e+00,  0.0000000e+00,\n",
      "         0.0000000e+00,  0.0000000e+00,  0.0000000e+00,  0.0000000e+00,\n",
      "         0.0000000e+00,  0.0000000e+00,  0.0000000e+00,  0.0000000e+00,\n",
      "         0.0000000e+00,  0.0000000e+00,  0.0000000e+00,  0.0000000e+00,\n",
      "         0.0000000e+00,  0.0000000e+00,  0.0000000e+00,  0.0000000e+00,\n",
      "         0.0000000e+00,  0.0000000e+00,  0.0000000e+00,  0.0000000e+00,\n",
      "         0.0000000e+00,  0.0000000e+00,  0.0000000e+00,  0.0000000e+00,\n",
      "         0.0000000e+00,  0.0000000e+00,  0.0000000e+00,  0.0000000e+00,\n",
      "         0.0000000e+00,  0.0000000e+00,  0.0000000e+00,  0.0000000e+00,\n",
      "         0.0000000e+00,  0.0000000e+00,  0.0000000e+00,  0.0000000e+00,\n",
      "         0.0000000e+00,  0.0000000e+00,  0.0000000e+00,  0.0000000e+00,\n",
      "         0.0000000e+00,  0.0000000e+00,  0.0000000e+00,  0.0000000e+00,\n",
      "         0.0000000e+00,  0.0000000e+00,  0.0000000e+00,  0.0000000e+00,\n",
      "         0.0000000e+00,  0.0000000e+00,  0.0000000e+00,  0.0000000e+00,\n",
      "         0.0000000e+00,  0.0000000e+00,  0.0000000e+00,  0.0000000e+00,\n",
      "         0.0000000e+00,  0.0000000e+00,  0.0000000e+00,  0.0000000e+00,\n",
      "         0.0000000e+00,  0.0000000e+00,  0.0000000e+00,  0.0000000e+00,\n",
      "         0.0000000e+00,  0.0000000e+00,  0.0000000e+00,  0.0000000e+00,\n",
      "         0.0000000e+00,  0.0000000e+00,  0.0000000e+00,  0.0000000e+00,\n",
      "         0.0000000e+00,  0.0000000e+00,  0.0000000e+00,  0.0000000e+00,\n",
      "         0.0000000e+00,  0.0000000e+00,  0.0000000e+00,  0.0000000e+00,\n",
      "         0.0000000e+00,  0.0000000e+00,  0.0000000e+00,  0.0000000e+00,\n",
      "         0.0000000e+00,  0.0000000e+00,  0.0000000e+00,  0.0000000e+00,\n",
      "         0.0000000e+00,  0.0000000e+00,  0.0000000e+00,  0.0000000e+00,\n",
      "         0.0000000e+00,  0.0000000e+00,  0.0000000e+00,  0.0000000e+00,\n",
      "         0.0000000e+00,  0.0000000e+00,  0.0000000e+00,  0.0000000e+00,\n",
      "         0.0000000e+00,  0.0000000e+00,  0.0000000e+00,  0.0000000e+00],\n",
      "       [ 0.0000000e+00,  0.0000000e+00,  0.0000000e+00,  0.0000000e+00,\n",
      "         0.0000000e+00,  0.0000000e+00,  0.0000000e+00,  0.0000000e+00,\n",
      "         0.0000000e+00,  0.0000000e+00,  0.0000000e+00,  0.0000000e+00,\n",
      "         0.0000000e+00,  0.0000000e+00,  0.0000000e+00,  0.0000000e+00,\n",
      "         0.0000000e+00,  0.0000000e+00,  0.0000000e+00,  0.0000000e+00,\n",
      "         0.0000000e+00,  0.0000000e+00,  0.0000000e+00,  0.0000000e+00,\n",
      "         0.0000000e+00,  0.0000000e+00,  0.0000000e+00,  0.0000000e+00,\n",
      "         0.0000000e+00,  0.0000000e+00,  0.0000000e+00,  0.0000000e+00,\n",
      "         0.0000000e+00,  0.0000000e+00,  0.0000000e+00,  0.0000000e+00,\n",
      "         0.0000000e+00,  0.0000000e+00,  0.0000000e+00,  0.0000000e+00,\n",
      "         0.0000000e+00,  0.0000000e+00,  0.0000000e+00,  0.0000000e+00,\n",
      "         0.0000000e+00,  0.0000000e+00,  0.0000000e+00,  0.0000000e+00,\n",
      "         0.0000000e+00,  0.0000000e+00,  0.0000000e+00,  0.0000000e+00,\n",
      "         0.0000000e+00,  0.0000000e+00,  0.0000000e+00,  0.0000000e+00,\n",
      "         0.0000000e+00,  0.0000000e+00,  0.0000000e+00,  0.0000000e+00,\n",
      "         0.0000000e+00,  0.0000000e+00,  0.0000000e+00,  0.0000000e+00,\n",
      "         0.0000000e+00,  0.0000000e+00,  0.0000000e+00,  0.0000000e+00,\n",
      "         0.0000000e+00,  0.0000000e+00,  0.0000000e+00,  0.0000000e+00,\n",
      "         0.0000000e+00,  0.0000000e+00,  0.0000000e+00,  0.0000000e+00,\n",
      "         0.0000000e+00,  0.0000000e+00,  0.0000000e+00,  0.0000000e+00,\n",
      "         0.0000000e+00,  0.0000000e+00,  0.0000000e+00,  0.0000000e+00,\n",
      "         0.0000000e+00,  0.0000000e+00,  0.0000000e+00,  0.0000000e+00,\n",
      "         0.0000000e+00,  0.0000000e+00,  0.0000000e+00,  0.0000000e+00,\n",
      "         0.0000000e+00,  0.0000000e+00,  0.0000000e+00,  0.0000000e+00,\n",
      "         0.0000000e+00,  0.0000000e+00,  0.0000000e+00,  0.0000000e+00,\n",
      "         0.0000000e+00,  0.0000000e+00,  0.0000000e+00,  0.0000000e+00,\n",
      "         0.0000000e+00,  0.0000000e+00,  0.0000000e+00,  0.0000000e+00,\n",
      "         0.0000000e+00,  0.0000000e+00,  0.0000000e+00,  0.0000000e+00,\n",
      "         0.0000000e+00,  0.0000000e+00,  0.0000000e+00,  0.0000000e+00,\n",
      "         0.0000000e+00,  0.0000000e+00,  0.0000000e+00,  0.0000000e+00,\n",
      "         0.0000000e+00,  0.0000000e+00,  0.0000000e+00,  0.0000000e+00,\n",
      "         0.0000000e+00,  0.0000000e+00,  0.0000000e+00,  0.0000000e+00],\n",
      "       [ 0.0000000e+00,  0.0000000e+00,  0.0000000e+00,  0.0000000e+00,\n",
      "         0.0000000e+00,  0.0000000e+00,  0.0000000e+00,  0.0000000e+00,\n",
      "         0.0000000e+00,  0.0000000e+00,  0.0000000e+00,  0.0000000e+00,\n",
      "         0.0000000e+00,  0.0000000e+00,  0.0000000e+00,  0.0000000e+00,\n",
      "         0.0000000e+00,  0.0000000e+00,  0.0000000e+00,  0.0000000e+00,\n",
      "         0.0000000e+00,  0.0000000e+00,  0.0000000e+00,  0.0000000e+00,\n",
      "         0.0000000e+00,  0.0000000e+00,  0.0000000e+00,  0.0000000e+00,\n",
      "         0.0000000e+00,  0.0000000e+00,  0.0000000e+00,  0.0000000e+00,\n",
      "         0.0000000e+00,  0.0000000e+00,  0.0000000e+00,  0.0000000e+00,\n",
      "         0.0000000e+00,  0.0000000e+00,  0.0000000e+00,  0.0000000e+00,\n",
      "         0.0000000e+00,  0.0000000e+00,  0.0000000e+00,  0.0000000e+00,\n",
      "         0.0000000e+00,  0.0000000e+00,  0.0000000e+00,  0.0000000e+00,\n",
      "         0.0000000e+00,  0.0000000e+00,  0.0000000e+00,  0.0000000e+00,\n",
      "         0.0000000e+00,  0.0000000e+00,  0.0000000e+00,  0.0000000e+00,\n",
      "         0.0000000e+00,  0.0000000e+00,  0.0000000e+00,  0.0000000e+00,\n",
      "         0.0000000e+00,  0.0000000e+00,  0.0000000e+00,  0.0000000e+00,\n",
      "         0.0000000e+00,  0.0000000e+00,  0.0000000e+00,  0.0000000e+00,\n",
      "         0.0000000e+00,  0.0000000e+00,  0.0000000e+00,  0.0000000e+00,\n",
      "         0.0000000e+00,  0.0000000e+00,  0.0000000e+00,  0.0000000e+00,\n",
      "         0.0000000e+00,  0.0000000e+00,  0.0000000e+00,  0.0000000e+00,\n",
      "         0.0000000e+00,  0.0000000e+00,  0.0000000e+00,  0.0000000e+00,\n",
      "         0.0000000e+00,  0.0000000e+00,  0.0000000e+00,  0.0000000e+00,\n",
      "         0.0000000e+00,  0.0000000e+00,  0.0000000e+00,  0.0000000e+00,\n",
      "         0.0000000e+00,  0.0000000e+00,  0.0000000e+00,  0.0000000e+00,\n",
      "         0.0000000e+00,  0.0000000e+00,  0.0000000e+00,  0.0000000e+00,\n",
      "         0.0000000e+00,  0.0000000e+00,  0.0000000e+00,  0.0000000e+00,\n",
      "         0.0000000e+00,  0.0000000e+00,  0.0000000e+00,  0.0000000e+00,\n",
      "         0.0000000e+00,  0.0000000e+00,  0.0000000e+00,  0.0000000e+00,\n",
      "         0.0000000e+00,  0.0000000e+00,  0.0000000e+00,  0.0000000e+00,\n",
      "         0.0000000e+00,  0.0000000e+00,  0.0000000e+00,  0.0000000e+00,\n",
      "         0.0000000e+00,  0.0000000e+00,  0.0000000e+00,  0.0000000e+00,\n",
      "         0.0000000e+00,  0.0000000e+00,  0.0000000e+00,  0.0000000e+00]],      dtype=float32)}}, 'layers_2': {'Dense_0': {'bias': Array([-4.4984897e-03,  4.9542554e-02,  5.4385804e-02, -6.1509173e-02,\n",
      "        3.3908874e-02,  7.8509219e-02,  9.8340092e-03, -4.8431838e-03,\n",
      "        5.7203166e-02,  4.7432382e-02,  4.9968429e-02, -1.2629484e-01,\n",
      "       -8.4134683e-02, -3.8656279e-02, -6.6748969e-02,  6.8652811e-03,\n",
      "       -2.3970384e-02,  1.0046103e-01, -4.5852214e-02,  4.4316039e-03,\n",
      "       -2.2699032e-02,  2.9599095e-02,  1.0451808e-02,  2.9999632e-03,\n",
      "       -4.4142250e-02, -5.4841511e-02,  3.4080204e-02,  9.0804342e-03,\n",
      "        8.3602905e-02,  5.2006070e-02, -6.1038388e-03,  7.2938870e-05,\n",
      "       -9.7156912e-02, -1.5452799e-02,  3.1085897e-02, -7.6012179e-02,\n",
      "        6.3627616e-02, -3.7119116e-03,  5.5714872e-02, -1.2048509e-02,\n",
      "        6.1006185e-02, -8.6359426e-02,  1.1835044e-02,  2.6155071e-02,\n",
      "       -1.0893053e-01, -3.0890327e-02, -2.7073700e-02,  1.6722311e-01,\n",
      "        3.4729313e-02, -1.2818041e-03, -1.5777474e-02, -2.2765078e-02,\n",
      "       -2.8554479e-02,  2.0042786e-02, -3.9947510e-02,  9.3936309e-02,\n",
      "        6.1452571e-02,  5.4753475e-02, -6.7560159e-02,  9.4927125e-02,\n",
      "        2.1144548e-02, -2.8956071e-02,  2.7941486e-02, -6.9442593e-02,\n",
      "       -3.8037833e-02, -5.7469901e-02,  5.2010596e-02, -5.4498152e-03,\n",
      "        1.4403883e-02, -8.6237296e-02, -4.2356964e-02, -1.2550732e-02,\n",
      "        1.1737874e-02,  6.2167522e-02,  6.1100204e-02,  6.5742664e-02,\n",
      "        2.9019227e-02, -2.2946436e-02,  1.1952343e-02, -5.9804950e-02,\n",
      "        5.6467343e-02, -2.0248203e-02,  6.5443185e-03, -2.0917614e-03,\n",
      "       -1.1660066e-02,  5.8451701e-02, -6.7401543e-02, -1.1133175e-02,\n",
      "       -6.1534602e-02,  1.7141825e-02, -1.5276654e-02,  3.4937065e-03,\n",
      "        3.8774300e-03,  1.1108359e-01,  3.3826590e-02,  1.0638730e-01,\n",
      "       -1.9145837e-02, -7.9657778e-02,  1.6571118e-02,  5.8554518e-03,\n",
      "       -8.0927219e-03, -2.9502138e-02, -8.6852461e-02, -3.7980840e-02,\n",
      "       -5.0073117e-02, -6.6279285e-02,  5.1094949e-02, -1.6385689e-02,\n",
      "       -1.3756813e-02,  9.6259508e-03, -2.2763755e-04, -7.3692560e-02,\n",
      "        3.2088421e-03,  3.2053877e-02,  4.9795587e-02, -7.1461879e-02,\n",
      "        9.2500135e-02,  5.1135506e-02, -4.3815628e-02,  7.8603245e-02,\n",
      "       -5.0641425e-02,  4.0267367e-02,  5.0869703e-02,  1.4640268e-02,\n",
      "       -9.0861827e-02,  1.3353711e-02,  4.2383447e-03, -5.8215693e-02],      dtype=float32), 'kernel': Array([[ 1.29390810e-05,  1.19788037e-03,  4.87449026e-04, ...,\n",
      "        -2.26544489e-06,  1.34891843e-05, -5.62237285e-04],\n",
      "       [-0.00000000e+00,  1.35443015e-02,  1.12543982e-02, ...,\n",
      "         2.17454997e-03,  0.00000000e+00, -0.00000000e+00],\n",
      "       [-0.00000000e+00,  6.33815257e-03,  5.36072347e-03, ...,\n",
      "         9.85638122e-04,  0.00000000e+00, -0.00000000e+00],\n",
      "       ...,\n",
      "       [-0.00000000e+00,  9.08976945e-04,  1.53098954e-03, ...,\n",
      "         5.01506380e-04,  0.00000000e+00, -0.00000000e+00],\n",
      "       [-0.00000000e+00,  4.83505987e-03,  2.62381067e-03, ...,\n",
      "         3.05980415e-04,  0.00000000e+00, -0.00000000e+00],\n",
      "       [-1.14529093e-05,  2.68730544e-03,  1.37626764e-03, ...,\n",
      "         1.04931263e-04,  6.01761167e-05, -1.54844380e-03]],      dtype=float32)}}, 'layers_4': {'Dense_0': {'bias': Array([ 5.5455671e-17, -1.1629441e-08, -6.4069758e-07,  1.0000050e+00,\n",
      "        1.0000051e+00,  1.0000054e+00], dtype=float32), 'kernel': Array([[ 0.00000000e+00,  5.90232503e-07,  6.14494923e-07,\n",
      "         0.00000000e+00,  6.42062491e-03,  6.42063981e-03],\n",
      "       [-0.00000000e+00, -0.00000000e+00, -9.80917662e-07,\n",
      "         0.00000000e+00,  0.00000000e+00,  3.64126638e-02],\n",
      "       [-0.00000000e+00, -0.00000000e+00, -2.90663905e-07,\n",
      "         0.00000000e+00,  0.00000000e+00,  2.28467956e-02],\n",
      "       [ 0.00000000e+00,  0.00000000e+00,  2.75853131e-06,\n",
      "         0.00000000e+00,  0.00000000e+00,  5.07006906e-02],\n",
      "       [ 0.00000000e+00,  0.00000000e+00,  3.73740988e-07,\n",
      "        -0.00000000e+00, -0.00000000e+00, -1.18604936e-02],\n",
      "       [-0.00000000e+00, -0.00000000e+00, -1.09904079e-06,\n",
      "         0.00000000e+00,  0.00000000e+00,  7.37574091e-03],\n",
      "       [ 0.00000000e+00,  0.00000000e+00,  1.20017864e-06,\n",
      "        -0.00000000e+00, -0.00000000e+00, -2.01749690e-02],\n",
      "       [-0.00000000e+00, -0.00000000e+00, -1.00016507e-06,\n",
      "        -0.00000000e+00, -0.00000000e+00, -1.09181749e-02],\n",
      "       [ 0.00000000e+00,  0.00000000e+00,  3.88042963e-07,\n",
      "        -0.00000000e+00, -0.00000000e+00, -1.52394446e-02],\n",
      "       [-0.00000000e+00, -0.00000000e+00, -2.19599019e-06,\n",
      "         0.00000000e+00,  0.00000000e+00,  4.60348949e-02],\n",
      "       [-0.00000000e+00, -3.18249619e-07, -3.32902317e-07,\n",
      "        -0.00000000e+00, -1.77495953e-04, -1.77502676e-04],\n",
      "       [ 0.00000000e+00,  1.22514984e-06,  1.27436965e-06,\n",
      "         0.00000000e+00,  1.56996548e-02,  1.56996865e-02],\n",
      "       [ 0.00000000e+00,  1.17421996e-06,  1.22586835e-06,\n",
      "         0.00000000e+00,  6.76434347e-03,  6.76437141e-03],\n",
      "       [ 0.00000000e+00,  0.00000000e+00,  3.00801020e-07,\n",
      "         0.00000000e+00,  0.00000000e+00,  4.02604192e-02],\n",
      "       [ 0.00000000e+00,  0.00000000e+00,  6.26148733e-07,\n",
      "         0.00000000e+00,  0.00000000e+00,  1.00696765e-01],\n",
      "       [-0.00000000e+00, -0.00000000e+00, -2.56620382e-07,\n",
      "        -0.00000000e+00, -0.00000000e+00, -3.19102481e-02],\n",
      "       [-0.00000000e+00, -0.00000000e+00, -9.84983899e-07,\n",
      "        -0.00000000e+00, -0.00000000e+00, -2.08476838e-02],\n",
      "       [-0.00000000e+00, -0.00000000e+00, -2.20547327e-06,\n",
      "         0.00000000e+00,  0.00000000e+00,  7.90684819e-02],\n",
      "       [ 0.00000000e+00, -0.00000000e+00, -7.63066410e-08,\n",
      "         0.00000000e+00,  0.00000000e+00,  3.73044573e-02],\n",
      "       [ 0.00000000e+00,  2.93399211e-07,  3.11050115e-07,\n",
      "        -0.00000000e+00, -7.30826799e-03, -7.30826426e-03],\n",
      "       [ 0.00000000e+00,  0.00000000e+00,  3.48001151e-07,\n",
      "         0.00000000e+00,  0.00000000e+00,  1.33594917e-03],\n",
      "       [ 0.00000000e+00,  0.00000000e+00,  1.20703862e-06,\n",
      "         0.00000000e+00,  0.00000000e+00,  3.39455828e-02],\n",
      "       [-0.00000000e+00, -0.00000000e+00, -8.28305133e-07,\n",
      "         0.00000000e+00,  0.00000000e+00,  7.41302669e-02],\n",
      "       [-0.00000000e+00, -3.06131994e-07, -3.28635224e-07,\n",
      "         0.00000000e+00,  1.62745342e-02,  1.62745342e-02],\n",
      "       [-0.00000000e+00, -0.00000000e+00, -1.11609961e-06,\n",
      "         0.00000000e+00,  0.00000000e+00,  5.35151176e-02],\n",
      "       [-0.00000000e+00, -0.00000000e+00, -1.07163157e-06,\n",
      "         0.00000000e+00,  0.00000000e+00,  2.44220309e-02],\n",
      "       [ 0.00000000e+00,  1.95647999e-07,  2.19164733e-07,\n",
      "        -0.00000000e+00, -2.73975320e-02, -2.73975376e-02],\n",
      "       [ 0.00000000e+00,  5.65513005e-07,  5.95935489e-07,\n",
      "        -0.00000000e+00, -7.16897054e-03, -7.16896076e-03],\n",
      "       [-0.00000000e+00, -3.18768855e-07, -3.36836251e-07,\n",
      "         0.00000000e+00,  6.45562354e-03,  6.45561935e-03],\n",
      "       [ 0.00000000e+00,  0.00000000e+00,  3.91704191e-07,\n",
      "         0.00000000e+00,  0.00000000e+00,  6.24115914e-02],\n",
      "       [-0.00000000e+00, -3.78958561e-07, -4.05210358e-07,\n",
      "         0.00000000e+00,  1.65249761e-02,  1.65249743e-02],\n",
      "       [-0.00000000e+00, -7.84825829e-07, -8.37782125e-07,\n",
      "         0.00000000e+00,  3.24693844e-02,  3.24693806e-02],\n",
      "       [-0.00000000e+00, -1.00796376e-06, -1.05247057e-06,\n",
      "        -0.00000000e+00, -6.71461970e-03, -6.71464484e-03],\n",
      "       [ 0.00000000e+00,  3.59433670e-07,  3.48362761e-07,\n",
      "         0.00000000e+00,  5.38607985e-02,  5.38608246e-02],\n",
      "       [ 0.00000000e+00,  0.00000000e+00,  3.39299760e-07,\n",
      "        -0.00000000e+00, -0.00000000e+00, -6.26208857e-02],\n",
      "       [-0.00000000e+00, -5.00407111e-07, -5.21263814e-07,\n",
      "        -0.00000000e+00, -5.41261863e-03, -5.41263167e-03],\n",
      "       [ 0.00000000e+00,  8.43985219e-07,  8.76243746e-07,\n",
      "         0.00000000e+00,  1.43019976e-02,  1.43020209e-02],\n",
      "       [ 0.00000000e+00,  2.26231094e-07,  2.65374695e-07,\n",
      "        -0.00000000e+00, -5.46888858e-02, -5.46889007e-02],\n",
      "       [ 0.00000000e+00,  7.94868953e-08,  1.00850791e-07,\n",
      "        -0.00000000e+00, -3.37249674e-02, -3.37249786e-02],\n",
      "       [-0.00000000e+00, -0.00000000e+00, -4.93233017e-07,\n",
      "        -0.00000000e+00, -0.00000000e+00, -1.97911193e-03],\n",
      "       [ 0.00000000e+00,  0.00000000e+00,  3.12721482e-07,\n",
      "        -0.00000000e+00, -0.00000000e+00, -3.28436717e-02],\n",
      "       [-0.00000000e+00, -3.71757523e-07, -3.95162061e-07,\n",
      "         0.00000000e+00,  1.13189109e-02,  1.13189071e-02],\n",
      "       [ 0.00000000e+00,  0.00000000e+00,  7.61473075e-07,\n",
      "        -0.00000000e+00, -0.00000000e+00, -4.43698801e-02],\n",
      "       [ 0.00000000e+00,  0.00000000e+00,  2.09124255e-06,\n",
      "         0.00000000e+00,  0.00000000e+00,  2.28846557e-02],\n",
      "       [ 0.00000000e+00, -1.27299158e-08, -2.28032633e-08,\n",
      "         0.00000000e+00,  1.81426723e-02,  1.81426778e-02],\n",
      "       [ 0.00000000e+00,  3.34799282e-08,  4.08686525e-08,\n",
      "        -0.00000000e+00, -1.16096493e-02, -1.16096530e-02],\n",
      "       [ 0.00000000e+00,  0.00000000e+00,  2.71286171e-06,\n",
      "         0.00000000e+00,  0.00000000e+00,  6.19306825e-02],\n",
      "       [-0.00000000e+00, -7.56638087e-07, -8.00844077e-07,\n",
      "         0.00000000e+00,  1.77575760e-02,  1.77575666e-02],\n",
      "       [ 0.00000000e+00,  0.00000000e+00,  3.05594341e-07,\n",
      "         0.00000000e+00,  0.00000000e+00,  3.61516215e-02],\n",
      "       [ 0.00000000e+00,  0.00000000e+00,  1.04794431e-07,\n",
      "        -0.00000000e+00, -0.00000000e+00, -1.97078828e-02],\n",
      "       [-0.00000000e+00, -0.00000000e+00, -2.95757422e-06,\n",
      "         0.00000000e+00,  0.00000000e+00,  1.00318097e-01],\n",
      "       [ 0.00000000e+00,  5.35993365e-07,  5.71222529e-07,\n",
      "        -0.00000000e+00, -1.94711294e-02, -1.94711257e-02],\n",
      "       [-0.00000000e+00, -5.73586647e-07, -5.92808874e-07,\n",
      "        -0.00000000e+00, -1.55391432e-02, -1.55391619e-02],\n",
      "       [-0.00000000e+00, -8.20009916e-07, -8.61923809e-07,\n",
      "         0.00000000e+00,  7.06975628e-03,  7.06974138e-03],\n",
      "       [ 0.00000000e+00,  0.00000000e+00,  2.39325914e-06,\n",
      "         0.00000000e+00,  0.00000000e+00,  6.89978153e-02],\n",
      "       [-0.00000000e+00, -1.27691101e-06, -1.35870266e-06,\n",
      "         0.00000000e+00,  4.39625643e-02,  4.39625569e-02],\n",
      "       [-0.00000000e+00, -1.53900785e-07, -1.47210059e-07,\n",
      "        -0.00000000e+00, -2.67734509e-02, -2.67734658e-02],\n",
      "       [-0.00000000e+00, -0.00000000e+00, -3.83233754e-07,\n",
      "        -0.00000000e+00, -0.00000000e+00, -7.50926360e-02],\n",
      "       [-0.00000000e+00,  1.23163639e-08,  2.85602901e-08,\n",
      "        -0.00000000e+00, -3.04964744e-02, -3.04964855e-02],\n",
      "       [ 0.00000000e+00,  4.70082597e-07,  4.77684068e-07,\n",
      "         0.00000000e+00,  2.82913279e-02,  2.82913502e-02],\n",
      "       [-0.00000000e+00, -9.53766754e-09,  7.13247328e-09,\n",
      "        -0.00000000e+00, -3.29288356e-02, -3.29288505e-02],\n",
      "       [-0.00000000e+00, -8.24683809e-07, -8.66025516e-07,\n",
      "         0.00000000e+00,  4.79030982e-03,  4.79029352e-03],\n",
      "       [ 0.00000000e+00,  0.00000000e+00,  6.99197244e-07,\n",
      "         0.00000000e+00,  0.00000000e+00,  5.10131707e-04],\n",
      "       [ 0.00000000e+00,  8.54058584e-08,  1.02592367e-07,\n",
      "        -0.00000000e+00, -2.56762300e-02, -2.56762374e-02],\n",
      "       [-0.00000000e+00, -6.02994191e-07, -6.40441101e-07,\n",
      "         0.00000000e+00,  1.78182293e-02,  1.78182218e-02],\n",
      "       [-0.00000000e+00, -0.00000000e+00, -1.32899356e-06,\n",
      "        -0.00000000e+00, -0.00000000e+00, -3.39160860e-02],\n",
      "       [-0.00000000e+00, -0.00000000e+00, -9.15007590e-08,\n",
      "        -0.00000000e+00, -0.00000000e+00, -3.05970684e-02],\n",
      "       [ 0.00000000e+00,  1.21368350e-06,  1.25346844e-06,\n",
      "         0.00000000e+00,  3.26463766e-02,  3.26464139e-02],\n",
      "       [ 0.00000000e+00,  1.21538449e-06,  1.27938790e-06,\n",
      "        -0.00000000e+00, -1.22026987e-02, -1.22026764e-02],\n",
      "       [ 0.00000000e+00,  4.15452746e-07,  4.18751114e-07,\n",
      "         0.00000000e+00,  3.09067164e-02,  3.09067369e-02],\n",
      "       [-0.00000000e+00, -4.30378378e-07, -4.38388952e-07,\n",
      "        -0.00000000e+00, -2.42669396e-02, -2.42669582e-02],\n",
      "       [ 0.00000000e+00,  7.12222629e-07,  7.21969002e-07,\n",
      "         0.00000000e+00,  4.51387018e-02,  4.51387353e-02],\n",
      "       [-0.00000000e+00, -0.00000000e+00, -5.83743770e-07,\n",
      "         0.00000000e+00,  0.00000000e+00,  1.29657025e-02],\n",
      "       [-0.00000000e+00, -0.00000000e+00, -5.58836234e-07,\n",
      "        -0.00000000e+00, -0.00000000e+00, -1.65162768e-04],\n",
      "       [ 0.00000000e+00,  1.93865631e-07,  1.83889213e-07,\n",
      "         0.00000000e+00,  3.73042673e-02,  3.73042859e-02],\n",
      "       [ 0.00000000e+00,  1.40139650e-06,  1.46680281e-06,\n",
      "         0.00000000e+00,  1.71053445e-03,  1.71056599e-03],\n",
      "       [-0.00000000e+00, -0.00000000e+00, -2.59378538e-07,\n",
      "        -0.00000000e+00, -0.00000000e+00, -9.76562053e-02],\n",
      "       [ 0.00000000e+00,  1.29787637e-07,  1.25618598e-07,\n",
      "         0.00000000e+00,  1.97286066e-02,  1.97286177e-02],\n",
      "       [ 0.00000000e+00,  0.00000000e+00,  5.87551426e-07,\n",
      "        -0.00000000e+00, -0.00000000e+00, -2.99127698e-02],\n",
      "       [-0.00000000e+00, -0.00000000e+00, -1.55128930e-06,\n",
      "         0.00000000e+00,  0.00000000e+00,  2.85853446e-03],\n",
      "       [ 0.00000000e+00,  1.70696453e-07,  1.66146322e-07,\n",
      "         0.00000000e+00,  2.45924387e-02,  2.45924518e-02],\n",
      "       [ 0.00000000e+00,  7.80410062e-07,  7.94170774e-07,\n",
      "         0.00000000e+00,  4.34078164e-02,  4.34078500e-02],\n",
      "       [-0.00000000e+00,  0.00000000e+00,  4.86728169e-08,\n",
      "         0.00000000e+00,  0.00000000e+00,  4.21534181e-02],\n",
      "       [-0.00000000e+00, -3.67909678e-07, -3.82245133e-07,\n",
      "        -0.00000000e+00, -5.92288096e-03, -5.92289120e-03],\n",
      "       [-0.00000000e+00, -1.95139978e-06, -2.08245683e-06,\n",
      "         0.00000000e+00,  7.86376894e-02,  7.86376819e-02],\n",
      "       [-0.00000000e+00, -5.47366596e-07, -5.85439125e-07,\n",
      "         0.00000000e+00,  2.49762647e-02,  2.49762628e-02],\n",
      "       [ 0.00000000e+00,  0.00000000e+00,  5.73393891e-07,\n",
      "         0.00000000e+00,  0.00000000e+00,  3.82065959e-02],\n",
      "       [ 0.00000000e+00,  0.00000000e+00,  1.15228568e-06,\n",
      "         0.00000000e+00,  0.00000000e+00,  4.35438566e-02],\n",
      "       [-0.00000000e+00, -0.00000000e+00, -6.52162157e-07,\n",
      "        -0.00000000e+00, -0.00000000e+00, -9.49379522e-04],\n",
      "       [ 0.00000000e+00,  6.13928108e-08,  7.95772976e-08,\n",
      "        -0.00000000e+00, -2.92461906e-02, -2.92461999e-02],\n",
      "       [-0.00000000e+00, -0.00000000e+00, -1.09712232e-06,\n",
      "         0.00000000e+00,  0.00000000e+00,  6.87636659e-02],\n",
      "       [-0.00000000e+00, -0.00000000e+00, -9.05563979e-07,\n",
      "         0.00000000e+00,  0.00000000e+00,  3.08645908e-02],\n",
      "       [ 0.00000000e+00,  2.52891084e-07,  2.62959617e-07,\n",
      "         0.00000000e+00,  3.75730358e-03,  3.75731057e-03],\n",
      "       [ 0.00000000e+00,  1.11952761e-06,  1.17073387e-06,\n",
      "         0.00000000e+00,  3.21427011e-03,  3.21429572e-03],\n",
      "       [-0.00000000e+00, -3.68869422e-07, -3.87394095e-07,\n",
      "         0.00000000e+00,  2.66175531e-03,  2.66174856e-03],\n",
      "       [-0.00000000e+00, -9.23852710e-08, -8.45091463e-08,\n",
      "        -0.00000000e+00, -2.35114936e-02, -2.35115048e-02],\n",
      "       [-0.00000000e+00,  0.00000000e+00,  3.22785780e-08,\n",
      "        -0.00000000e+00, -0.00000000e+00, -1.52692990e-03],\n",
      "       [-0.00000000e+00,  0.00000000e+00,  5.91055169e-08,\n",
      "        -0.00000000e+00, -0.00000000e+00, -2.58669667e-02],\n",
      "       [-0.00000000e+00,  0.00000000e+00,  2.06027934e-07,\n",
      "        -0.00000000e+00, -0.00000000e+00, -2.47388948e-02],\n",
      "       [ 0.00000000e+00,  1.47077571e-07,  1.64099973e-07,\n",
      "        -0.00000000e+00, -1.93257947e-02, -1.93257984e-02],\n",
      "       [-0.00000000e+00, -0.00000000e+00, -1.35581479e-06,\n",
      "        -0.00000000e+00, -0.00000000e+00, -2.08821017e-02],\n",
      "       [ 0.00000000e+00,  0.00000000e+00,  1.52485256e-07,\n",
      "         0.00000000e+00,  0.00000000e+00,  2.17890721e-02],\n",
      "       [ 0.00000000e+00,  0.00000000e+00,  4.73241926e-07,\n",
      "         0.00000000e+00,  0.00000000e+00,  8.72563571e-02],\n",
      "       [-0.00000000e+00, -0.00000000e+00, -1.31562479e-06,\n",
      "         0.00000000e+00,  0.00000000e+00,  8.38159546e-02],\n",
      "       [-0.00000000e+00, -0.00000000e+00, -1.66526911e-06,\n",
      "         0.00000000e+00,  0.00000000e+00,  4.25971448e-02],\n",
      "       [ 0.00000000e+00,  0.00000000e+00,  1.34768618e-06,\n",
      "         0.00000000e+00,  0.00000000e+00,  4.66205142e-02],\n",
      "       [ 0.00000000e+00,  7.85341115e-07,  8.32613352e-07,\n",
      "        -0.00000000e+00, -1.92518812e-02, -1.92518700e-02],\n",
      "       [ 0.00000000e+00,  1.03881098e-06,  1.05975244e-06,\n",
      "         0.00000000e+00,  5.28383180e-02,  5.28383590e-02],\n",
      "       [ 0.00000000e+00,  0.00000000e+00,  2.36663084e-07,\n",
      "         0.00000000e+00,  0.00000000e+00,  2.43107099e-02],\n",
      "       [-0.00000000e+00, -2.39010546e-07, -2.64091085e-07,\n",
      "         0.00000000e+00,  2.75979843e-02,  2.75979899e-02],\n",
      "       [ 0.00000000e+00,  0.00000000e+00,  9.12774681e-07,\n",
      "        -0.00000000e+00, -0.00000000e+00, -1.76565081e-03],\n",
      "       [ 0.00000000e+00,  1.25586394e-06,  1.29110538e-06,\n",
      "         0.00000000e+00,  4.47804220e-02,  4.47804667e-02],\n",
      "       [ 0.00000000e+00,  3.07431748e-07,  3.20936181e-07,\n",
      "         0.00000000e+00,  1.91012200e-03,  1.91012945e-03],\n",
      "       [-0.00000000e+00, -0.00000000e+00, -4.76573888e-07,\n",
      "        -0.00000000e+00, -0.00000000e+00, -3.67059074e-02],\n",
      "       [-0.00000000e+00, -0.00000000e+00, -2.05077890e-06,\n",
      "         0.00000000e+00,  0.00000000e+00,  6.13700598e-02],\n",
      "       [-0.00000000e+00, -2.38277345e-08, -1.29991431e-08,\n",
      "        -0.00000000e+00, -2.34421622e-02, -2.34421715e-02],\n",
      "       [ 0.00000000e+00,  7.19617731e-07,  7.40487053e-07,\n",
      "         0.00000000e+00,  2.49100178e-02,  2.49100421e-02],\n",
      "       [ 0.00000000e+00,  2.89953789e-07,  3.07575760e-07,\n",
      "        -0.00000000e+00, -7.51867844e-03, -7.51867518e-03],\n",
      "       [-0.00000000e+00, -0.00000000e+00, -2.18448037e-07,\n",
      "         0.00000000e+00,  0.00000000e+00,  1.12962322e-02],\n",
      "       [-0.00000000e+00, -0.00000000e+00, -2.44098601e-07,\n",
      "        -0.00000000e+00, -0.00000000e+00, -6.36973092e-03],\n",
      "       [-0.00000000e+00,  0.00000000e+00,  4.89869549e-08,\n",
      "        -0.00000000e+00, -0.00000000e+00, -6.77631348e-02],\n",
      "       [ 0.00000000e+00,  0.00000000e+00,  6.19424213e-07,\n",
      "         0.00000000e+00,  0.00000000e+00,  7.34010190e-02],\n",
      "       [-0.00000000e+00, -0.00000000e+00, -1.31206457e-06,\n",
      "         0.00000000e+00,  0.00000000e+00,  5.89098521e-02],\n",
      "       [-0.00000000e+00, -2.22088559e-07, -2.27659868e-07,\n",
      "        -0.00000000e+00, -9.11875442e-03, -9.11876280e-03],\n",
      "       [ 0.00000000e+00,  0.00000000e+00,  1.18125047e-06,\n",
      "         0.00000000e+00,  0.00000000e+00,  2.46592727e-03],\n",
      "       [ 0.00000000e+00,  0.00000000e+00,  2.96480891e-07,\n",
      "        -0.00000000e+00, -0.00000000e+00, -2.79583372e-02],\n",
      "       [ 0.00000000e+00,  1.55331804e-07,  1.56840386e-07,\n",
      "         0.00000000e+00,  1.13151800e-02,  1.13151874e-02],\n",
      "       [-0.00000000e+00, -2.37966617e-07, -2.45221884e-07,\n",
      "        -0.00000000e+00, -7.98630901e-03, -7.98631739e-03]],      dtype=float32)}}}}}\n"
     ]
    }
   ],
   "source": [
    "state, loss = train_step(state, input, cond)"
   ]
  },
  {
   "cell_type": "markdown",
   "metadata": {},
   "source": [
    "## Simulation model"
   ]
  },
  {
   "cell_type": "code",
   "execution_count": 176,
   "metadata": {},
   "outputs": [
    {
     "data": {
      "text/plain": [
       "['bernoulli_glm',\n",
       " 'gaussian_linear',\n",
       " 'gaussian_linear_uniform',\n",
       " 'gaussian_mixture',\n",
       " 'lotka_volterra',\n",
       " 'sir',\n",
       " 'slcp',\n",
       " 'two_moons',\n",
       " 'slcp_distractors',\n",
       " 'bernoulli_glm_raw']"
      ]
     },
     "execution_count": 176,
     "metadata": {},
     "output_type": "execute_result"
    }
   ],
   "source": [
    "sbibm.get_available_tasks()"
   ]
  },
  {
   "cell_type": "code",
   "execution_count": 177,
   "metadata": {},
   "outputs": [
    {
     "name": "stdout",
     "output_type": "stream",
     "text": [
      "2 2\n"
     ]
    }
   ],
   "source": [
    "task = sbibm.get_task('two_moons')\n",
    "prior = task.get_prior()\n",
    "simulator = task.get_simulator()\n",
    "reference_samples = jnp.array(task.get_reference_posterior_samples(num_observation=1))\n",
    "observation = jnp.array(task.get_observation(num_observation=1))\n",
    "truth = jnp.array(task.get_true_parameters(num_observation=1).flatten())\n",
    "\n",
    "dim = truth.shape[0]\n",
    "dim_cond = observation.shape[1]\n",
    "\n",
    "print(dim, dim_cond)"
   ]
  },
  {
   "cell_type": "code",
   "execution_count": 178,
   "metadata": {},
   "outputs": [],
   "source": [
    "class SimulationDataset(data.Dataset):\n",
    "    def __init__(self, simulator, prior, num_samples):\n",
    "        super().__init__()\n",
    "        self.thetas = prior(num_samples=num_samples)\n",
    "        self.xs = simulator(self.thetas)\n",
    "        self.thetas, self.xs = np.array(self.thetas), np.array(self.xs)\n",
    "\n",
    "    def __len__(self):\n",
    "        return len(self.thetas)\n",
    "    \n",
    "    def __getitem__(self, index):\n",
    "        return self.thetas[index], self.xs[index]"
   ]
  },
  {
   "cell_type": "code",
   "execution_count": 179,
   "metadata": {},
   "outputs": [
    {
     "name": "stderr",
     "output_type": "stream",
     "text": [
      "/feynman/home/dap/lcs/sg276684/.conda/envs/jax_sbi/lib/python3.10/site-packages/torch/utils/data/dataloader.py:557: UserWarning: This DataLoader will create 4 worker processes in total. Our suggested max number of worker in current system is 2, which is smaller than what this DataLoader is going to create. Please be aware that excessive worker creation might get DataLoader running slow or even freeze, lower the worker number to avoid potential slowness/freeze if necessary.\n",
      "  warnings.warn(_create_warning_msg(\n"
     ]
    }
   ],
   "source": [
    "train_set = SimulationDataset(simulator, prior, 20000)\n",
    "val_set = SimulationDataset(simulator, prior, 2000)\n",
    "test_set = SimulationDataset(simulator, prior, 5000)\n",
    "\n",
    "train_loader, val_loader, test_loader = create_data_loader(\n",
    "    train_set, val_set, test_set,\n",
    "    train = [True, False, False],\n",
    "    batch_size=128\n",
    ")"
   ]
  },
  {
   "cell_type": "markdown",
   "metadata": {},
   "source": [
    "## Neural posterior estimation using MAFs"
   ]
  },
  {
   "cell_type": "code",
   "execution_count": 180,
   "metadata": {},
   "outputs": [],
   "source": [
    "from normflow.model import ConditionalMAF"
   ]
  },
  {
   "cell_type": "code",
   "execution_count": 181,
   "metadata": {},
   "outputs": [],
   "source": [
    "class MAFTrainer(TrainerModule):\n",
    "    def __init__(self,\n",
    "                 n_data : int,\n",
    "                 n_cond : int,\n",
    "                 n_layers : int,\n",
    "                 hidden_dims : list[int],\n",
    "                 use_reverse : bool,\n",
    "                 seed : int = 42,\n",
    "                 **kwargs\n",
    "                 ):\n",
    "        super().__init__(model_class=ConditionalMAF,\n",
    "                         model_hparams={\n",
    "                             'n_in': n_data,\n",
    "                             'n_cond': n_cond,\n",
    "                             'n_layers': n_layers,\n",
    "                             'hidden_dims': hidden_dims,\n",
    "                             'use_reverse': use_reverse,\n",
    "                             'seed': seed\n",
    "                         },\n",
    "                         \n",
    "                         **kwargs)\n",
    "        \n",
    "    def create_functions(self):\n",
    "        def loss_nll(params, batch, train):\n",
    "            thetas, xs = batch\n",
    "            output, updates = self.model.apply(\n",
    "                {'params': params},\n",
    "                  thetas, xs, train,\n",
    "                  mutable=['batch_stats'], method='log_prob')\n",
    "            return -jnp.mean(output), (output)\n",
    "        \n",
    "        def train_step(state, batch):\n",
    "            loss_fn = lambda params: loss_nll(params, batch, train=True)\n",
    "            (loss, (updates)), grads = jax.value_and_grad(loss_fn, has_aux=True)(state.params)\n",
    "            #print(loss)\n",
    "            state = state.apply_gradients(grads=grads)\n",
    "            #state = state.replace(batch_stats=updates['batch_stats'])\n",
    "            metrics = {'loss': loss}\n",
    "            return state, metrics\n",
    "        \n",
    "        def eval_step(state, batch):\n",
    "            loss, _ = loss_nll(state.params, batch, train=False)\n",
    "            return {'loss': loss}\n",
    "        \n",
    "        return train_step, eval_step\n",
    "        \n",
    "    def print_tabulate(self, exmp_input):\n",
    "        pass\n"
   ]
  },
  {
   "cell_type": "code",
   "execution_count": 182,
   "metadata": {},
   "outputs": [
    {
     "name": "stderr",
     "output_type": "stream",
     "text": [
      "/feynman/home/dap/lcs/sg276684/.conda/envs/jax_sbi/lib/python3.10/site-packages/torch/utils/data/dataloader.py:557: UserWarning: This DataLoader will create 4 worker processes in total. Our suggested max number of worker in current system is 2, which is smaller than what this DataLoader is going to create. Please be aware that excessive worker creation might get DataLoader running slow or even freeze, lower the worker number to avoid potential slowness/freeze if necessary.\n",
      "  warnings.warn(_create_warning_msg(\n"
     ]
    }
   ],
   "source": [
    "CHECKPOINT_PATH = '~/work/jax/notebooks/checkpoints/'\n",
    "\n",
    "trainer = MAFTrainer(\n",
    "    n_data=dim,\n",
    "    n_cond=dim_cond,\n",
    "    n_layers=5,\n",
    "    hidden_dims=[128, 128],\n",
    "    optimizer_hparams={'lr': 4e-3},\n",
    "    logger_params={'base_log_dir': CHECKPOINT_PATH},\n",
    "    exmp_input=next(iter(train_loader)),\n",
    "    check_val_every_epoch=1,\n",
    "    debug=False,\n",
    "    use_reverse=True\n",
    ")"
   ]
  },
  {
   "cell_type": "code",
   "execution_count": 183,
   "metadata": {},
   "outputs": [
    {
     "data": {
      "application/vnd.jupyter.widget-view+json": {
       "model_id": "e2e8d68c2a7e4ae69790669d4aafad72",
       "version_major": 2,
       "version_minor": 0
      },
      "text/plain": [
       "Epochs:   0%|          | 0/50 [00:00<?, ?it/s]"
      ]
     },
     "metadata": {},
     "output_type": "display_data"
    },
    {
     "data": {
      "application/vnd.jupyter.widget-view+json": {
       "model_id": "55d17db6fb924b88affb8e3b6a755016",
       "version_major": 2,
       "version_minor": 0
      },
      "text/plain": [
       "Training:   0%|          | 0/156 [00:00<?, ?it/s]"
      ]
     },
     "metadata": {},
     "output_type": "display_data"
    },
    {
     "name": "stderr",
     "output_type": "stream",
     "text": [
      "/feynman/home/dap/lcs/sg276684/.conda/envs/jax_sbi/lib/python3.10/site-packages/torch/utils/data/dataloader.py:557: UserWarning: This DataLoader will create 4 worker processes in total. Our suggested max number of worker in current system is 2, which is smaller than what this DataLoader is going to create. Please be aware that excessive worker creation might get DataLoader running slow or even freeze, lower the worker number to avoid potential slowness/freeze if necessary.\n",
      "  warnings.warn(_create_warning_msg(\n"
     ]
    },
    {
     "data": {
      "application/vnd.jupyter.widget-view+json": {
       "model_id": "e3063b50df9148269e365d495d86c940",
       "version_major": 2,
       "version_minor": 0
      },
      "text/plain": [
       "Training:   0%|          | 0/156 [00:00<?, ?it/s]"
      ]
     },
     "metadata": {},
     "output_type": "display_data"
    },
    {
     "data": {
      "application/vnd.jupyter.widget-view+json": {
       "model_id": "d20c0d27d02f4bec9640d5a866350119",
       "version_major": 2,
       "version_minor": 0
      },
      "text/plain": [
       "Training:   0%|          | 0/156 [00:00<?, ?it/s]"
      ]
     },
     "metadata": {},
     "output_type": "display_data"
    },
    {
     "data": {
      "application/vnd.jupyter.widget-view+json": {
       "model_id": "7cbab0833a924627ad346d6d1dc466ec",
       "version_major": 2,
       "version_minor": 0
      },
      "text/plain": [
       "Training:   0%|          | 0/156 [00:00<?, ?it/s]"
      ]
     },
     "metadata": {},
     "output_type": "display_data"
    },
    {
     "data": {
      "application/vnd.jupyter.widget-view+json": {
       "model_id": "ad348fbc99954e1a87965b4ce481ed0a",
       "version_major": 2,
       "version_minor": 0
      },
      "text/plain": [
       "Training:   0%|          | 0/156 [00:00<?, ?it/s]"
      ]
     },
     "metadata": {},
     "output_type": "display_data"
    },
    {
     "data": {
      "application/vnd.jupyter.widget-view+json": {
       "model_id": "aad9a3c7662c4ea4847d07d49d3fdbd6",
       "version_major": 2,
       "version_minor": 0
      },
      "text/plain": [
       "Training:   0%|          | 0/156 [00:00<?, ?it/s]"
      ]
     },
     "metadata": {},
     "output_type": "display_data"
    },
    {
     "data": {
      "application/vnd.jupyter.widget-view+json": {
       "model_id": "fcc9c15668544855a082eb9fe68b47b1",
       "version_major": 2,
       "version_minor": 0
      },
      "text/plain": [
       "Training:   0%|          | 0/156 [00:00<?, ?it/s]"
      ]
     },
     "metadata": {},
     "output_type": "display_data"
    },
    {
     "data": {
      "application/vnd.jupyter.widget-view+json": {
       "model_id": "853413904bf643bf98b8e60bc38572ac",
       "version_major": 2,
       "version_minor": 0
      },
      "text/plain": [
       "Training:   0%|          | 0/156 [00:00<?, ?it/s]"
      ]
     },
     "metadata": {},
     "output_type": "display_data"
    },
    {
     "data": {
      "application/vnd.jupyter.widget-view+json": {
       "model_id": "f07a3a545ab24023bdb2dfa6586c9037",
       "version_major": 2,
       "version_minor": 0
      },
      "text/plain": [
       "Training:   0%|          | 0/156 [00:00<?, ?it/s]"
      ]
     },
     "metadata": {},
     "output_type": "display_data"
    },
    {
     "data": {
      "application/vnd.jupyter.widget-view+json": {
       "model_id": "fd1a7a57e584473db0b62f5ed6ca9e39",
       "version_major": 2,
       "version_minor": 0
      },
      "text/plain": [
       "Training:   0%|          | 0/156 [00:00<?, ?it/s]"
      ]
     },
     "metadata": {},
     "output_type": "display_data"
    },
    {
     "data": {
      "application/vnd.jupyter.widget-view+json": {
       "model_id": "1708064d359d4f46996b78645bbfc7f2",
       "version_major": 2,
       "version_minor": 0
      },
      "text/plain": [
       "Training:   0%|          | 0/156 [00:00<?, ?it/s]"
      ]
     },
     "metadata": {},
     "output_type": "display_data"
    },
    {
     "data": {
      "application/vnd.jupyter.widget-view+json": {
       "model_id": "743b5c3f9c2f47569ee7894dc95ff64c",
       "version_major": 2,
       "version_minor": 0
      },
      "text/plain": [
       "Training:   0%|          | 0/156 [00:00<?, ?it/s]"
      ]
     },
     "metadata": {},
     "output_type": "display_data"
    },
    {
     "data": {
      "application/vnd.jupyter.widget-view+json": {
       "model_id": "f584ba858c024755a272365869ce4b1a",
       "version_major": 2,
       "version_minor": 0
      },
      "text/plain": [
       "Training:   0%|          | 0/156 [00:00<?, ?it/s]"
      ]
     },
     "metadata": {},
     "output_type": "display_data"
    },
    {
     "data": {
      "application/vnd.jupyter.widget-view+json": {
       "model_id": "715d0f81163b453187615acac7cfe39c",
       "version_major": 2,
       "version_minor": 0
      },
      "text/plain": [
       "Training:   0%|          | 0/156 [00:00<?, ?it/s]"
      ]
     },
     "metadata": {},
     "output_type": "display_data"
    },
    {
     "data": {
      "application/vnd.jupyter.widget-view+json": {
       "model_id": "5b913ea78c1a49c4b234a83fd1430cb3",
       "version_major": 2,
       "version_minor": 0
      },
      "text/plain": [
       "Training:   0%|          | 0/156 [00:00<?, ?it/s]"
      ]
     },
     "metadata": {},
     "output_type": "display_data"
    },
    {
     "data": {
      "application/vnd.jupyter.widget-view+json": {
       "model_id": "914a40118f52462a9ae413a9f744b926",
       "version_major": 2,
       "version_minor": 0
      },
      "text/plain": [
       "Training:   0%|          | 0/156 [00:00<?, ?it/s]"
      ]
     },
     "metadata": {},
     "output_type": "display_data"
    },
    {
     "data": {
      "application/vnd.jupyter.widget-view+json": {
       "model_id": "09dc99823c1249a5a89e4698b5bb13a0",
       "version_major": 2,
       "version_minor": 0
      },
      "text/plain": [
       "Training:   0%|          | 0/156 [00:00<?, ?it/s]"
      ]
     },
     "metadata": {},
     "output_type": "display_data"
    },
    {
     "data": {
      "application/vnd.jupyter.widget-view+json": {
       "model_id": "2d97c60611294971b2d4900431a1168d",
       "version_major": 2,
       "version_minor": 0
      },
      "text/plain": [
       "Training:   0%|          | 0/156 [00:00<?, ?it/s]"
      ]
     },
     "metadata": {},
     "output_type": "display_data"
    },
    {
     "data": {
      "application/vnd.jupyter.widget-view+json": {
       "model_id": "cfb73d4656714b4dae9e297e8c534091",
       "version_major": 2,
       "version_minor": 0
      },
      "text/plain": [
       "Training:   0%|          | 0/156 [00:00<?, ?it/s]"
      ]
     },
     "metadata": {},
     "output_type": "display_data"
    },
    {
     "data": {
      "application/vnd.jupyter.widget-view+json": {
       "model_id": "e241d7a7a77249f5a82e565cdefe8a12",
       "version_major": 2,
       "version_minor": 0
      },
      "text/plain": [
       "Training:   0%|          | 0/156 [00:00<?, ?it/s]"
      ]
     },
     "metadata": {},
     "output_type": "display_data"
    },
    {
     "data": {
      "application/vnd.jupyter.widget-view+json": {
       "model_id": "aa9cdb7a531d4cf1b5bab66d76400924",
       "version_major": 2,
       "version_minor": 0
      },
      "text/plain": [
       "Training:   0%|          | 0/156 [00:00<?, ?it/s]"
      ]
     },
     "metadata": {},
     "output_type": "display_data"
    },
    {
     "data": {
      "application/vnd.jupyter.widget-view+json": {
       "model_id": "9689c87518c94237b789d1d3619da6ad",
       "version_major": 2,
       "version_minor": 0
      },
      "text/plain": [
       "Training:   0%|          | 0/156 [00:00<?, ?it/s]"
      ]
     },
     "metadata": {},
     "output_type": "display_data"
    },
    {
     "data": {
      "application/vnd.jupyter.widget-view+json": {
       "model_id": "ad5fc2bbe88d4c0bbdd73452c4794613",
       "version_major": 2,
       "version_minor": 0
      },
      "text/plain": [
       "Training:   0%|          | 0/156 [00:00<?, ?it/s]"
      ]
     },
     "metadata": {},
     "output_type": "display_data"
    },
    {
     "data": {
      "application/vnd.jupyter.widget-view+json": {
       "model_id": "668ea26179e34eed8397546c22bbbd9d",
       "version_major": 2,
       "version_minor": 0
      },
      "text/plain": [
       "Training:   0%|          | 0/156 [00:00<?, ?it/s]"
      ]
     },
     "metadata": {},
     "output_type": "display_data"
    },
    {
     "data": {
      "application/vnd.jupyter.widget-view+json": {
       "model_id": "00bb4cf6b7f644b7b4cae2ef837b5d42",
       "version_major": 2,
       "version_minor": 0
      },
      "text/plain": [
       "Training:   0%|          | 0/156 [00:00<?, ?it/s]"
      ]
     },
     "metadata": {},
     "output_type": "display_data"
    },
    {
     "data": {
      "application/vnd.jupyter.widget-view+json": {
       "model_id": "b39fb205788f4566a589a4b016cd6ca0",
       "version_major": 2,
       "version_minor": 0
      },
      "text/plain": [
       "Training:   0%|          | 0/156 [00:00<?, ?it/s]"
      ]
     },
     "metadata": {},
     "output_type": "display_data"
    },
    {
     "data": {
      "application/vnd.jupyter.widget-view+json": {
       "model_id": "1f68d67aa0174a388c68f9384a4fbf01",
       "version_major": 2,
       "version_minor": 0
      },
      "text/plain": [
       "Training:   0%|          | 0/156 [00:00<?, ?it/s]"
      ]
     },
     "metadata": {},
     "output_type": "display_data"
    },
    {
     "data": {
      "application/vnd.jupyter.widget-view+json": {
       "model_id": "cfe8fbbff7c64a2ab792b90d2ac760d6",
       "version_major": 2,
       "version_minor": 0
      },
      "text/plain": [
       "Training:   0%|          | 0/156 [00:00<?, ?it/s]"
      ]
     },
     "metadata": {},
     "output_type": "display_data"
    },
    {
     "data": {
      "application/vnd.jupyter.widget-view+json": {
       "model_id": "7d93cfbd8ac54297a333e963fd46dee9",
       "version_major": 2,
       "version_minor": 0
      },
      "text/plain": [
       "Training:   0%|          | 0/156 [00:00<?, ?it/s]"
      ]
     },
     "metadata": {},
     "output_type": "display_data"
    },
    {
     "data": {
      "application/vnd.jupyter.widget-view+json": {
       "model_id": "ab60515f247b419d9277784fdf32711d",
       "version_major": 2,
       "version_minor": 0
      },
      "text/plain": [
       "Training:   0%|          | 0/156 [00:00<?, ?it/s]"
      ]
     },
     "metadata": {},
     "output_type": "display_data"
    },
    {
     "data": {
      "application/vnd.jupyter.widget-view+json": {
       "model_id": "9dfb0b73b1394e10ae6645944595909c",
       "version_major": 2,
       "version_minor": 0
      },
      "text/plain": [
       "Training:   0%|          | 0/156 [00:00<?, ?it/s]"
      ]
     },
     "metadata": {},
     "output_type": "display_data"
    },
    {
     "data": {
      "application/vnd.jupyter.widget-view+json": {
       "model_id": "18b1c63431764c29be66b6e88660a97e",
       "version_major": 2,
       "version_minor": 0
      },
      "text/plain": [
       "Training:   0%|          | 0/156 [00:00<?, ?it/s]"
      ]
     },
     "metadata": {},
     "output_type": "display_data"
    },
    {
     "data": {
      "application/vnd.jupyter.widget-view+json": {
       "model_id": "026f0c79a61048d1bff506fb0f553e89",
       "version_major": 2,
       "version_minor": 0
      },
      "text/plain": [
       "Training:   0%|          | 0/156 [00:00<?, ?it/s]"
      ]
     },
     "metadata": {},
     "output_type": "display_data"
    },
    {
     "data": {
      "application/vnd.jupyter.widget-view+json": {
       "model_id": "427407b22c6b408ea612cbc4ffb50ef4",
       "version_major": 2,
       "version_minor": 0
      },
      "text/plain": [
       "Training:   0%|          | 0/156 [00:00<?, ?it/s]"
      ]
     },
     "metadata": {},
     "output_type": "display_data"
    },
    {
     "data": {
      "application/vnd.jupyter.widget-view+json": {
       "model_id": "133adffa5c4b4bddb3837bf2a4821379",
       "version_major": 2,
       "version_minor": 0
      },
      "text/plain": [
       "Training:   0%|          | 0/156 [00:00<?, ?it/s]"
      ]
     },
     "metadata": {},
     "output_type": "display_data"
    },
    {
     "data": {
      "application/vnd.jupyter.widget-view+json": {
       "model_id": "0ff2cf1e19d841208e18fc1b0fc86c9f",
       "version_major": 2,
       "version_minor": 0
      },
      "text/plain": [
       "Training:   0%|          | 0/156 [00:00<?, ?it/s]"
      ]
     },
     "metadata": {},
     "output_type": "display_data"
    },
    {
     "data": {
      "application/vnd.jupyter.widget-view+json": {
       "model_id": "19188f67b076453db9b2f15fe9a15089",
       "version_major": 2,
       "version_minor": 0
      },
      "text/plain": [
       "Training:   0%|          | 0/156 [00:00<?, ?it/s]"
      ]
     },
     "metadata": {},
     "output_type": "display_data"
    },
    {
     "data": {
      "application/vnd.jupyter.widget-view+json": {
       "model_id": "ee28f8d96da2497b84a691d252416ab0",
       "version_major": 2,
       "version_minor": 0
      },
      "text/plain": [
       "Training:   0%|          | 0/156 [00:00<?, ?it/s]"
      ]
     },
     "metadata": {},
     "output_type": "display_data"
    },
    {
     "data": {
      "application/vnd.jupyter.widget-view+json": {
       "model_id": "73caecabf5b045b3b2e36993e09eca73",
       "version_major": 2,
       "version_minor": 0
      },
      "text/plain": [
       "Training:   0%|          | 0/156 [00:00<?, ?it/s]"
      ]
     },
     "metadata": {},
     "output_type": "display_data"
    },
    {
     "data": {
      "application/vnd.jupyter.widget-view+json": {
       "model_id": "d259a58014324d5e9438a2d85f5cd1d8",
       "version_major": 2,
       "version_minor": 0
      },
      "text/plain": [
       "Training:   0%|          | 0/156 [00:00<?, ?it/s]"
      ]
     },
     "metadata": {},
     "output_type": "display_data"
    },
    {
     "data": {
      "application/vnd.jupyter.widget-view+json": {
       "model_id": "d04d1972245a451e89b5207e953b8d1e",
       "version_major": 2,
       "version_minor": 0
      },
      "text/plain": [
       "Training:   0%|          | 0/156 [00:00<?, ?it/s]"
      ]
     },
     "metadata": {},
     "output_type": "display_data"
    },
    {
     "data": {
      "application/vnd.jupyter.widget-view+json": {
       "model_id": "c733847e3e4f460cb65f6c1db39cc484",
       "version_major": 2,
       "version_minor": 0
      },
      "text/plain": [
       "Training:   0%|          | 0/156 [00:00<?, ?it/s]"
      ]
     },
     "metadata": {},
     "output_type": "display_data"
    },
    {
     "data": {
      "application/vnd.jupyter.widget-view+json": {
       "model_id": "b7ee112c22fc49a486c2d682d517370c",
       "version_major": 2,
       "version_minor": 0
      },
      "text/plain": [
       "Training:   0%|          | 0/156 [00:00<?, ?it/s]"
      ]
     },
     "metadata": {},
     "output_type": "display_data"
    },
    {
     "data": {
      "application/vnd.jupyter.widget-view+json": {
       "model_id": "d01ae861feb74f3380a9e5ef42986a90",
       "version_major": 2,
       "version_minor": 0
      },
      "text/plain": [
       "Training:   0%|          | 0/156 [00:00<?, ?it/s]"
      ]
     },
     "metadata": {},
     "output_type": "display_data"
    },
    {
     "data": {
      "application/vnd.jupyter.widget-view+json": {
       "model_id": "bb078f5f7cd841429bd1c030273b72f7",
       "version_major": 2,
       "version_minor": 0
      },
      "text/plain": [
       "Training:   0%|          | 0/156 [00:00<?, ?it/s]"
      ]
     },
     "metadata": {},
     "output_type": "display_data"
    },
    {
     "data": {
      "application/vnd.jupyter.widget-view+json": {
       "model_id": "0164726fdba04e06add9cde9f9f03862",
       "version_major": 2,
       "version_minor": 0
      },
      "text/plain": [
       "Training:   0%|          | 0/156 [00:00<?, ?it/s]"
      ]
     },
     "metadata": {},
     "output_type": "display_data"
    },
    {
     "data": {
      "application/vnd.jupyter.widget-view+json": {
       "model_id": "e5f7c4409ac148088f9bc0f7a508e891",
       "version_major": 2,
       "version_minor": 0
      },
      "text/plain": [
       "Training:   0%|          | 0/156 [00:00<?, ?it/s]"
      ]
     },
     "metadata": {},
     "output_type": "display_data"
    },
    {
     "data": {
      "application/vnd.jupyter.widget-view+json": {
       "model_id": "f823ecb35b7b438f9870499694aea3a8",
       "version_major": 2,
       "version_minor": 0
      },
      "text/plain": [
       "Training:   0%|          | 0/156 [00:00<?, ?it/s]"
      ]
     },
     "metadata": {},
     "output_type": "display_data"
    },
    {
     "data": {
      "application/vnd.jupyter.widget-view+json": {
       "model_id": "51719c539268497e8e41534665144936",
       "version_major": 2,
       "version_minor": 0
      },
      "text/plain": [
       "Training:   0%|          | 0/156 [00:00<?, ?it/s]"
      ]
     },
     "metadata": {},
     "output_type": "display_data"
    },
    {
     "data": {
      "application/vnd.jupyter.widget-view+json": {
       "model_id": "1bfaa92a6fcd4fc6a4188c7326acede2",
       "version_major": 2,
       "version_minor": 0
      },
      "text/plain": [
       "Training:   0%|          | 0/156 [00:00<?, ?it/s]"
      ]
     },
     "metadata": {},
     "output_type": "display_data"
    }
   ],
   "source": [
    "metrics = trainer.train_model(\n",
    "    train_loader, val_loader, test_loader=test_loader, num_epochs=50\n",
    ")"
   ]
  },
  {
   "cell_type": "code",
   "execution_count": 184,
   "metadata": {},
   "outputs": [
    {
     "name": "stdout",
     "output_type": "stream",
     "text": [
      "Training loss: -3.544481115571212\n",
      "Validation loss: -3.567558592556776\n",
      "Test loss: -3.5508963421709843\n"
     ]
    }
   ],
   "source": [
    "print(f'Training loss: {metrics[\"train/loss\"]}')\n",
    "print(f'Validation loss: {metrics[\"val/loss\"]}')\n",
    "print(f'Test loss: {metrics[\"test/loss\"]}')"
   ]
  },
  {
   "cell_type": "code",
   "execution_count": 185,
   "metadata": {},
   "outputs": [],
   "source": [
    "model = trainer.bind_model()"
   ]
  },
  {
   "cell_type": "code",
   "execution_count": 186,
   "metadata": {},
   "outputs": [],
   "source": [
    "key = jax.random.PRNGKey(42)\n",
    "\n",
    "samples = model.apply({'params': trainer.state.params}, observation*jnp.ones((10000, 1)), num_samples=10000, key=key, method='sample')"
   ]
  },
  {
   "cell_type": "code",
   "execution_count": 187,
   "metadata": {},
   "outputs": [
    {
     "name": "stderr",
     "output_type": "stream",
     "text": [
      "WARNING:chainconsumer:Parameter 0 in chain Truth is not constrained\n",
      "WARNING:chainconsumer:Parameter 0 in chain Prediction is not constrained\n",
      "WARNING:chainconsumer:Parameter 1 in chain Truth is not constrained\n",
      "WARNING:chainconsumer:Parameter 1 in chain Prediction is not constrained\n"
     ]
    },
    {
     "data": {
      "image/png": "[encoded data removed]",
      "text/plain": [
       "<Figure size 300x300 with 4 Axes>"
      ]
     },
     "metadata": {},
     "output_type": "display_data"
    }
   ],
   "source": [
    "from chainconsumer import ChainConsumer\n",
    "\n",
    "c = ChainConsumer()\n",
    "c.add_chain(reference_samples, shade_alpha = 0.5, name='Truth')\n",
    "c.add_chain(samples, shade_alpha = 0.5, name=\"Prediction\")\n",
    "#c.add_chain(jax.random.multivariate_normal(key, jnp.zeros(2), jnp.eye(2), (10000,)), shade_alpha = 0.5, name=\"Prior\")\n",
    "fig = c.plotter.plot(figsize=1.)\n",
    "plt.show()"
   ]
  },
  {
   "cell_type": "code",
   "execution_count": 188,
   "metadata": {},
   "outputs": [],
   "source": [
    "samples_image, _ = model.apply({'params': trainer.state.params}, reference_samples, observation*jnp.ones((10000, 1)), train=False)"
   ]
  },
  {
   "cell_type": "code",
   "execution_count": 189,
   "metadata": {},
   "outputs": [
    {
     "data": {
      "image/png": "[encoded data removed]",
      "text/plain": [
       "<Figure size 300x300 with 4 Axes>"
      ]
     },
     "metadata": {},
     "output_type": "display_data"
    }
   ],
   "source": [
    "c = ChainConsumer()\n",
    "c.add_chain(jax.random.multivariate_normal(key, jnp.zeros(2), jnp.eye(2), (10000,)), shade_alpha = 0.5, name='Truth')\n",
    "c.add_chain(samples_image, shade_alpha = 0.5, name=\"Prediction\")\n",
    "fig = c.plotter.plot(figsize=1.)\n",
    "plt.show()"
   ]
  }
 ],
 "metadata": {
  "kernelspec": {
   "display_name": "Python 3",
   "language": "python",
   "name": "python3"
  },
  "language_info": {
   "codemirror_mode": {
    "name": "ipython",
    "version": 3
   },
   "file_extension": ".py",
   "mimetype": "text/x-python",
   "name": "python",
   "nbconvert_exporter": "python",
   "pygments_lexer": "ipython3",
   "version": "3.10.13"
  }
 },
 "nbformat": 4,
 "nbformat_minor": 2
}
