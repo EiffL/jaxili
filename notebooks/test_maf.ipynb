{
 "cells": [
  {
   "cell_type": "markdown",
   "metadata": {},
   "source": [
    "# Masked Autoregressive Flows (MAFs)"
   ]
  },
  {
   "cell_type": "code",
   "execution_count": 66,
   "metadata": {},
   "outputs": [
    {
     "name": "stdout",
     "output_type": "stream",
     "text": [
      "The autoreload extension is already loaded. To reload it, use:\n",
      "  %reload_ext autoreload\n"
     ]
    }
   ],
   "source": [
    "%load_ext autoreload\n",
    "\n",
    "%autoreload 2\n",
    "\n",
    "import os\n",
    "\n",
    "os.environ[\"XLA_PYTHON_CLIENT_MEM_FRACTION\"] = \"0.33\"\n",
    "\n",
    "import numpy as np\n",
    "import jax\n",
    "import jax.numpy as jnp\n",
    "import haiku as hk\n",
    "import optax\n",
    "import sbibm\n",
    "import matplotlib.pyplot as plt\n",
    "from functools import partial\n",
    "from importlib import reload\n",
    "from typing import Sequence, Callable, Any\n",
    "\n",
    "import torch\n",
    "import torch.utils.data as data\n",
    "\n",
    "from normflow.utils import create_data_loader\n",
    "from normflow.train import TrainerModule, TrainState\n",
    "\n",
    "jax.config.update(\"jax_enable_x64\", True)"
   ]
  },
  {
   "cell_type": "markdown",
   "metadata": {},
   "source": [
    "### Testing Masked Linear layer"
   ]
  },
  {
   "cell_type": "code",
   "execution_count": 2,
   "metadata": {},
   "outputs": [],
   "source": [
    "from normflow.model import MaskedLinear\n",
    "\n",
    "model = MaskedLinear(3)\n",
    "input = jnp.arange(5)\n",
    "mask = jnp.zeros((5, 3))\n",
    "model.initialize_mask(mask)\n",
    "\n",
    "params = model.init(jax.random.PRNGKey(0), input)"
   ]
  },
  {
   "cell_type": "code",
   "execution_count": 3,
   "metadata": {},
   "outputs": [
    {
     "data": {
      "text/plain": [
       "Array([0., 0., 0.], dtype=float64)"
      ]
     },
     "execution_count": 3,
     "metadata": {},
     "output_type": "execute_result"
    }
   ],
   "source": [
    "model.apply(params, input) #The mask is initialized at 0"
   ]
  },
  {
   "cell_type": "code",
   "execution_count": 4,
   "metadata": {},
   "outputs": [
    {
     "name": "stdout",
     "output_type": "stream",
     "text": [
      "[[1. 1. 1.]\n",
      " [1. 1. 1.]\n",
      " [1. 1. 1.]\n",
      " [1. 1. 1.]\n",
      " [1. 1. 1.]]\n"
     ]
    }
   ],
   "source": [
    "mask = jnp.ones((5, 3))\n",
    "model.initialize_mask(mask)\n",
    "print(mask)"
   ]
  },
  {
   "cell_type": "code",
   "execution_count": 5,
   "metadata": {},
   "outputs": [
    {
     "data": {
      "text/plain": [
       "Array([ 1.64494925,  0.90466881, -4.55038065], dtype=float64)"
      ]
     },
     "execution_count": 5,
     "metadata": {},
     "output_type": "execute_result"
    }
   ],
   "source": [
    "model.apply(params, input) #The mask is full of one. You can check that you get the same result than with a dense layer."
   ]
  },
  {
   "cell_type": "code",
   "execution_count": 6,
   "metadata": {},
   "outputs": [],
   "source": [
    "from normflow.model import ConditionalMADE"
   ]
  },
  {
   "cell_type": "code",
   "execution_count": 7,
   "metadata": {},
   "outputs": [],
   "source": [
    "model = ConditionalMADE(3, [5, 5], n_cond=3, gaussian=True, random_order=True, seed=36, activation='silu')"
   ]
  },
  {
   "cell_type": "code",
   "execution_count": 8,
   "metadata": {},
   "outputs": [],
   "source": [
    "params = model.init(jax.random.PRNGKey(0), jnp.zeros(3), jnp.zeros(3))"
   ]
  },
  {
   "cell_type": "code",
   "execution_count": 9,
   "metadata": {},
   "outputs": [],
   "source": [
    "input = jnp.array([0.5, 0.5, 0.5])\n",
    "cond = jnp.array([1, 1, 1])\n",
    "result = model.apply(params, input, cond) "
   ]
  },
  {
   "cell_type": "code",
   "execution_count": 10,
   "metadata": {},
   "outputs": [
    {
     "data": {
      "text/plain": [
       "Array([ 0.16367364,  0.        , -0.02277961,  0.26304798,  0.        ,\n",
       "       -0.04986673], dtype=float64)"
      ]
     },
     "execution_count": 10,
     "metadata": {},
     "output_type": "execute_result"
    }
   ],
   "source": [
    "result"
   ]
  },
  {
   "cell_type": "markdown",
   "metadata": {},
   "source": [
    "### Testing MAF Layer"
   ]
  },
  {
   "cell_type": "code",
   "execution_count": 12,
   "metadata": {},
   "outputs": [],
   "source": [
    "from normflow.model import MAFLayer"
   ]
  },
  {
   "cell_type": "code",
   "execution_count": 13,
   "metadata": {},
   "outputs": [],
   "source": [
    "maf_layer = MAFLayer(3, 3, [5, 5], reverse=False, seed=100, activation='silu')"
   ]
  },
  {
   "cell_type": "code",
   "execution_count": 14,
   "metadata": {},
   "outputs": [],
   "source": [
    "params = maf_layer.init(jax.random.PRNGKey(0), jnp.zeros(3), jnp.zeros(3))"
   ]
  },
  {
   "cell_type": "code",
   "execution_count": 15,
   "metadata": {},
   "outputs": [
    {
     "data": {
      "text/plain": [
       "Array([ 0.        ,  0.        , -0.00258241,  0.        ,  0.        ,\n",
       "        0.01258937], dtype=float64)"
      ]
     },
     "execution_count": 15,
     "metadata": {},
     "output_type": "execute_result"
    }
   ],
   "source": [
    "input = jnp.arange(3)\n",
    "cond = jnp.zeros(3)\n",
    "\n",
    "maf_layer.apply(params, input, cond)"
   ]
  },
  {
   "cell_type": "code",
   "execution_count": 16,
   "metadata": {},
   "outputs": [
    {
     "data": {
      "text/plain": [
       "(Array([0.        , 1.        , 2.01522779], dtype=float64),\n",
       " Array(0.00629468, dtype=float64))"
      ]
     },
     "execution_count": 16,
     "metadata": {},
     "output_type": "execute_result"
    }
   ],
   "source": [
    "u, log_det = maf_layer.apply(params, input, cond, method=\"forward\")\n",
    "u, log_det"
   ]
  },
  {
   "cell_type": "code",
   "execution_count": 17,
   "metadata": {},
   "outputs": [
    {
     "data": {
      "text/plain": [
       "(Array([[0., 1., 2.]], dtype=float64), Array([-0.00629468], dtype=float64))"
      ]
     },
     "execution_count": 17,
     "metadata": {},
     "output_type": "execute_result"
    }
   ],
   "source": [
    "maf_layer.apply(params, u.reshape(1, 3), cond.reshape(1, 3), method=\"backward\") #We check that the MAFLayer is indeedinvertible."
   ]
  },
  {
   "cell_type": "markdown",
   "metadata": {},
   "source": [
    "### Testing MAF"
   ]
  },
  {
   "cell_type": "code",
   "execution_count": 35,
   "metadata": {},
   "outputs": [],
   "source": [
    "from normflow.model import ConditionalMAF"
   ]
  },
  {
   "cell_type": "code",
   "execution_count": 44,
   "metadata": {},
   "outputs": [],
   "source": [
    "maf = ConditionalMAF(3, 3, 2, [128, 128], use_reverse=False, seed=42, activation='silu')"
   ]
  },
  {
   "cell_type": "code",
   "execution_count": 45,
   "metadata": {},
   "outputs": [],
   "source": [
    "input = jnp.arange(9).reshape((3,3))\n",
    "cond = jnp.zeros((3,3))\n",
    "train = True\n",
    "variables  = maf.init(jax.random.PRNGKey(0), input, cond, train=True)"
   ]
  },
  {
   "cell_type": "code",
   "execution_count": 46,
   "metadata": {},
   "outputs": [
    {
     "data": {
      "text/plain": [
       "(Array([[ 0.        ,  1.        ,  2.10509021],\n",
       "        [ 3.        ,  5.62404077,  7.47547051],\n",
       "        [ 6.        , 18.8012329 , 18.50269527]], dtype=float64),\n",
       " Array([0.02389768, 0.70138165, 1.64236452], dtype=float64))"
      ]
     },
     "execution_count": 46,
     "metadata": {},
     "output_type": "execute_result"
    }
   ],
   "source": [
    "u, log_det = maf.apply(variables, input, cond)\n",
    "u, log_det"
   ]
  },
  {
   "cell_type": "code",
   "execution_count": 47,
   "metadata": {},
   "outputs": [
    {
     "data": {
      "text/plain": [
       "(Array([[0., 1., 2.],\n",
       "        [3., 4., 5.],\n",
       "        [6., 7., 8.]], dtype=float64),\n",
       " Array([-0.02389768, -0.70138165, -1.64236452], dtype=float64))"
      ]
     },
     "execution_count": 47,
     "metadata": {},
     "output_type": "execute_result"
    }
   ],
   "source": [
    "maf.apply(variables, u, cond, method='backward') #Same here, the transformation is invertible."
   ]
  },
  {
   "cell_type": "markdown",
   "metadata": {},
   "source": [
    "## Simulation model"
   ]
  },
  {
   "cell_type": "code",
   "execution_count": 48,
   "metadata": {},
   "outputs": [
    {
     "data": {
      "text/plain": [
       "['gaussian_mixture',\n",
       " 'lotka_volterra',\n",
       " 'two_moons',\n",
       " 'sir',\n",
       " 'slcp',\n",
       " 'gaussian_linear',\n",
       " 'bernoulli_glm',\n",
       " 'gaussian_linear_uniform',\n",
       " 'slcp_distractors',\n",
       " 'bernoulli_glm_raw']"
      ]
     },
     "execution_count": 48,
     "metadata": {},
     "output_type": "execute_result"
    }
   ],
   "source": [
    "sbibm.get_available_tasks()"
   ]
  },
  {
   "cell_type": "code",
   "execution_count": 388,
   "metadata": {},
   "outputs": [
    {
     "name": "stdout",
     "output_type": "stream",
     "text": [
      "2 2\n"
     ]
    }
   ],
   "source": [
    "task = sbibm.get_task('two_moons')\n",
    "prior = task.get_prior()\n",
    "simulator = task.get_simulator()\n",
    "reference_samples = jnp.array(task.get_reference_posterior_samples(num_observation=1))\n",
    "observation = jnp.array(task.get_observation(num_observation=1))\n",
    "truth = jnp.array(task.get_true_parameters(num_observation=1).flatten())\n",
    "\n",
    "dim = truth.shape[0]\n",
    "dim_cond = observation.shape[1]\n",
    "\n",
    "print(dim, dim_cond)"
   ]
  },
  {
   "cell_type": "code",
   "execution_count": 389,
   "metadata": {},
   "outputs": [],
   "source": [
    "class SimulationDataset(data.Dataset):\n",
    "    def __init__(self, simulator, prior, num_samples):\n",
    "        super().__init__()\n",
    "        self.thetas = prior(num_samples=num_samples)\n",
    "        self.xs = simulator(self.thetas)\n",
    "        self.thetas, self.xs = np.array(self.thetas, dtype=np.float64), np.array(self.xs, np.float64)\n",
    "\n",
    "    def __len__(self):\n",
    "        return len(self.thetas)\n",
    "    \n",
    "    def __getitem__(self, index):\n",
    "        return self.thetas[index], self.xs[index]"
   ]
  },
  {
   "cell_type": "code",
   "execution_count": 390,
   "metadata": {},
   "outputs": [],
   "source": [
    "train_set = SimulationDataset(simulator, prior, 20000)\n",
    "val_set = SimulationDataset(simulator, prior, 2000)\n",
    "test_set = SimulationDataset(simulator, prior, 5000)\n",
    "\n",
    "train_loader, val_loader, test_loader = create_data_loader(\n",
    "    train_set, val_set, test_set,\n",
    "    train = [True, False, False],\n",
    "    batch_size=128\n",
    ")"
   ]
  },
  {
   "cell_type": "markdown",
   "metadata": {},
   "source": [
    "## Neural posterior estimation using MAFs"
   ]
  },
  {
   "cell_type": "code",
   "execution_count": 391,
   "metadata": {},
   "outputs": [],
   "source": [
    "from normflow.model import ConditionalMAF"
   ]
  },
  {
   "cell_type": "code",
   "execution_count": 392,
   "metadata": {},
   "outputs": [],
   "source": [
    "class MAFTrainer(TrainerModule):\n",
    "    def __init__(self,\n",
    "                 n_in : int,\n",
    "                 n_cond : int,\n",
    "                 n_layers : int,\n",
    "                 layers : list[int],\n",
    "                 use_reverse : bool,\n",
    "                 seed : int = 42,\n",
    "                 activation : str = 'silu',\n",
    "                 trial : Any = None,\n",
    "                 **kwargs\n",
    "                 ):\n",
    "        super().__init__(model_class=ConditionalMAF,\n",
    "                         model_hparams={\n",
    "                             'n_in': n_in,\n",
    "                             'n_cond': n_cond,\n",
    "                             'n_layers': n_layers,\n",
    "                             'layers': layers,\n",
    "                             'use_reverse': use_reverse,\n",
    "                             'seed': seed,\n",
    "                             'activation': activation\n",
    "                         },\n",
    "                         \n",
    "                         **kwargs)\n",
    "        self.trial = trial\n",
    "        \n",
    "    def create_functions(self):\n",
    "        def loss_nll(params, batch, train):\n",
    "            thetas, xs = batch\n",
    "            output, updates = self.model.apply(\n",
    "                {'params': params},\n",
    "                  thetas, xs, train,\n",
    "                  mutable=['batch_stats'], method='log_prob')\n",
    "            return -jnp.mean(output), (output)\n",
    "        \n",
    "        def train_step(state, batch):\n",
    "            loss_fn = lambda params: loss_nll(params, batch, train=True)\n",
    "            (loss, (updates)), grads = jax.value_and_grad(loss_fn, has_aux=True)(state.params)\n",
    "            #print(loss)\n",
    "            state = state.apply_gradients(grads=grads)\n",
    "            #state = state.replace(batch_stats=updates['batch_stats'])\n",
    "            metrics = {'loss': loss}\n",
    "            return state, metrics\n",
    "        \n",
    "        def eval_step(state, batch):\n",
    "            loss, _ = loss_nll(state.params, batch, train=False)\n",
    "            return {'loss': loss}\n",
    "        \n",
    "        return train_step, eval_step\n",
    "        \n",
    "    def print_tabulate(self, exmp_input):\n",
    "        pass\n"
   ]
  },
  {
   "cell_type": "code",
   "execution_count": 401,
   "metadata": {},
   "outputs": [],
   "source": [
    "CHECKPOINT_PATH = '~/Documents/SBI/sbi_jax/notebooks/checkpoints'\n",
    "\n",
    "trainer = MAFTrainer(\n",
    "    n_in=dim,\n",
    "    n_cond=dim_cond,\n",
    "    n_layers=5,\n",
    "    layers=[50, 50],\n",
    "    activation='relu',\n",
    "    optimizer_hparams={'lr': 1e-3,\n",
    "                       'optimizer_name': 'adam',\n",
    "                       },\n",
    "    logger_params={'base_log_dir': CHECKPOINT_PATH},\n",
    "    exmp_input=next(iter(train_loader)),\n",
    "    check_val_every_epoch=1,\n",
    "    debug=False,\n",
    "    use_reverse=True\n",
    ")"
   ]
  },
  {
   "cell_type": "code",
   "execution_count": 402,
   "metadata": {},
   "outputs": [
    {
     "data": {
      "application/vnd.jupyter.widget-view+json": {
       "model_id": "395e83767e294a179657a09521af2589",
       "version_major": 2,
       "version_minor": 0
      },
      "text/plain": [
       "Epochs:   0%|          | 0/50 [00:00<?, ?it/s]"
      ]
     },
     "metadata": {},
     "output_type": "display_data"
    },
    {
     "data": {
      "application/vnd.jupyter.widget-view+json": {
       "model_id": "77f21d2a42314d7186648f1698d6e65e",
       "version_major": 2,
       "version_minor": 0
      },
      "text/plain": [
       "Training:   0%|          | 0/156 [00:00<?, ?it/s]"
      ]
     },
     "metadata": {},
     "output_type": "display_data"
    },
    {
     "data": {
      "application/vnd.jupyter.widget-view+json": {
       "model_id": "18e040756a70419cbf63f45155517074",
       "version_major": 2,
       "version_minor": 0
      },
      "text/plain": [
       "Training:   0%|          | 0/156 [00:00<?, ?it/s]"
      ]
     },
     "metadata": {},
     "output_type": "display_data"
    },
    {
     "data": {
      "application/vnd.jupyter.widget-view+json": {
       "model_id": "f045903c4a684869812f6ae5b363619d",
       "version_major": 2,
       "version_minor": 0
      },
      "text/plain": [
       "Training:   0%|          | 0/156 [00:00<?, ?it/s]"
      ]
     },
     "metadata": {},
     "output_type": "display_data"
    },
    {
     "data": {
      "application/vnd.jupyter.widget-view+json": {
       "model_id": "b77c0deaaaef4ae7b29ef889d35e786b",
       "version_major": 2,
       "version_minor": 0
      },
      "text/plain": [
       "Training:   0%|          | 0/156 [00:00<?, ?it/s]"
      ]
     },
     "metadata": {},
     "output_type": "display_data"
    },
    {
     "data": {
      "application/vnd.jupyter.widget-view+json": {
       "model_id": "d6ed6d269abb43518def6e3231450a81",
       "version_major": 2,
       "version_minor": 0
      },
      "text/plain": [
       "Training:   0%|          | 0/156 [00:00<?, ?it/s]"
      ]
     },
     "metadata": {},
     "output_type": "display_data"
    },
    {
     "data": {
      "application/vnd.jupyter.widget-view+json": {
       "model_id": "e78c66e31621449992860d2256eb7964",
       "version_major": 2,
       "version_minor": 0
      },
      "text/plain": [
       "Training:   0%|          | 0/156 [00:00<?, ?it/s]"
      ]
     },
     "metadata": {},
     "output_type": "display_data"
    },
    {
     "data": {
      "application/vnd.jupyter.widget-view+json": {
       "model_id": "3ad9ef3407554c759a0205f107589fae",
       "version_major": 2,
       "version_minor": 0
      },
      "text/plain": [
       "Training:   0%|          | 0/156 [00:00<?, ?it/s]"
      ]
     },
     "metadata": {},
     "output_type": "display_data"
    },
    {
     "data": {
      "application/vnd.jupyter.widget-view+json": {
       "model_id": "ebe8f82bd3734da5b1c31a3064a435b3",
       "version_major": 2,
       "version_minor": 0
      },
      "text/plain": [
       "Training:   0%|          | 0/156 [00:00<?, ?it/s]"
      ]
     },
     "metadata": {},
     "output_type": "display_data"
    },
    {
     "data": {
      "application/vnd.jupyter.widget-view+json": {
       "model_id": "a12f4643d0f546c3b7757f9f284833ec",
       "version_major": 2,
       "version_minor": 0
      },
      "text/plain": [
       "Training:   0%|          | 0/156 [00:00<?, ?it/s]"
      ]
     },
     "metadata": {},
     "output_type": "display_data"
    },
    {
     "data": {
      "application/vnd.jupyter.widget-view+json": {
       "model_id": "8b1debde468d4303bebec202c7d4150b",
       "version_major": 2,
       "version_minor": 0
      },
      "text/plain": [
       "Training:   0%|          | 0/156 [00:00<?, ?it/s]"
      ]
     },
     "metadata": {},
     "output_type": "display_data"
    },
    {
     "data": {
      "application/vnd.jupyter.widget-view+json": {
       "model_id": "395ba5f5ed6c4b8aa37702ede20464a5",
       "version_major": 2,
       "version_minor": 0
      },
      "text/plain": [
       "Training:   0%|          | 0/156 [00:00<?, ?it/s]"
      ]
     },
     "metadata": {},
     "output_type": "display_data"
    },
    {
     "data": {
      "application/vnd.jupyter.widget-view+json": {
       "model_id": "cb5232ac60584104ad56a7835963a795",
       "version_major": 2,
       "version_minor": 0
      },
      "text/plain": [
       "Training:   0%|          | 0/156 [00:00<?, ?it/s]"
      ]
     },
     "metadata": {},
     "output_type": "display_data"
    },
    {
     "data": {
      "application/vnd.jupyter.widget-view+json": {
       "model_id": "a710d3e04ca7444cac509184c1160549",
       "version_major": 2,
       "version_minor": 0
      },
      "text/plain": [
       "Training:   0%|          | 0/156 [00:00<?, ?it/s]"
      ]
     },
     "metadata": {},
     "output_type": "display_data"
    },
    {
     "data": {
      "application/vnd.jupyter.widget-view+json": {
       "model_id": "a52eb47ec22b49e4a11cbd2fd44d9707",
       "version_major": 2,
       "version_minor": 0
      },
      "text/plain": [
       "Training:   0%|          | 0/156 [00:00<?, ?it/s]"
      ]
     },
     "metadata": {},
     "output_type": "display_data"
    },
    {
     "data": {
      "application/vnd.jupyter.widget-view+json": {
       "model_id": "63cbf6f9f3d54698b7b2f8d82d642931",
       "version_major": 2,
       "version_minor": 0
      },
      "text/plain": [
       "Training:   0%|          | 0/156 [00:00<?, ?it/s]"
      ]
     },
     "metadata": {},
     "output_type": "display_data"
    },
    {
     "data": {
      "application/vnd.jupyter.widget-view+json": {
       "model_id": "126617fc023e489899e01cb9b9cf346c",
       "version_major": 2,
       "version_minor": 0
      },
      "text/plain": [
       "Training:   0%|          | 0/156 [00:00<?, ?it/s]"
      ]
     },
     "metadata": {},
     "output_type": "display_data"
    },
    {
     "data": {
      "application/vnd.jupyter.widget-view+json": {
       "model_id": "990a2898a0bb4b25a562fb965eca9209",
       "version_major": 2,
       "version_minor": 0
      },
      "text/plain": [
       "Training:   0%|          | 0/156 [00:00<?, ?it/s]"
      ]
     },
     "metadata": {},
     "output_type": "display_data"
    },
    {
     "data": {
      "application/vnd.jupyter.widget-view+json": {
       "model_id": "a4a525f28883479ab2ad9d0158fab533",
       "version_major": 2,
       "version_minor": 0
      },
      "text/plain": [
       "Training:   0%|          | 0/156 [00:00<?, ?it/s]"
      ]
     },
     "metadata": {},
     "output_type": "display_data"
    },
    {
     "data": {
      "application/vnd.jupyter.widget-view+json": {
       "model_id": "a43163da416940bebe2aa32de3c34582",
       "version_major": 2,
       "version_minor": 0
      },
      "text/plain": [
       "Training:   0%|          | 0/156 [00:00<?, ?it/s]"
      ]
     },
     "metadata": {},
     "output_type": "display_data"
    },
    {
     "data": {
      "application/vnd.jupyter.widget-view+json": {
       "model_id": "baec430f5c1743d9867ee95520fbfcdd",
       "version_major": 2,
       "version_minor": 0
      },
      "text/plain": [
       "Training:   0%|          | 0/156 [00:00<?, ?it/s]"
      ]
     },
     "metadata": {},
     "output_type": "display_data"
    },
    {
     "data": {
      "application/vnd.jupyter.widget-view+json": {
       "model_id": "49daec7fa34d4f2fbf1dd38983d2837a",
       "version_major": 2,
       "version_minor": 0
      },
      "text/plain": [
       "Training:   0%|          | 0/156 [00:00<?, ?it/s]"
      ]
     },
     "metadata": {},
     "output_type": "display_data"
    },
    {
     "data": {
      "application/vnd.jupyter.widget-view+json": {
       "model_id": "27a5a33cd07142fd8297e9c7164efa32",
       "version_major": 2,
       "version_minor": 0
      },
      "text/plain": [
       "Training:   0%|          | 0/156 [00:00<?, ?it/s]"
      ]
     },
     "metadata": {},
     "output_type": "display_data"
    },
    {
     "data": {
      "application/vnd.jupyter.widget-view+json": {
       "model_id": "7556b49bda3842c095b4a5ee922c311b",
       "version_major": 2,
       "version_minor": 0
      },
      "text/plain": [
       "Training:   0%|          | 0/156 [00:00<?, ?it/s]"
      ]
     },
     "metadata": {},
     "output_type": "display_data"
    },
    {
     "data": {
      "application/vnd.jupyter.widget-view+json": {
       "model_id": "66a8bd20f49843f4b47499ab9f32b083",
       "version_major": 2,
       "version_minor": 0
      },
      "text/plain": [
       "Training:   0%|          | 0/156 [00:00<?, ?it/s]"
      ]
     },
     "metadata": {},
     "output_type": "display_data"
    },
    {
     "data": {
      "application/vnd.jupyter.widget-view+json": {
       "model_id": "2b19a33d5d014079a3391415457fac01",
       "version_major": 2,
       "version_minor": 0
      },
      "text/plain": [
       "Training:   0%|          | 0/156 [00:00<?, ?it/s]"
      ]
     },
     "metadata": {},
     "output_type": "display_data"
    },
    {
     "data": {
      "application/vnd.jupyter.widget-view+json": {
       "model_id": "762134056fbc4341a1134ef098805aa3",
       "version_major": 2,
       "version_minor": 0
      },
      "text/plain": [
       "Training:   0%|          | 0/156 [00:00<?, ?it/s]"
      ]
     },
     "metadata": {},
     "output_type": "display_data"
    },
    {
     "data": {
      "application/vnd.jupyter.widget-view+json": {
       "model_id": "3c7ab0be6b544f1fabde8dd8dad17a75",
       "version_major": 2,
       "version_minor": 0
      },
      "text/plain": [
       "Training:   0%|          | 0/156 [00:00<?, ?it/s]"
      ]
     },
     "metadata": {},
     "output_type": "display_data"
    },
    {
     "data": {
      "application/vnd.jupyter.widget-view+json": {
       "model_id": "34cdf9dc0ad548cfbe39fef173007558",
       "version_major": 2,
       "version_minor": 0
      },
      "text/plain": [
       "Training:   0%|          | 0/156 [00:00<?, ?it/s]"
      ]
     },
     "metadata": {},
     "output_type": "display_data"
    },
    {
     "data": {
      "application/vnd.jupyter.widget-view+json": {
       "model_id": "cedaf99cbcfd4b3091685d0a56e4fdeb",
       "version_major": 2,
       "version_minor": 0
      },
      "text/plain": [
       "Training:   0%|          | 0/156 [00:00<?, ?it/s]"
      ]
     },
     "metadata": {},
     "output_type": "display_data"
    },
    {
     "data": {
      "application/vnd.jupyter.widget-view+json": {
       "model_id": "be4eb96a951d47e6bef7aad8b66b0d53",
       "version_major": 2,
       "version_minor": 0
      },
      "text/plain": [
       "Training:   0%|          | 0/156 [00:00<?, ?it/s]"
      ]
     },
     "metadata": {},
     "output_type": "display_data"
    },
    {
     "data": {
      "application/vnd.jupyter.widget-view+json": {
       "model_id": "3793af3914ab4aeda91fbb149cfe275c",
       "version_major": 2,
       "version_minor": 0
      },
      "text/plain": [
       "Training:   0%|          | 0/156 [00:00<?, ?it/s]"
      ]
     },
     "metadata": {},
     "output_type": "display_data"
    },
    {
     "data": {
      "application/vnd.jupyter.widget-view+json": {
       "model_id": "07ea815c3e474259bf64123fa3bf8b6a",
       "version_major": 2,
       "version_minor": 0
      },
      "text/plain": [
       "Training:   0%|          | 0/156 [00:00<?, ?it/s]"
      ]
     },
     "metadata": {},
     "output_type": "display_data"
    },
    {
     "data": {
      "application/vnd.jupyter.widget-view+json": {
       "model_id": "4eae8f7eb00e4cc9848cd6ea20cf1f45",
       "version_major": 2,
       "version_minor": 0
      },
      "text/plain": [
       "Training:   0%|          | 0/156 [00:00<?, ?it/s]"
      ]
     },
     "metadata": {},
     "output_type": "display_data"
    },
    {
     "data": {
      "application/vnd.jupyter.widget-view+json": {
       "model_id": "37715d3c0b68417e97747ae58d64d3d9",
       "version_major": 2,
       "version_minor": 0
      },
      "text/plain": [
       "Training:   0%|          | 0/156 [00:00<?, ?it/s]"
      ]
     },
     "metadata": {},
     "output_type": "display_data"
    },
    {
     "data": {
      "application/vnd.jupyter.widget-view+json": {
       "model_id": "33766694cbd74a469b98f105acb51b01",
       "version_major": 2,
       "version_minor": 0
      },
      "text/plain": [
       "Training:   0%|          | 0/156 [00:00<?, ?it/s]"
      ]
     },
     "metadata": {},
     "output_type": "display_data"
    },
    {
     "data": {
      "application/vnd.jupyter.widget-view+json": {
       "model_id": "dc228f76289a43d8b9367d336230794a",
       "version_major": 2,
       "version_minor": 0
      },
      "text/plain": [
       "Training:   0%|          | 0/156 [00:00<?, ?it/s]"
      ]
     },
     "metadata": {},
     "output_type": "display_data"
    },
    {
     "data": {
      "application/vnd.jupyter.widget-view+json": {
       "model_id": "7f162c7409d74d34b76cc6ed9d7b78b4",
       "version_major": 2,
       "version_minor": 0
      },
      "text/plain": [
       "Training:   0%|          | 0/156 [00:00<?, ?it/s]"
      ]
     },
     "metadata": {},
     "output_type": "display_data"
    },
    {
     "data": {
      "application/vnd.jupyter.widget-view+json": {
       "model_id": "256f0c8426db4923a13c2a1841873064",
       "version_major": 2,
       "version_minor": 0
      },
      "text/plain": [
       "Training:   0%|          | 0/156 [00:00<?, ?it/s]"
      ]
     },
     "metadata": {},
     "output_type": "display_data"
    },
    {
     "data": {
      "application/vnd.jupyter.widget-view+json": {
       "model_id": "46597d2783cc455e9d57fffa17461920",
       "version_major": 2,
       "version_minor": 0
      },
      "text/plain": [
       "Training:   0%|          | 0/156 [00:00<?, ?it/s]"
      ]
     },
     "metadata": {},
     "output_type": "display_data"
    },
    {
     "data": {
      "application/vnd.jupyter.widget-view+json": {
       "model_id": "11a08fd80dda4b268fb946ab85e7832c",
       "version_major": 2,
       "version_minor": 0
      },
      "text/plain": [
       "Training:   0%|          | 0/156 [00:00<?, ?it/s]"
      ]
     },
     "metadata": {},
     "output_type": "display_data"
    },
    {
     "data": {
      "application/vnd.jupyter.widget-view+json": {
       "model_id": "cad2bf83fb334740b0bfd60b0541df6f",
       "version_major": 2,
       "version_minor": 0
      },
      "text/plain": [
       "Training:   0%|          | 0/156 [00:00<?, ?it/s]"
      ]
     },
     "metadata": {},
     "output_type": "display_data"
    },
    {
     "data": {
      "application/vnd.jupyter.widget-view+json": {
       "model_id": "5931f92126b34cc68e64a5361c21eab0",
       "version_major": 2,
       "version_minor": 0
      },
      "text/plain": [
       "Training:   0%|          | 0/156 [00:00<?, ?it/s]"
      ]
     },
     "metadata": {},
     "output_type": "display_data"
    },
    {
     "data": {
      "application/vnd.jupyter.widget-view+json": {
       "model_id": "80996cb5bd0b428d86103df4ee30cf19",
       "version_major": 2,
       "version_minor": 0
      },
      "text/plain": [
       "Training:   0%|          | 0/156 [00:00<?, ?it/s]"
      ]
     },
     "metadata": {},
     "output_type": "display_data"
    },
    {
     "data": {
      "application/vnd.jupyter.widget-view+json": {
       "model_id": "dc6f2d1ebd3c40adb05ac260f7f96e5c",
       "version_major": 2,
       "version_minor": 0
      },
      "text/plain": [
       "Training:   0%|          | 0/156 [00:00<?, ?it/s]"
      ]
     },
     "metadata": {},
     "output_type": "display_data"
    },
    {
     "data": {
      "application/vnd.jupyter.widget-view+json": {
       "model_id": "4a14a1a988bb4bfaba7ba4270a3312b2",
       "version_major": 2,
       "version_minor": 0
      },
      "text/plain": [
       "Training:   0%|          | 0/156 [00:00<?, ?it/s]"
      ]
     },
     "metadata": {},
     "output_type": "display_data"
    },
    {
     "data": {
      "application/vnd.jupyter.widget-view+json": {
       "model_id": "faedb7c39ca6475c87ee80f89acc6f3f",
       "version_major": 2,
       "version_minor": 0
      },
      "text/plain": [
       "Training:   0%|          | 0/156 [00:00<?, ?it/s]"
      ]
     },
     "metadata": {},
     "output_type": "display_data"
    },
    {
     "data": {
      "application/vnd.jupyter.widget-view+json": {
       "model_id": "4546b6876ebf4722aa7958ac331f4474",
       "version_major": 2,
       "version_minor": 0
      },
      "text/plain": [
       "Training:   0%|          | 0/156 [00:00<?, ?it/s]"
      ]
     },
     "metadata": {},
     "output_type": "display_data"
    },
    {
     "data": {
      "application/vnd.jupyter.widget-view+json": {
       "model_id": "ddb03030987a491b9774a221eaeba45c",
       "version_major": 2,
       "version_minor": 0
      },
      "text/plain": [
       "Training:   0%|          | 0/156 [00:00<?, ?it/s]"
      ]
     },
     "metadata": {},
     "output_type": "display_data"
    },
    {
     "data": {
      "application/vnd.jupyter.widget-view+json": {
       "model_id": "a8c84a5115b746e08e9032a80939ccb5",
       "version_major": 2,
       "version_minor": 0
      },
      "text/plain": [
       "Training:   0%|          | 0/156 [00:00<?, ?it/s]"
      ]
     },
     "metadata": {},
     "output_type": "display_data"
    },
    {
     "data": {
      "application/vnd.jupyter.widget-view+json": {
       "model_id": "5f27535d0e5c4825be9b5ad22a13aac1",
       "version_major": 2,
       "version_minor": 0
      },
      "text/plain": [
       "Training:   0%|          | 0/156 [00:00<?, ?it/s]"
      ]
     },
     "metadata": {},
     "output_type": "display_data"
    }
   ],
   "source": [
    "metrics = trainer.train_model(\n",
    "    train_loader, val_loader, test_loader=test_loader, num_epochs=50\n",
    ")"
   ]
  },
  {
   "cell_type": "code",
   "execution_count": 403,
   "metadata": {},
   "outputs": [
    {
     "name": "stdout",
     "output_type": "stream",
     "text": [
      "Training loss: -3.3793387631995713\n",
      "Validation loss: -3.361347971661853\n",
      "Test loss: -3.3347978698014797\n"
     ]
    }
   ],
   "source": [
    "print(f'Training loss: {metrics[\"train/loss\"]}')\n",
    "print(f'Validation loss: {metrics[\"val/loss\"]}')\n",
    "print(f'Test loss: {metrics[\"test/loss\"]}')"
   ]
  },
  {
   "cell_type": "code",
   "execution_count": 404,
   "metadata": {},
   "outputs": [],
   "source": [
    "model = trainer.bind_model()"
   ]
  },
  {
   "cell_type": "code",
   "execution_count": 405,
   "metadata": {},
   "outputs": [],
   "source": [
    "key = jax.random.PRNGKey(1)\n",
    "\n",
    "samples = model.apply({'params': trainer.state.params}, observation, num_samples=10000, key=key, method='sample')"
   ]
  },
  {
   "cell_type": "code",
   "execution_count": 406,
   "metadata": {},
   "outputs": [
    {
     "name": "stderr",
     "output_type": "stream",
     "text": [
      "WARNING:chainconsumer:Parameter 0 in chain Truth is not constrained\n",
      "WARNING:chainconsumer:Parameter 0 in chain Prediction is not constrained\n",
      "WARNING:chainconsumer:Parameter 1 in chain Truth is not constrained\n",
      "WARNING:chainconsumer:Parameter 1 in chain Prediction is not constrained\n"
     ]
    },
    {
     "data": {
      "image/png": "[encoded data removed]",
      "text/plain": [
       "<Figure size 300x300 with 4 Axes>"
      ]
     },
     "metadata": {},
     "output_type": "display_data"
    }
   ],
   "source": [
    "from chainconsumer import ChainConsumer\n",
    "\n",
    "c = ChainConsumer()\n",
    "c.add_chain(reference_samples, shade_alpha = 0.5, name='Truth')\n",
    "c.add_chain(samples, shade_alpha = 0.5, name=\"Prediction\")\n",
    "fig = c.plotter.plot(figsize=1.)\n",
    "plt.show()"
   ]
  },
  {
   "cell_type": "code",
   "execution_count": 407,
   "metadata": {},
   "outputs": [],
   "source": [
    "samples_image, _ = model.apply({'params': trainer.state.params}, reference_samples, observation*jnp.ones((10000, 1)), train=False)"
   ]
  },
  {
   "cell_type": "code",
   "execution_count": 409,
   "metadata": {},
   "outputs": [
    {
     "name": "stderr",
     "output_type": "stream",
     "text": [
      "WARNING:chainconsumer:Parameter 1 in chain Prediction is not constrained\n"
     ]
    },
    {
     "data": {
      "image/png": "[encoded data removed]",
      "text/plain": [
       "<Figure size 300x300 with 4 Axes>"
      ]
     },
     "metadata": {},
     "output_type": "display_data"
    }
   ],
   "source": [
    "c = ChainConsumer()\n",
    "c.add_chain(jax.random.multivariate_normal(key, jnp.zeros(2), jnp.eye(2), (10000,)), shade_alpha = 0.5, name='Truth')\n",
    "c.add_chain(samples_image, shade_alpha = 0.5, name=\"Prediction\")\n",
    "fig = c.plotter.plot(figsize=1.)\n",
    "plt.show()"
   ]
  },
  {
   "cell_type": "code",
   "execution_count": 50,
   "metadata": {},
   "outputs": [
    {
     "data": {
      "text/html": [
       "\n",
       "      <iframe id=\"tensorboard-frame-fc4f0c3e2af060e8\" width=\"100%\" height=\"800\" frameborder=\"0\">\n",
       "      </iframe>\n",
       "      <script>\n",
       "        (function() {\n",
       "          const frame = document.getElementById(\"tensorboard-frame-fc4f0c3e2af060e8\");\n",
       "          const url = new URL(\"/\", window.location);\n",
       "          const port = 6006;\n",
       "          if (port) {\n",
       "            url.port = port;\n",
       "          }\n",
       "          frame.src = url;\n",
       "        })();\n",
       "      </script>\n",
       "    "
      ],
      "text/plain": [
       "<IPython.core.display.HTML object>"
      ]
     },
     "metadata": {},
     "output_type": "display_data"
    }
   ],
   "source": [
    "%load_ext tensorboard\n",
    "%tensorboard --logdir ~/work/jax/notebooks/checkpoints/"
   ]
  },
  {
   "cell_type": "markdown",
   "metadata": {},
   "source": [
    "## Optimizing hyperparameter choice with Optuna"
   ]
  },
  {
   "cell_type": "code",
   "execution_count": 411,
   "metadata": {},
   "outputs": [],
   "source": [
    "import optuna"
   ]
  },
  {
   "cell_type": "code",
   "execution_count": 412,
   "metadata": {},
   "outputs": [],
   "source": [
    "CHECKPOINT_PATH = '/local/home/sg276684/Documents/SBI/sbi_jax/notebooks/checkpoints'"
   ]
  },
  {
   "cell_type": "code",
   "execution_count": 413,
   "metadata": {},
   "outputs": [],
   "source": [
    "def objective(trial):\n",
    "    my_train_loader, my_val_loader = create_data_loader(train_set, val_set,\n",
    "                                                         train=[True, False],\n",
    "                                                         batch_size=256)\n",
    "    trainer = MAFTrainer(n_in=dim, #Create your trainer\n",
    "                         n_cond=dim_cond,\n",
    "                            n_layers=trial.suggest_int('n_layers', 3, 8),\n",
    "                            layers=[50, 50],\n",
    "                            use_reverse=trial.suggest_categorical('use_reverse', [True, False]),\n",
    "                            activation='silu',\n",
    "                            optimizer_hparams={\n",
    "                                  'lr': trial.suggest_float('lr', 5e-5, 1e-3, log=True)\n",
    "                              },\n",
    "                            logger_params={'base_log_dir': CHECKPOINT_PATH},\n",
    "                            exmp_input=next(iter(my_train_loader)), #beware of the training input.\n",
    "                            check_val_every_epoch=5,\n",
    "                            enable_progress_bar=False,\n",
    "                            trial=trial)\n",
    "    metrics = trainer.train_model(my_train_loader,\n",
    "                                  my_val_loader,\n",
    "                                  num_epochs=200)\n",
    "    del trainer\n",
    "    del my_train_loader, my_val_loader\n",
    "    return metrics['val/loss']"
   ]
  },
  {
   "cell_type": "code",
   "execution_count": 414,
   "metadata": {},
   "outputs": [
    {
     "name": "stderr",
     "output_type": "stream",
     "text": [
      "[I 2024-02-16 14:41:47,042] Using an existing study with name 'maf_slcp_hparam_search' instead of creating a new one.\n",
      "[I 2024-02-16 14:44:08,115] Trial 1 finished with value: -0.9388174258374758 and parameters: {'n_components': 8, 'use_reverse': False, 'lr': 0.0006011936463140675}. Best is trial 1 with value: -0.9388174258374758.\n",
      "[I 2024-02-16 14:45:25,014] Trial 2 finished with value: -0.3490371674459184 and parameters: {'n_components': 4, 'use_reverse': False, 'lr': 5.213172707951554e-05}. Best is trial 1 with value: -0.9388174258374758.\n",
      "[I 2024-02-16 14:46:44,145] Trial 3 finished with value: -2.2023986383743632 and parameters: {'n_components': 4, 'use_reverse': True, 'lr': 7.066392621556046e-05}. Best is trial 3 with value: -2.2023986383743632.\n",
      "[I 2024-02-16 14:48:23,613] Trial 4 finished with value: -0.969292912941678 and parameters: {'n_components': 5, 'use_reverse': False, 'lr': 0.0009718808251550976}. Best is trial 3 with value: -2.2023986383743632.\n",
      "[I 2024-02-16 14:50:32,882] Trial 5 finished with value: -0.8843731853327488 and parameters: {'n_components': 7, 'use_reverse': False, 'lr': 0.0004477758084013331}. Best is trial 3 with value: -2.2023986383743632.\n",
      "[I 2024-02-16 14:53:17,305] Trial 6 finished with value: -0.6731125884442035 and parameters: {'n_components': 8, 'use_reverse': False, 'lr': 0.000167266986971127}. Best is trial 3 with value: -2.2023986383743632.\n",
      "[I 2024-02-16 14:54:50,747] Trial 7 finished with value: -0.42501251048425975 and parameters: {'n_components': 5, 'use_reverse': False, 'lr': 7.894064603309465e-05}. Best is trial 3 with value: -2.2023986383743632.\n",
      "[I 2024-02-16 14:56:49,274] Trial 8 finished with value: -3.291567937835587 and parameters: {'n_components': 7, 'use_reverse': True, 'lr': 0.0002763147441554465}. Best is trial 8 with value: -3.291567937835587.\n",
      "[I 2024-02-16 14:58:06,075] Trial 9 finished with value: -1.996821961256035 and parameters: {'n_components': 4, 'use_reverse': True, 'lr': 5.685310995698832e-05}. Best is trial 8 with value: -3.291567937835587.\n",
      "[I 2024-02-16 14:59:52,786] Trial 10 finished with value: -3.0827754311647984 and parameters: {'n_components': 6, 'use_reverse': True, 'lr': 0.00013214845647662677}. Best is trial 8 with value: -3.291567937835587.\n",
      "[I 2024-02-16 15:02:16,120] Trial 11 finished with value: -3.3118781817710548 and parameters: {'n_components': 7, 'use_reverse': True, 'lr': 0.0003323177699912766}. Best is trial 11 with value: -3.3118781817710548.\n",
      "[I 2024-02-16 15:04:38,538] Trial 12 finished with value: -3.3027010390353375 and parameters: {'n_components': 7, 'use_reverse': True, 'lr': 0.0002991892402620598}. Best is trial 11 with value: -3.3118781817710548.\n",
      "[I 2024-02-16 15:06:47,781] Trial 13 finished with value: -3.299966389201698 and parameters: {'n_components': 7, 'use_reverse': True, 'lr': 0.00029440348265542436}. Best is trial 11 with value: -3.3118781817710548.\n",
      "[I 2024-02-16 15:08:41,108] Trial 14 finished with value: -3.3151368385585154 and parameters: {'n_components': 6, 'use_reverse': True, 'lr': 0.00043148148786913463}. Best is trial 14 with value: -3.3151368385585154.\n",
      "[I 2024-02-16 15:10:33,554] Trial 15 finished with value: -3.3340219584458257 and parameters: {'n_components': 6, 'use_reverse': True, 'lr': 0.0004960121414424709}. Best is trial 15 with value: -3.3340219584458257.\n",
      "[I 2024-02-16 15:12:25,896] Trial 16 finished with value: -3.390354566505028 and parameters: {'n_components': 6, 'use_reverse': True, 'lr': 0.0006967802086415075}. Best is trial 16 with value: -3.390354566505028.\n",
      "[I 2024-02-16 15:14:01,236] Trial 17 finished with value: -3.185667460856913 and parameters: {'n_components': 3, 'use_reverse': True, 'lr': 0.0007924454349345236}. Best is trial 16 with value: -3.390354566505028.\n",
      "[I 2024-02-16 15:16:15,885] Trial 18 finished with value: -3.3640527325534264 and parameters: {'n_components': 6, 'use_reverse': True, 'lr': 0.0005996938052975228}. Best is trial 16 with value: -3.390354566505028.\n",
      "[I 2024-02-16 15:18:18,814] Trial 19 finished with value: -3.3882097741916617 and parameters: {'n_components': 5, 'use_reverse': True, 'lr': 0.0007673197097926375}. Best is trial 16 with value: -3.390354566505028.\n",
      "[I 2024-02-16 15:20:19,173] Trial 20 finished with value: -3.4317951107294937 and parameters: {'n_components': 5, 'use_reverse': True, 'lr': 0.0009754003600421239}. Best is trial 20 with value: -3.4317951107294937.\n",
      "[I 2024-02-16 15:21:38,065] Trial 21 finished with value: -3.2200355180600178 and parameters: {'n_components': 3, 'use_reverse': True, 'lr': 0.0009982228597540134}. Best is trial 20 with value: -3.4317951107294937.\n",
      "[I 2024-02-16 15:23:25,551] Trial 22 finished with value: -3.3694773694471296 and parameters: {'n_components': 5, 'use_reverse': True, 'lr': 0.0007021422572724776}. Best is trial 20 with value: -3.4317951107294937.\n",
      "[I 2024-02-16 15:25:09,790] Trial 23 finished with value: -3.3940329248892303 and parameters: {'n_components': 5, 'use_reverse': True, 'lr': 0.0008068388214459937}. Best is trial 20 with value: -3.4317951107294937.\n",
      "[I 2024-02-16 15:26:47,924] Trial 24 finished with value: -3.2688744785014907 and parameters: {'n_components': 4, 'use_reverse': True, 'lr': 0.0009696058792916}. Best is trial 20 with value: -3.4317951107294937.\n"
     ]
    }
   ],
   "source": [
    "study = optuna.create_study(\n",
    "    study_name='maf_slcp_hparam_search',\n",
    "    storage=f'sqlite:///{CHECKPOINT_PATH}/maf_hparam_search.db',\n",
    "    direction='minimize',\n",
    "    pruner=optuna.pruners.MedianPruner(n_startup_trials=5, n_warmup_steps=50),\n",
    "    load_if_exists=True\n",
    ")\n",
    "study.optimize(objective, n_trials=25-len(study.trials), n_jobs=1)"
   ]
  },
  {
   "cell_type": "code",
   "execution_count": 415,
   "metadata": {},
   "outputs": [
    {
     "name": "stdout",
     "output_type": "stream",
     "text": [
      "Best Loss: -3.43\n",
      "Best hyperparameters:\n",
      " ->   n_components: 5\n",
      " ->   use_reverse: True\n",
      " ->   lr: 0.0009754003600421239\n"
     ]
    }
   ],
   "source": [
    "trial = study.best_trial\n",
    "print(f'Best Loss: {trial.value:.2f}')\n",
    "print(f'Best hyperparameters:')\n",
    "for key, value in trial.params.items():\n",
    "    print(f' ->   {key}: {value}')"
   ]
  },
  {
   "cell_type": "code",
   "execution_count": 416,
   "metadata": {},
   "outputs": [
    {
     "name": "stdout",
     "output_type": "stream",
     "text": [
      "Test accuracy: -3.42\n"
     ]
    }
   ],
   "source": [
    "trainer = MAFTrainer.load_from_checkpoints(os.path.join(CHECKPOINT_PATH, 'ConditionalMAF/version_19/'),\n",
    "                                               exmp_input=next(iter(train_loader)))\n",
    "test_metrics = trainer.eval_model(test_loader)\n",
    "print(f'Test accuracy: {test_metrics[\"loss\"]:.2f}')"
   ]
  },
  {
   "cell_type": "code",
   "execution_count": 418,
   "metadata": {},
   "outputs": [
    {
     "data": {
      "application/vnd.plotly.v1+json": {
       "config": {
        "plotlyServerURL": "https://plot.ly"
       },
       "data": [
        {
         "colorbar": {
          "title": {
           "text": "Objective Value"
          }
         },
         "colorscale": [
          [
           0,
           "rgb(247,251,255)"
          ],
          [
           0.125,
           "rgb(222,235,247)"
          ],
          [
           0.25,
           "rgb(198,219,239)"
          ],
          [
           0.375,
           "rgb(158,202,225)"
          ],
          [
           0.5,
           "rgb(107,174,214)"
          ],
          [
           0.625,
           "rgb(66,146,198)"
          ],
          [
           0.75,
           "rgb(33,113,181)"
          ],
          [
           0.875,
           "rgb(8,81,156)"
          ],
          [
           1,
           "rgb(8,48,107)"
          ]
         ],
         "connectgaps": true,
         "contours": {
          "coloring": "heatmap"
         },
         "hoverinfo": "none",
         "line": {
          "smoothing": 1.3
         },
         "reversescale": true,
         "type": "contour",
         "x": [
          0.000044977554975168,
          0.00005213172707951554,
          0.00005685310995698832,
          0.00007066392621556046,
          0.00007894064603309465,
          0.00013214845647662677,
          0.000167266986971127,
          0.0002763147441554465,
          0.00029440348265542436,
          0.0002991892402620598,
          0.0003323177699912766,
          0.00043148148786913463,
          0.0004477758084013331,
          0.0004960121414424709,
          0.0005996938052975228,
          0.0006011936463140675,
          0.0006967802086415075,
          0.0007021422572724776,
          0.0007673197097926375,
          0.0007924454349345236,
          0.0008068388214459937,
          0.0009696058792916,
          0.0009718808251550976,
          0.0009754003600421239,
          0.0009982228597540134,
          0.0011570011246267266
         ],
         "y": [
          2.75,
          3,
          4,
          5,
          6,
          7,
          8,
          8.25
         ],
         "z": [
          [
           null,
           null,
           null,
           null,
           null,
           null,
           null,
           null,
           null,
           null,
           null,
           null,
           null,
           null,
           null,
           null,
           null,
           null,
           null,
           null,
           null,
           null,
           null,
           null,
           null,
           null
          ],
          [
           null,
           null,
           null,
           null,
           null,
           null,
           null,
           null,
           null,
           null,
           null,
           null,
           null,
           null,
           null,
           null,
           null,
           null,
           null,
           -3.185667460856913,
           null,
           null,
           null,
           null,
           -3.2200355180600178,
           null
          ],
          [
           null,
           -0.3490371674459184,
           -1.996821961256035,
           -2.2023986383743632,
           null,
           null,
           null,
           null,
           null,
           null,
           null,
           null,
           null,
           null,
           null,
           null,
           null,
           null,
           null,
           null,
           null,
           -3.2688744785014907,
           null,
           null,
           null,
           null
          ],
          [
           null,
           null,
           null,
           null,
           -0.42501251048425975,
           null,
           null,
           null,
           null,
           null,
           null,
           null,
           null,
           null,
           null,
           null,
           null,
           -3.3694773694471296,
           -3.3882097741916617,
           null,
           -3.3940329248892303,
           null,
           -0.969292912941678,
           -3.4317951107294937,
           null,
           null
          ],
          [
           null,
           null,
           null,
           null,
           null,
           -3.0827754311647984,
           null,
           null,
           null,
           null,
           null,
           -3.3151368385585154,
           null,
           -3.3340219584458257,
           -3.3640527325534264,
           null,
           -3.390354566505028,
           null,
           null,
           null,
           null,
           null,
           null,
           null,
           null,
           null
          ],
          [
           null,
           null,
           null,
           null,
           null,
           null,
           null,
           -3.291567937835587,
           -3.299966389201698,
           -3.3027010390353375,
           -3.3118781817710548,
           null,
           -0.8843731853327488,
           null,
           null,
           null,
           null,
           null,
           null,
           null,
           null,
           null,
           null,
           null,
           null,
           null
          ],
          [
           null,
           null,
           null,
           null,
           null,
           null,
           -0.6731125884442035,
           null,
           null,
           null,
           null,
           null,
           null,
           null,
           null,
           -0.9388174258374758,
           null,
           null,
           null,
           null,
           null,
           null,
           null,
           null,
           null,
           null
          ],
          [
           null,
           null,
           null,
           null,
           null,
           null,
           null,
           null,
           null,
           null,
           null,
           null,
           null,
           null,
           null,
           null,
           null,
           null,
           null,
           null,
           null,
           null,
           null,
           null,
           null,
           null
          ]
         ]
        },
        {
         "marker": {
          "color": "black",
          "line": {
           "color": "Gray",
           "width": 2
          }
         },
         "mode": "markers",
         "name": "Feasible Trial",
         "showlegend": false,
         "type": "scatter",
         "x": [
          0.0006011936463140675,
          0.00005213172707951554,
          0.00007066392621556046,
          0.0009718808251550976,
          0.0004477758084013331,
          0.000167266986971127,
          0.00007894064603309465,
          0.0002763147441554465,
          0.00005685310995698832,
          0.00013214845647662677,
          0.0003323177699912766,
          0.0002991892402620598,
          0.00029440348265542436,
          0.00043148148786913463,
          0.0004960121414424709,
          0.0006967802086415075,
          0.0007924454349345236,
          0.0005996938052975228,
          0.0007673197097926375,
          0.0009754003600421239,
          0.0009982228597540134,
          0.0007021422572724776,
          0.0008068388214459937,
          0.0009696058792916
         ],
         "y": [
          8,
          4,
          4,
          5,
          7,
          8,
          5,
          7,
          4,
          6,
          7,
          7,
          7,
          6,
          6,
          6,
          3,
          6,
          5,
          5,
          3,
          5,
          5,
          4
         ]
        },
        {
         "marker": {
          "color": "#cccccc",
          "line": {
           "color": "Gray",
           "width": 2
          }
         },
         "mode": "markers",
         "name": "Infeasible Trial",
         "showlegend": false,
         "type": "scatter",
         "x": [],
         "y": []
        }
       ],
       "layout": {
        "template": {
         "data": {
          "bar": [
           {
            "error_x": {
             "color": "#2a3f5f"
            },
            "error_y": {
             "color": "#2a3f5f"
            },
            "marker": {
             "line": {
              "color": "#E5ECF6",
              "width": 0.5
             },
             "pattern": {
              "fillmode": "overlay",
              "size": 10,
              "solidity": 0.2
             }
            },
            "type": "bar"
           }
          ],
          "barpolar": [
           {
            "marker": {
             "line": {
              "color": "#E5ECF6",
              "width": 0.5
             },
             "pattern": {
              "fillmode": "overlay",
              "size": 10,
              "solidity": 0.2
             }
            },
            "type": "barpolar"
           }
          ],
          "carpet": [
           {
            "aaxis": {
             "endlinecolor": "#2a3f5f",
             "gridcolor": "white",
             "linecolor": "white",
             "minorgridcolor": "white",
             "startlinecolor": "#2a3f5f"
            },
            "baxis": {
             "endlinecolor": "#2a3f5f",
             "gridcolor": "white",
             "linecolor": "white",
             "minorgridcolor": "white",
             "startlinecolor": "#2a3f5f"
            },
            "type": "carpet"
           }
          ],
          "choropleth": [
           {
            "colorbar": {
             "outlinewidth": 0,
             "ticks": ""
            },
            "type": "choropleth"
           }
          ],
          "contour": [
           {
            "colorbar": {
             "outlinewidth": 0,
             "ticks": ""
            },
            "colorscale": [
             [
              0,
              "#0d0887"
             ],
             [
              0.1111111111111111,
              "#46039f"
             ],
             [
              0.2222222222222222,
              "#7201a8"
             ],
             [
              0.3333333333333333,
              "#9c179e"
             ],
             [
              0.4444444444444444,
              "#bd3786"
             ],
             [
              0.5555555555555556,
              "#d8576b"
             ],
             [
              0.6666666666666666,
              "#ed7953"
             ],
             [
              0.7777777777777778,
              "#fb9f3a"
             ],
             [
              0.8888888888888888,
              "#fdca26"
             ],
             [
              1,
              "#f0f921"
             ]
            ],
            "type": "contour"
           }
          ],
          "contourcarpet": [
           {
            "colorbar": {
             "outlinewidth": 0,
             "ticks": ""
            },
            "type": "contourcarpet"
           }
          ],
          "heatmap": [
           {
            "colorbar": {
             "outlinewidth": 0,
             "ticks": ""
            },
            "colorscale": [
             [
              0,
              "#0d0887"
             ],
             [
              0.1111111111111111,
              "#46039f"
             ],
             [
              0.2222222222222222,
              "#7201a8"
             ],
             [
              0.3333333333333333,
              "#9c179e"
             ],
             [
              0.4444444444444444,
              "#bd3786"
             ],
             [
              0.5555555555555556,
              "#d8576b"
             ],
             [
              0.6666666666666666,
              "#ed7953"
             ],
             [
              0.7777777777777778,
              "#fb9f3a"
             ],
             [
              0.8888888888888888,
              "#fdca26"
             ],
             [
              1,
              "#f0f921"
             ]
            ],
            "type": "heatmap"
           }
          ],
          "heatmapgl": [
           {
            "colorbar": {
             "outlinewidth": 0,
             "ticks": ""
            },
            "colorscale": [
             [
              0,
              "#0d0887"
             ],
             [
              0.1111111111111111,
              "#46039f"
             ],
             [
              0.2222222222222222,
              "#7201a8"
             ],
             [
              0.3333333333333333,
              "#9c179e"
             ],
             [
              0.4444444444444444,
              "#bd3786"
             ],
             [
              0.5555555555555556,
              "#d8576b"
             ],
             [
              0.6666666666666666,
              "#ed7953"
             ],
             [
              0.7777777777777778,
              "#fb9f3a"
             ],
             [
              0.8888888888888888,
              "#fdca26"
             ],
             [
              1,
              "#f0f921"
             ]
            ],
            "type": "heatmapgl"
           }
          ],
          "histogram": [
           {
            "marker": {
             "pattern": {
              "fillmode": "overlay",
              "size": 10,
              "solidity": 0.2
             }
            },
            "type": "histogram"
           }
          ],
          "histogram2d": [
           {
            "colorbar": {
             "outlinewidth": 0,
             "ticks": ""
            },
            "colorscale": [
             [
              0,
              "#0d0887"
             ],
             [
              0.1111111111111111,
              "#46039f"
             ],
             [
              0.2222222222222222,
              "#7201a8"
             ],
             [
              0.3333333333333333,
              "#9c179e"
             ],
             [
              0.4444444444444444,
              "#bd3786"
             ],
             [
              0.5555555555555556,
              "#d8576b"
             ],
             [
              0.6666666666666666,
              "#ed7953"
             ],
             [
              0.7777777777777778,
              "#fb9f3a"
             ],
             [
              0.8888888888888888,
              "#fdca26"
             ],
             [
              1,
              "#f0f921"
             ]
            ],
            "type": "histogram2d"
           }
          ],
          "histogram2dcontour": [
           {
            "colorbar": {
             "outlinewidth": 0,
             "ticks": ""
            },
            "colorscale": [
             [
              0,
              "#0d0887"
             ],
             [
              0.1111111111111111,
              "#46039f"
             ],
             [
              0.2222222222222222,
              "#7201a8"
             ],
             [
              0.3333333333333333,
              "#9c179e"
             ],
             [
              0.4444444444444444,
              "#bd3786"
             ],
             [
              0.5555555555555556,
              "#d8576b"
             ],
             [
              0.6666666666666666,
              "#ed7953"
             ],
             [
              0.7777777777777778,
              "#fb9f3a"
             ],
             [
              0.8888888888888888,
              "#fdca26"
             ],
             [
              1,
              "#f0f921"
             ]
            ],
            "type": "histogram2dcontour"
           }
          ],
          "mesh3d": [
           {
            "colorbar": {
             "outlinewidth": 0,
             "ticks": ""
            },
            "type": "mesh3d"
           }
          ],
          "parcoords": [
           {
            "line": {
             "colorbar": {
              "outlinewidth": 0,
              "ticks": ""
             }
            },
            "type": "parcoords"
           }
          ],
          "pie": [
           {
            "automargin": true,
            "type": "pie"
           }
          ],
          "scatter": [
           {
            "fillpattern": {
             "fillmode": "overlay",
             "size": 10,
             "solidity": 0.2
            },
            "type": "scatter"
           }
          ],
          "scatter3d": [
           {
            "line": {
             "colorbar": {
              "outlinewidth": 0,
              "ticks": ""
             }
            },
            "marker": {
             "colorbar": {
              "outlinewidth": 0,
              "ticks": ""
             }
            },
            "type": "scatter3d"
           }
          ],
          "scattercarpet": [
           {
            "marker": {
             "colorbar": {
              "outlinewidth": 0,
              "ticks": ""
             }
            },
            "type": "scattercarpet"
           }
          ],
          "scattergeo": [
           {
            "marker": {
             "colorbar": {
              "outlinewidth": 0,
              "ticks": ""
             }
            },
            "type": "scattergeo"
           }
          ],
          "scattergl": [
           {
            "marker": {
             "colorbar": {
              "outlinewidth": 0,
              "ticks": ""
             }
            },
            "type": "scattergl"
           }
          ],
          "scattermapbox": [
           {
            "marker": {
             "colorbar": {
              "outlinewidth": 0,
              "ticks": ""
             }
            },
            "type": "scattermapbox"
           }
          ],
          "scatterpolar": [
           {
            "marker": {
             "colorbar": {
              "outlinewidth": 0,
              "ticks": ""
             }
            },
            "type": "scatterpolar"
           }
          ],
          "scatterpolargl": [
           {
            "marker": {
             "colorbar": {
              "outlinewidth": 0,
              "ticks": ""
             }
            },
            "type": "scatterpolargl"
           }
          ],
          "scatterternary": [
           {
            "marker": {
             "colorbar": {
              "outlinewidth": 0,
              "ticks": ""
             }
            },
            "type": "scatterternary"
           }
          ],
          "surface": [
           {
            "colorbar": {
             "outlinewidth": 0,
             "ticks": ""
            },
            "colorscale": [
             [
              0,
              "#0d0887"
             ],
             [
              0.1111111111111111,
              "#46039f"
             ],
             [
              0.2222222222222222,
              "#7201a8"
             ],
             [
              0.3333333333333333,
              "#9c179e"
             ],
             [
              0.4444444444444444,
              "#bd3786"
             ],
             [
              0.5555555555555556,
              "#d8576b"
             ],
             [
              0.6666666666666666,
              "#ed7953"
             ],
             [
              0.7777777777777778,
              "#fb9f3a"
             ],
             [
              0.8888888888888888,
              "#fdca26"
             ],
             [
              1,
              "#f0f921"
             ]
            ],
            "type": "surface"
           }
          ],
          "table": [
           {
            "cells": {
             "fill": {
              "color": "#EBF0F8"
             },
             "line": {
              "color": "white"
             }
            },
            "header": {
             "fill": {
              "color": "#C8D4E3"
             },
             "line": {
              "color": "white"
             }
            },
            "type": "table"
           }
          ]
         },
         "layout": {
          "annotationdefaults": {
           "arrowcolor": "#2a3f5f",
           "arrowhead": 0,
           "arrowwidth": 1
          },
          "autotypenumbers": "strict",
          "coloraxis": {
           "colorbar": {
            "outlinewidth": 0,
            "ticks": ""
           }
          },
          "colorscale": {
           "diverging": [
            [
             0,
             "#8e0152"
            ],
            [
             0.1,
             "#c51b7d"
            ],
            [
             0.2,
             "#de77ae"
            ],
            [
             0.3,
             "#f1b6da"
            ],
            [
             0.4,
             "#fde0ef"
            ],
            [
             0.5,
             "#f7f7f7"
            ],
            [
             0.6,
             "#e6f5d0"
            ],
            [
             0.7,
             "#b8e186"
            ],
            [
             0.8,
             "#7fbc41"
            ],
            [
             0.9,
             "#4d9221"
            ],
            [
             1,
             "#276419"
            ]
           ],
           "sequential": [
            [
             0,
             "#0d0887"
            ],
            [
             0.1111111111111111,
             "#46039f"
            ],
            [
             0.2222222222222222,
             "#7201a8"
            ],
            [
             0.3333333333333333,
             "#9c179e"
            ],
            [
             0.4444444444444444,
             "#bd3786"
            ],
            [
             0.5555555555555556,
             "#d8576b"
            ],
            [
             0.6666666666666666,
             "#ed7953"
            ],
            [
             0.7777777777777778,
             "#fb9f3a"
            ],
            [
             0.8888888888888888,
             "#fdca26"
            ],
            [
             1,
             "#f0f921"
            ]
           ],
           "sequentialminus": [
            [
             0,
             "#0d0887"
            ],
            [
             0.1111111111111111,
             "#46039f"
            ],
            [
             0.2222222222222222,
             "#7201a8"
            ],
            [
             0.3333333333333333,
             "#9c179e"
            ],
            [
             0.4444444444444444,
             "#bd3786"
            ],
            [
             0.5555555555555556,
             "#d8576b"
            ],
            [
             0.6666666666666666,
             "#ed7953"
            ],
            [
             0.7777777777777778,
             "#fb9f3a"
            ],
            [
             0.8888888888888888,
             "#fdca26"
            ],
            [
             1,
             "#f0f921"
            ]
           ]
          },
          "colorway": [
           "#636efa",
           "#EF553B",
           "#00cc96",
           "#ab63fa",
           "#FFA15A",
           "#19d3f3",
           "#FF6692",
           "#B6E880",
           "#FF97FF",
           "#FECB52"
          ],
          "font": {
           "color": "#2a3f5f"
          },
          "geo": {
           "bgcolor": "white",
           "lakecolor": "white",
           "landcolor": "#E5ECF6",
           "showlakes": true,
           "showland": true,
           "subunitcolor": "white"
          },
          "hoverlabel": {
           "align": "left"
          },
          "hovermode": "closest",
          "mapbox": {
           "style": "light"
          },
          "paper_bgcolor": "white",
          "plot_bgcolor": "#E5ECF6",
          "polar": {
           "angularaxis": {
            "gridcolor": "white",
            "linecolor": "white",
            "ticks": ""
           },
           "bgcolor": "#E5ECF6",
           "radialaxis": {
            "gridcolor": "white",
            "linecolor": "white",
            "ticks": ""
           }
          },
          "scene": {
           "xaxis": {
            "backgroundcolor": "#E5ECF6",
            "gridcolor": "white",
            "gridwidth": 2,
            "linecolor": "white",
            "showbackground": true,
            "ticks": "",
            "zerolinecolor": "white"
           },
           "yaxis": {
            "backgroundcolor": "#E5ECF6",
            "gridcolor": "white",
            "gridwidth": 2,
            "linecolor": "white",
            "showbackground": true,
            "ticks": "",
            "zerolinecolor": "white"
           },
           "zaxis": {
            "backgroundcolor": "#E5ECF6",
            "gridcolor": "white",
            "gridwidth": 2,
            "linecolor": "white",
            "showbackground": true,
            "ticks": "",
            "zerolinecolor": "white"
           }
          },
          "shapedefaults": {
           "line": {
            "color": "#2a3f5f"
           }
          },
          "ternary": {
           "aaxis": {
            "gridcolor": "white",
            "linecolor": "white",
            "ticks": ""
           },
           "baxis": {
            "gridcolor": "white",
            "linecolor": "white",
            "ticks": ""
           },
           "bgcolor": "#E5ECF6",
           "caxis": {
            "gridcolor": "white",
            "linecolor": "white",
            "ticks": ""
           }
          },
          "title": {
           "x": 0.05
          },
          "xaxis": {
           "automargin": true,
           "gridcolor": "white",
           "linecolor": "white",
           "ticks": "",
           "title": {
            "standoff": 15
           },
           "zerolinecolor": "white",
           "zerolinewidth": 2
          },
          "yaxis": {
           "automargin": true,
           "gridcolor": "white",
           "linecolor": "white",
           "ticks": "",
           "title": {
            "standoff": 15
           },
           "zerolinecolor": "white",
           "zerolinewidth": 2
          }
         }
        },
        "title": {
         "text": "Contour Plot"
        },
        "xaxis": {
         "range": [
          -4.3470041569407165,
          -2.9366662189056885
         ],
         "title": {
          "text": "lr"
         },
         "type": "log"
        },
        "yaxis": {
         "range": [
          2.75,
          8.25
         ],
         "title": {
          "text": "n_components"
         }
        }
       }
      }
     },
     "metadata": {},
     "output_type": "display_data"
    }
   ],
   "source": [
    "fig = optuna.visualization.plot_contour(study, params=['lr', 'n_components'])\n",
    "fig.show()"
   ]
  },
  {
   "cell_type": "code",
   "execution_count": 419,
   "metadata": {},
   "outputs": [],
   "source": [
    "model = trainer.bind_model()"
   ]
  },
  {
   "cell_type": "code",
   "execution_count": 420,
   "metadata": {},
   "outputs": [],
   "source": [
    "key = jax.random.PRNGKey(0) #let's get our samples\n",
    "\n",
    "samples = model.apply({'params': trainer.state.params}, observation, num_samples=10000, key=key, method='sample')"
   ]
  },
  {
   "cell_type": "code",
   "execution_count": 421,
   "metadata": {},
   "outputs": [
    {
     "name": "stderr",
     "output_type": "stream",
     "text": [
      "WARNING:chainconsumer:Parameter 0 in chain Truth is not constrained\n",
      "WARNING:chainconsumer:Parameter 0 in chain Prediction is not constrained\n",
      "WARNING:chainconsumer:Parameter 1 in chain Truth is not constrained\n",
      "WARNING:chainconsumer:Parameter 1 in chain Prediction is not constrained\n"
     ]
    },
    {
     "data": {
      "image/png": "[encoded data removed]",
      "text/plain": [
       "<Figure size 300x300 with 4 Axes>"
      ]
     },
     "metadata": {},
     "output_type": "display_data"
    }
   ],
   "source": [
    "from chainconsumer import ChainConsumer\n",
    "\n",
    "c = ChainConsumer()\n",
    "c.add_chain(reference_samples.squeeze(), shade_alpha = 0.5, name='Truth')\n",
    "c.add_chain(samples, shade_alpha = 0.5, name=\"Prediction\")\n",
    "fig = c.plotter.plot(figsize=1.)\n",
    "plt.show()"
   ]
  },
  {
   "cell_type": "code",
   "execution_count": null,
   "metadata": {},
   "outputs": [],
   "source": []
  }
 ],
 "metadata": {
  "kernelspec": {
   "display_name": "Python 3",
   "language": "python",
   "name": "python3"
  },
  "language_info": {
   "codemirror_mode": {
    "name": "ipython",
    "version": 3
   },
   "file_extension": ".py",
   "mimetype": "text/x-python",
   "name": "python",
   "nbconvert_exporter": "python",
   "pygments_lexer": "ipython3",
   "version": "3.10.13"
  }
 },
 "nbformat": 4,
 "nbformat_minor": 2
}
