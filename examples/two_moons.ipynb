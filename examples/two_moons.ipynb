{
 "cells": [
  {
   "cell_type": "markdown",
   "metadata": {},
   "source": [
    "# Two moons example"
   ]
  },
  {
   "cell_type": "code",
   "execution_count": 12,
   "metadata": {},
   "outputs": [
    {
     "name": "stdout",
     "output_type": "stream",
     "text": [
      "Device used by jax: [cuda(id=0)]\n"
     ]
    }
   ],
   "source": [
    "import os\n",
    "\n",
    "import jax\n",
    "import jax.numpy as jnp\n",
    "import numpy as np\n",
    "import matplotlib.pyplot as plt\n",
    "\n",
    "from jaxili.inference import NPE, NLE\n",
    "\n",
    "import numpyro.distributions as dist\n",
    "\n",
    "from getdist import plots, MCSamples\n",
    "%matplotlib inline\n",
    "\n",
    "print(\"Device used by jax:\", jax.devices())"
   ]
  },
  {
   "cell_type": "markdown",
   "metadata": {},
   "source": [
    "Two moons is a standard benchmark task where the posterior is bimodal. This is a good example to test the ability of NPE and NLE to sample from a complex posterior."
   ]
  },
  {
   "cell_type": "markdown",
   "metadata": {},
   "source": [
    "## Defining the simulator\n",
    "\n",
    "We will try to solve the following inference problem:\n",
    "\n",
    "- Prior: $\\mathcal{U}(-1, 1)$\n",
    "- Simulator: $x|\\theta \\sim \\left[\\begin{array}{c} r\\cos(\\alpha)+0.25 \\\\ r\\sin(\\alpha)\\end{array}\\right]+\\left[ \\begin{array}{c} -|\\theta_1+\\theta_2|/\\sqrt{2}\\\\ (-\\theta_1+\\theta_2)/\\sqrt{2} \\end{array}\\right]$ where $\\alpha \\sim \\mathcal{U}(-\\pi/2, \\pi/2)$ and $r \\sim \\mathcal{N}(0.1, 0.01^2)$\n",
    "- $\\theta \\in \\mathbb{R}^2$, $x\\in \\mathbb{R}^2$\n",
    "\n",
    "Let's implement the simulator."
   ]
  },
  {
   "cell_type": "code",
   "execution_count": 2,
   "metadata": {},
   "outputs": [],
   "source": [
    "def simulator(theta, rng_key):\n",
    "    batch_size = theta.shape[0]\n",
    "\n",
    "    #Sample angle\n",
    "    alpha_key, rng_key = jax.random.split(rng_key)\n",
    "    alpha = jax.random.uniform(alpha_key, (batch_size, 1), minval=-jnp.pi/2, maxval=jnp.pi/2)\n",
    "\n",
    "    #Sample radius\n",
    "    r_key, rng_key = jax.random.split(rng_key)\n",
    "    r = jax.random.normal(r_key, (batch_size, 1))*0.01+0.1\n",
    "\n",
    "    #Compute x_1 and x_2\n",
    "    x_1 = r * jnp.cos(alpha)+0.25 - jnp.abs(theta[:, 0]+theta[:, 1]).reshape((-1, 1))/jnp.sqrt(2)\n",
    "    x_2 = r * jnp.sin(alpha) + (- theta[:, 0]+theta[:, 1]).reshape((-1, 1))/jnp.sqrt(2)\n",
    "    return jnp.column_stack([x_1, x_2])"
   ]
  },
  {
   "cell_type": "markdown",
   "metadata": {},
   "source": [
    "Let's create the datatset."
   ]
  },
  {
   "cell_type": "code",
   "execution_count": 3,
   "metadata": {},
   "outputs": [],
   "source": [
    "master_key = jax.random.PRNGKey(0)\n",
    "\n",
    "n_dim = 2\n",
    "num_samples = 10_000\n",
    "#Generate parameters\n",
    "theta_key, master_key = jax.random.split(master_key)\n",
    "theta = jax.random.uniform(theta_key, (num_samples, n_dim), minval=-1, maxval=1)\n",
    "\n",
    "#Generate data\n",
    "data_key, master_key = jax.random.split(master_key)\n",
    "x = simulator(theta, data_key)"
   ]
  },
  {
   "cell_type": "code",
   "execution_count": 4,
   "metadata": {},
   "outputs": [
    {
     "name": "stdout",
     "output_type": "stream",
     "text": [
      "Fiducial parameters: [[ 0.2 -0.5]]\n",
      "Fiducial observation: [[ 0.15164769 -0.47430325]]\n"
     ]
    }
   ],
   "source": [
    "#Let's create a fiducial target\n",
    "fiducial = jnp.array([[0.2, -0.5]])\n",
    "obs = simulator(fiducial, jax.random.PRNGKey(0))\n",
    "\n",
    "print(\"Fiducial parameters:\", fiducial)\n",
    "print(\"Fiducial observation:\", obs)"
   ]
  },
  {
   "cell_type": "markdown",
   "metadata": {},
   "source": [
    "## Neural Posterior Estimation (NPE)"
   ]
  },
  {
   "cell_type": "markdown",
   "metadata": {},
   "source": [
    "Let's setup the pipeline. We create the inference object, we push the simulations, we train and we fetch the posterior!"
   ]
  },
  {
   "cell_type": "code",
   "execution_count": 5,
   "metadata": {},
   "outputs": [
    {
     "name": "stdout",
     "output_type": "stream",
     "text": [
      "[!] Inputs are valid.\n",
      "[!] Appending 10000 simulations to the dataset.\n"
     ]
    },
    {
     "name": "stdout",
     "output_type": "stream",
     "text": [
      "[!] Dataset split into training, validation and test sets.\n",
      "[!] Training set: 7000 simulations.\n",
      "[!] Validation set: 2000 simulations.\n",
      "[!] Test set: 1000 simulations.\n"
     ]
    }
   ],
   "source": [
    "inference = NPE()\n",
    "inference = inference.append_simulations(np.array(theta), np.array(x))"
   ]
  },
  {
   "cell_type": "code",
   "execution_count": 6,
   "metadata": {},
   "outputs": [
    {
     "name": "stdout",
     "output_type": "stream",
     "text": [
      "[!] Creating DataLoaders with batch_size 50.\n",
      "[!] Building the neural network.\n",
      "[!] Creating the Trainer module.\n",
      "Could not tabulate model: \n"
     ]
    },
    {
     "name": "stderr",
     "output_type": "stream",
     "text": [
      "WARNING:absl:Configured `CheckpointManager` using deprecated legacy API. Please follow the instructions at https://orbax.readthedocs.io/en/latest/api_refactor.html to migrate by May 1st, 2024.\n"
     ]
    },
    {
     "name": "stdout",
     "output_type": "stream",
     "text": [
      "[!] Training the density estimator.\n"
     ]
    },
    {
     "name": "stderr",
     "output_type": "stream",
     "text": [
      "Epochs:   0%|          | 0/500 [00:00<?, ?it/s]/home/sacha/anaconda3/envs/jaxili/lib/python3.10/multiprocessing/popen_fork.py:66: RuntimeWarning: os.fork() was called. os.fork() is incompatible with multithreaded code, and JAX is multithreaded, so this will likely lead to a deadlock.\n",
      "  self.pid = os.fork()\n",
      "/home/sacha/anaconda3/envs/jaxili/lib/python3.10/multiprocessing/popen_fork.py:66: RuntimeWarning: os.fork() was called. os.fork() is incompatible with multithreaded code, and JAX is multithreaded, so this will likely lead to a deadlock.\n",
      "  self.pid = os.fork()\n",
      "/home/sacha/anaconda3/envs/jaxili/lib/python3.10/multiprocessing/popen_fork.py:66: RuntimeWarning: os.fork() was called. os.fork() is incompatible with multithreaded code, and JAX is multithreaded, so this will likely lead to a deadlock.\n",
      "  self.pid = os.fork()\n",
      "WARNING:absl:SaveArgs.aggregate is deprecated, please use custom TypeHandler (https://orbax.readthedocs.io/en/latest/custom_handlers.html#typehandler) or contact Orbax team to migrate before May 1st, 2024.\n",
      "Epochs: Val loss -0.695/ Best val loss -0.695:   0%|          | 1/500 [00:13<1:53:48, 13.68s/it]/home/sacha/anaconda3/envs/jaxili/lib/python3.10/multiprocessing/popen_fork.py:66: RuntimeWarning: os.fork() was called. os.fork() is incompatible with multithreaded code, and JAX is multithreaded, so this will likely lead to a deadlock.\n",
      "  self.pid = os.fork()\n",
      "/home/sacha/anaconda3/envs/jaxili/lib/python3.10/multiprocessing/popen_fork.py:66: RuntimeWarning: os.fork() was called. os.fork() is incompatible with multithreaded code, and JAX is multithreaded, so this will likely lead to a deadlock.\n",
      "  self.pid = os.fork()\n",
      "Epochs: Val loss -3.341/ Best val loss -3.345:  41%|████      | 205/500 [03:36<05:12,  1.06s/it]"
     ]
    },
    {
     "name": "stdout",
     "output_type": "stream",
     "text": [
      "Neural network training stopped after 206 epochs.\n",
      "Early stopping with best validation metric: -3.3453128337860107\n",
      "Best model saved at epoch 185\n",
      "Early stopping parameters: min_delta=0.001, patience=20\n"
     ]
    },
    {
     "name": "stderr",
     "output_type": "stream",
     "text": [
      "\n"
     ]
    },
    {
     "name": "stdout",
     "output_type": "stream",
     "text": [
      "[!] Training loss: -3.4060730934143066\n",
      "[!] Validation loss: -3.3453128337860107\n",
      "[!] Test loss: -3.3304574489593506\n"
     ]
    }
   ],
   "source": [
    "#Specify a checkpoint to save the weights of the neural network\n",
    "CHECKPOINT_PATH = \".\"\n",
    "#Turn it into an absolut path\n",
    "CHECKPOINT_PATH = os.path.abspath(CHECKPOINT_PATH)\n",
    "\n",
    "num_epochs = 500\n",
    "\n",
    "metrics, density_estimator = inference.train(\n",
    "    checkpoint_path=CHECKPOINT_PATH,\n",
    "    num_epochs=num_epochs,\n",
    ")"
   ]
  },
  {
   "cell_type": "code",
   "execution_count": 7,
   "metadata": {},
   "outputs": [
    {
     "name": "stdout",
     "output_type": "stream",
     "text": [
      "[!] Posterior $p(\\theta| x)$ built. The class DirectPosterior is used to sample and evaluate the log probability.\n"
     ]
    }
   ],
   "source": [
    "posterior = inference.build_posterior()"
   ]
  },
  {
   "cell_type": "markdown",
   "metadata": {},
   "source": [
    "## Checking the posterior"
   ]
  },
  {
   "cell_type": "code",
   "execution_count": 8,
   "metadata": {},
   "outputs": [],
   "source": [
    "sample_key, master_key = jax.random.split(master_key)\n",
    "samples = posterior.sample(x=obs, num_samples=10_000, key=sample_key) "
   ]
  },
  {
   "cell_type": "code",
   "execution_count": 9,
   "metadata": {},
   "outputs": [
    {
     "name": "stdout",
     "output_type": "stream",
     "text": [
      "Removed no burn in\n"
     ]
    },
    {
     "data": {
      "image/png": "[encoded data removed]",
      "text/plain": [
       "<Figure size 400x400 with 3 Axes>"
      ]
     },
     "metadata": {},
     "output_type": "display_data"
    }
   ],
   "source": [
    "labels = [rf'\\theta_{i}' for i in range(n_dim)]\n",
    "\n",
    "samples_gd = MCSamples(samples=samples, names=labels, labels=labels)\n",
    "\n",
    "g = plots.get_subplot_plotter()\n",
    "\n",
    "g.settings.figure_legend_frame = False\n",
    "g.settings.alpha_filled_add = 0.4\n",
    "\n",
    "g.triangle_plot([samples_gd], filled=True,\n",
    "                line_args=[\n",
    "                    {'color': 'blue'}\n",
    "                ],\n",
    "                contour_colors=['blue'],\n",
    "                markers={\n",
    "                    label: val for label, val in zip(labels, fiducial[0])\n",
    "                })\n",
    "\n",
    "plt.show()"
   ]
  },
  {
   "cell_type": "markdown",
   "metadata": {},
   "source": [
    "## Neural Likelihood Estimation (NLE)"
   ]
  },
  {
   "cell_type": "markdown",
   "metadata": {},
   "source": [
    "Likewise, we can learn the likelihood before sampling the posterior."
   ]
  },
  {
   "cell_type": "code",
   "execution_count": 10,
   "metadata": {},
   "outputs": [
    {
     "name": "stderr",
     "output_type": "stream",
     "text": [
      "/home/sacha/anaconda3/envs/jaxili/lib/python3.10/multiprocessing/popen_fork.py:66: RuntimeWarning: os.fork() was called. os.fork() is incompatible with multithreaded code, and JAX is multithreaded, so this will likely lead to a deadlock.\n",
      "  self.pid = os.fork()\n"
     ]
    },
    {
     "name": "stdout",
     "output_type": "stream",
     "text": [
      "[!] Inputs are valid.\n",
      "[!] Appending 10000 simulations to the dataset.\n",
      "[!] Dataset split into training, validation and test sets.\n",
      "[!] Training set: 7000 simulations.\n",
      "[!] Validation set: 2000 simulations.\n",
      "[!] Test set: 1000 simulations.\n"
     ]
    }
   ],
   "source": [
    "inference = NLE()\n",
    "inference = inference.append_simulations(np.array(theta), np.array(x))"
   ]
  },
  {
   "cell_type": "code",
   "execution_count": 11,
   "metadata": {},
   "outputs": [
    {
     "name": "stdout",
     "output_type": "stream",
     "text": [
      "[!] Creating DataLoaders with batch_size 50.\n",
      "[!] Building the neural network.\n",
      "[!] Creating the Trainer module.\n",
      "Could not tabulate model: \n"
     ]
    },
    {
     "name": "stderr",
     "output_type": "stream",
     "text": [
      "WARNING:absl:Configured `CheckpointManager` using deprecated legacy API. Please follow the instructions at https://orbax.readthedocs.io/en/latest/api_refactor.html to migrate by May 1st, 2024.\n"
     ]
    },
    {
     "name": "stdout",
     "output_type": "stream",
     "text": [
      "[!] Training the density estimator.\n"
     ]
    },
    {
     "name": "stderr",
     "output_type": "stream",
     "text": [
      "Epochs:   0%|          | 0/500 [00:00<?, ?it/s]/home/sacha/anaconda3/envs/jaxili/lib/python3.10/multiprocessing/popen_fork.py:66: RuntimeWarning: os.fork() was called. os.fork() is incompatible with multithreaded code, and JAX is multithreaded, so this will likely lead to a deadlock.\n",
      "  self.pid = os.fork()\n",
      "/home/sacha/anaconda3/envs/jaxili/lib/python3.10/multiprocessing/popen_fork.py:66: RuntimeWarning: os.fork() was called. os.fork() is incompatible with multithreaded code, and JAX is multithreaded, so this will likely lead to a deadlock.\n",
      "  self.pid = os.fork()\n",
      "/home/sacha/anaconda3/envs/jaxili/lib/python3.10/multiprocessing/popen_fork.py:66: RuntimeWarning: os.fork() was called. os.fork() is incompatible with multithreaded code, and JAX is multithreaded, so this will likely lead to a deadlock.\n",
      "  self.pid = os.fork()\n",
      "Epochs: Val loss -1.028/ Best val loss -1.028:   0%|          | 1/500 [00:09<1:18:17,  9.41s/it]/home/sacha/anaconda3/envs/jaxili/lib/python3.10/multiprocessing/popen_fork.py:66: RuntimeWarning: os.fork() was called. os.fork() is incompatible with multithreaded code, and JAX is multithreaded, so this will likely lead to a deadlock.\n",
      "  self.pid = os.fork()\n",
      "/home/sacha/anaconda3/envs/jaxili/lib/python3.10/multiprocessing/popen_fork.py:66: RuntimeWarning: os.fork() was called. os.fork() is incompatible with multithreaded code, and JAX is multithreaded, so this will likely lead to a deadlock.\n",
      "  self.pid = os.fork()\n",
      "Epochs: Val loss -4.207/ Best val loss -4.246:  26%|██▌       | 128/500 [02:16<06:37,  1.07s/it]"
     ]
    },
    {
     "name": "stdout",
     "output_type": "stream",
     "text": [
      "Neural network training stopped after 129 epochs.\n",
      "Early stopping with best validation metric: -4.2458930015563965\n",
      "Best model saved at epoch 108\n",
      "Early stopping parameters: min_delta=0.001, patience=20\n"
     ]
    },
    {
     "name": "stderr",
     "output_type": "stream",
     "text": [
      "\n"
     ]
    },
    {
     "name": "stdout",
     "output_type": "stream",
     "text": [
      "[!] Training loss: -4.239800453186035\n",
      "[!] Validation loss: -4.2458930015563965\n",
      "[!] Test loss: -4.2225518226623535\n"
     ]
    }
   ],
   "source": [
    "#Specify a checkpoint to save the weights of the neural network\n",
    "CHECKPOINT_PATH = \".\"\n",
    "#Turn it into an absolut path\n",
    "CHECKPOINT_PATH = os.path.abspath(CHECKPOINT_PATH)\n",
    "\n",
    "num_epochs = 500\n",
    "\n",
    "metrics, density_estimator = inference.train(\n",
    "    checkpoint_path=CHECKPOINT_PATH,\n",
    "    num_epochs=num_epochs,\n",
    ")"
   ]
  },
  {
   "cell_type": "code",
   "execution_count": 15,
   "metadata": {},
   "outputs": [
    {
     "name": "stdout",
     "output_type": "stream",
     "text": [
      "Using MCMC method: nuts_numpyro\n",
      "MCMC kwargs: {'num_chains': 10}\n",
      "[!] Posterior $p(\\theta| x)$ built. The class MCMCPosterior is used to sample and evaluate the log probability.\\n The sampling is performed using MCMC methods.\n"
     ]
    }
   ],
   "source": [
    "posterior = inference.build_posterior(\n",
    "    prior_distr=dist.Uniform(low=jnp.array([-1, -1]), high=jnp.array([1, 1])),\n",
    "    mcmc_kwargs={'num_chains': 10}\n",
    ")"
   ]
  },
  {
   "cell_type": "code",
   "execution_count": 16,
   "metadata": {},
   "outputs": [
    {
     "name": "stderr",
     "output_type": "stream",
     "text": [
      "/home/sacha/anaconda3/envs/jaxili/lib/python3.10/site-packages/jaxili/posterior/mcmc_posterior.py:243: UserWarning: There are not enough devices to run parallel chains: expected 10 but got 1. Chains will be drawn sequentially. If you are running MCMC in CPU, consider using `numpyro.set_host_device_count(10)` at the beginning of your program. You can double-check how many devices are available in your system using `jax.local_device_count()`.\n",
      "  mcmc = MCMC(\n",
      "sample: 100%|██████████| 3000/3000 [00:45<00:00, 66.40it/s, 31 steps of size 2.68e-01. acc. prob=0.81] \n",
      "sample: 100%|██████████| 3000/3000 [00:30<00:00, 98.12it/s, 3 steps of size 1.97e-01. acc. prob=0.90]  \n",
      "sample: 100%|██████████| 3000/3000 [00:30<00:00, 98.66it/s, 3 steps of size 1.56e-01. acc. prob=0.93]  \n",
      "sample: 100%|██████████| 3000/3000 [00:29<00:00, 100.12it/s, 27 steps of size 1.60e-01. acc. prob=0.92]\n",
      "sample: 100%|██████████| 3000/3000 [00:29<00:00, 100.44it/s, 17 steps of size 1.76e-01. acc. prob=0.92]\n",
      "sample: 100%|██████████| 3000/3000 [00:29<00:00, 103.43it/s, 3 steps of size 1.60e-01. acc. prob=0.92] \n",
      "sample: 100%|██████████| 3000/3000 [00:29<00:00, 103.22it/s, 15 steps of size 1.86e-01. acc. prob=0.90]\n",
      "sample: 100%|██████████| 3000/3000 [00:28<00:00, 104.73it/s, 7 steps of size 1.61e-01. acc. prob=0.90] \n",
      "sample: 100%|██████████| 3000/3000 [00:30<00:00, 99.61it/s, 39 steps of size 1.51e-01. acc. prob=0.93] \n",
      "sample: 100%|██████████| 3000/3000 [00:29<00:00, 100.09it/s, 13 steps of size 1.40e-01. acc. prob=0.94]\n"
     ]
    }
   ],
   "source": [
    "num_samples = 2_500\n",
    "sample_key, master_key = jax.random.split(master_key)\n",
    "samples_nle = posterior.sample(\n",
    "    x=obs, num_samples=num_samples, key=sample_key\n",
    ")"
   ]
  },
  {
   "cell_type": "code",
   "execution_count": 17,
   "metadata": {},
   "outputs": [
    {
     "name": "stdout",
     "output_type": "stream",
     "text": [
      "Removed no burn in\n",
      "Removed no burn in\n"
     ]
    },
    {
     "name": "stderr",
     "output_type": "stream",
     "text": [
      "WARNING:root:2D kernel density bandwidth optimizer failed for \\theta_0, \\theta_1. Using fallback width: f(a) and f(b) must have different signs\n"
     ]
    },
    {
     "data": {
      "image/png": "[encoded data removed]",
      "text/plain": [
       "<Figure size 400x400 with 3 Axes>"
      ]
     },
     "metadata": {},
     "output_type": "display_data"
    }
   ],
   "source": [
    "labels = [rf'\\theta_{i}' for i in range(n_dim)]\n",
    "\n",
    "samples_gd = MCSamples(samples=samples, names=labels, labels=labels)\n",
    "samples_nle_gd = MCSamples(samples=samples_nle, names=labels, labels=labels)\n",
    "\n",
    "g = plots.get_subplot_plotter()\n",
    "\n",
    "g.settings.figure_legend_frame = False\n",
    "g.settings.alpha_filled_add = 0.4\n",
    "\n",
    "g.triangle_plot([samples_gd, samples_nle_gd], filled=True,\n",
    "                line_args=[\n",
    "                    {'color': 'blue'},\n",
    "                    {'color': 'red'}\n",
    "                ],\n",
    "                legend_labels=['NPE', 'NLE'],\n",
    "                contour_colors=['blue', 'red'],\n",
    "                markers={\n",
    "                    label: val for label, val in zip(labels, fiducial[0])\n",
    "                })\n",
    "\n",
    "plt.show()"
   ]
  },
  {
   "cell_type": "code",
   "execution_count": null,
   "metadata": {},
   "outputs": [],
   "source": []
  }
 ],
 "metadata": {
  "kernelspec": {
   "display_name": "jaxili",
   "language": "python",
   "name": "python3"
  },
  "language_info": {
   "codemirror_mode": {
    "name": "ipython",
    "version": 3
   },
   "file_extension": ".py",
   "mimetype": "text/x-python",
   "name": "python",
   "nbconvert_exporter": "python",
   "pygments_lexer": "ipython3",
   "version": "3.10.13"
  }
 },
 "nbformat": 4,
 "nbformat_minor": 2
}
