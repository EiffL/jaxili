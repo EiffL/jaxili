{
 "cells": [
  {
   "cell_type": "markdown",
   "metadata": {},
   "source": [
    "# Two moons example"
   ]
  },
  {
   "cell_type": "code",
   "execution_count": 1,
   "metadata": {},
   "outputs": [
    {
     "name": "stderr",
     "output_type": "stream",
     "text": [
      "2025-03-05 11:03:08.879338: W tensorflow/compiler/tf2tensorrt/utils/py_utils.cc:38] TF-TRT Warning: Could not find TensorRT\n"
     ]
    },
    {
     "name": "stdout",
     "output_type": "stream",
     "text": [
      "Device used by jax: [cuda(id=0)]\n"
     ]
    }
   ],
   "source": [
    "import os\n",
    "\n",
    "import jax\n",
    "import jax.numpy as jnp\n",
    "import numpy as np\n",
    "import matplotlib.pyplot as plt\n",
    "\n",
    "from jaxili.inference import NPE, NLE\n",
    "\n",
    "import numpyro.distributions as dist\n",
    "\n",
    "from getdist import plots, MCSamples\n",
    "%matplotlib inline\n",
    "\n",
    "print(\"Device used by jax:\", jax.devices())"
   ]
  },
  {
   "cell_type": "markdown",
   "metadata": {},
   "source": [
    "Two moons is a standard benchmark task where the posterior is bimodal. This is a good example to test the ability of NPE and NLE to sample from a complex posterior."
   ]
  },
  {
   "cell_type": "markdown",
   "metadata": {},
   "source": [
    "## Defining the simulator\n",
    "\n",
    "We will try to solve the following inference problem:\n",
    "\n",
    "- Prior: $\\mathcal{U}(-1, 1)$\n",
    "- Simulator: $x|\\theta \\sim \\left[\\begin{array}{c} r\\cos(\\alpha)+0.25 \\\\ r\\sin(\\alpha)\\end{array}\\right]+\\left[ \\begin{array}{c} -|\\theta_1+\\theta_2|/\\sqrt{2}\\\\ (-\\theta_1+\\theta_2)/\\sqrt{2} \\end{array}\\right]$ where $\\alpha \\sim \\mathcal{U}(-\\pi/2, \\pi/2)$ and $r \\sim \\mathcal{N}(0.1, 0.01^2)$\n",
    "- $\\theta \\in \\mathbb{R}^2$, $x\\in \\mathbb{R}^2$\n",
    "\n",
    "Let's implement the simulator."
   ]
  },
  {
   "cell_type": "code",
   "execution_count": 2,
   "metadata": {},
   "outputs": [],
   "source": [
    "def simulator(theta, rng_key):\n",
    "    batch_size = theta.shape[0]\n",
    "\n",
    "    #Sample angle\n",
    "    alpha_key, rng_key = jax.random.split(rng_key)\n",
    "    alpha = jax.random.uniform(alpha_key, (batch_size, 1), minval=-jnp.pi/2, maxval=jnp.pi/2)\n",
    "\n",
    "    #Sample radius\n",
    "    r_key, rng_key = jax.random.split(rng_key)\n",
    "    r = jax.random.normal(r_key, (batch_size, 1))*0.01+0.1\n",
    "\n",
    "    #Compute x_1 and x_2\n",
    "    x_1 = r * jnp.cos(alpha)+0.25 - jnp.abs(theta[:, 0]+theta[:, 1]).reshape((-1, 1))/jnp.sqrt(2)\n",
    "    x_2 = r * jnp.sin(alpha) + (- theta[:, 0]+theta[:, 1]).reshape((-1, 1))/jnp.sqrt(2)\n",
    "    return jnp.column_stack([x_1, x_2])"
   ]
  },
  {
   "cell_type": "markdown",
   "metadata": {},
   "source": [
    "Let's create the datatset."
   ]
  },
  {
   "cell_type": "code",
   "execution_count": 3,
   "metadata": {},
   "outputs": [],
   "source": [
    "master_key = jax.random.PRNGKey(0)\n",
    "\n",
    "n_dim = 2\n",
    "num_samples = 10_000\n",
    "#Generate parameters\n",
    "theta_key, master_key = jax.random.split(master_key)\n",
    "theta = jax.random.uniform(theta_key, (num_samples, n_dim), minval=-1, maxval=1)\n",
    "\n",
    "#Generate data\n",
    "data_key, master_key = jax.random.split(master_key)\n",
    "x = simulator(theta, data_key)"
   ]
  },
  {
   "cell_type": "code",
   "execution_count": 4,
   "metadata": {},
   "outputs": [
    {
     "name": "stdout",
     "output_type": "stream",
     "text": [
      "Fiducial parameters: [[ 0.2 -0.5]]\n",
      "Fiducial observation: [[ 0.15164769 -0.47430325]]\n"
     ]
    }
   ],
   "source": [
    "#Let's create a fiducial target\n",
    "fiducial = jnp.array([[0.2, -0.5]])\n",
    "obs = simulator(fiducial, jax.random.PRNGKey(0))\n",
    "\n",
    "print(\"Fiducial parameters:\", fiducial)\n",
    "print(\"Fiducial observation:\", obs)"
   ]
  },
  {
   "cell_type": "markdown",
   "metadata": {},
   "source": [
    "## Neural Posterior Estimation (NPE)"
   ]
  },
  {
   "cell_type": "markdown",
   "metadata": {},
   "source": [
    "Let's setup the pipeline. We create the inference object, we push the simulations, we train and we fetch the posterior!"
   ]
  },
  {
   "cell_type": "code",
   "execution_count": 12,
   "metadata": {},
   "outputs": [
    {
     "name": "stdout",
     "output_type": "stream",
     "text": [
      "[!] Inputs are valid.\n",
      "[!] Appending 10000 simulations to the dataset.\n",
      "[!] Dataset split into training, validation and test sets.\n",
      "[!] Training set: 7000 simulations.\n",
      "[!] Validation set: 2000 simulations.\n",
      "[!] Test set: 1000 simulations.\n"
     ]
    }
   ],
   "source": [
    "inference = NPE()\n",
    "inference = inference.append_simulations(np.array(theta), np.array(x))"
   ]
  },
  {
   "cell_type": "code",
   "execution_count": 13,
   "metadata": {},
   "outputs": [
    {
     "name": "stderr",
     "output_type": "stream",
     "text": [
      "WARNING:absl:Configured `CheckpointManager` using deprecated legacy API. Please follow the instructions at https://orbax.readthedocs.io/en/latest/api_refactor.html to migrate by May 1st, 2024.\n"
     ]
    },
    {
     "name": "stdout",
     "output_type": "stream",
     "text": [
      "[!] Creating DataLoaders with batch_size 50.\n",
      "[!] Building the neural network.\n",
      "[!] Creating the Trainer module.\n",
      "Could not tabulate model: \n",
      "[!] Training the density estimator.\n"
     ]
    },
    {
     "name": "stderr",
     "output_type": "stream",
     "text": [
      "Epochs: Val loss -3.342/ Best val loss -3.352:  54%|█████▎    | 134/250 [00:31<00:27,  4.29it/s]"
     ]
    },
    {
     "name": "stdout",
     "output_type": "stream",
     "text": [
      "Neural network training stopped after 135 epochs.\n",
      "Early stopping with best validation metric: -3.351813554763794\n",
      "Best model saved at epoch 114\n",
      "Early stopping parameters: min_delta=0.001, patience=20\n",
      "[!] Training loss: -3.461625814437866\n",
      "[!] Validation loss: -3.351813554763794\n",
      "[!] Test loss: -3.3102118968963623\n"
     ]
    },
    {
     "name": "stderr",
     "output_type": "stream",
     "text": [
      "\n"
     ]
    }
   ],
   "source": [
    "#Specify a checkpoint to save the weights of the neural network\n",
    "CHECKPOINT_PATH = \".\"\n",
    "#Turn it into an absolut path\n",
    "CHECKPOINT_PATH = os.path.abspath(CHECKPOINT_PATH)\n",
    "learning_rate = 1e-3\n",
    "\n",
    "num_epochs = 250\n",
    "\n",
    "metrics, density_estimator = inference.train(\n",
    "    checkpoint_path=CHECKPOINT_PATH,\n",
    "    num_epochs=num_epochs,\n",
    "    learning_rate=learning_rate,\n",
    ")"
   ]
  },
  {
   "cell_type": "code",
   "execution_count": 14,
   "metadata": {},
   "outputs": [
    {
     "name": "stdout",
     "output_type": "stream",
     "text": [
      "[!] Posterior $p(\\theta| x)$ built. The class DirectPosterior is used to sample and evaluate the log probability.\n"
     ]
    }
   ],
   "source": [
    "posterior = inference.build_posterior()"
   ]
  },
  {
   "cell_type": "markdown",
   "metadata": {},
   "source": [
    "## Checking the posterior"
   ]
  },
  {
   "cell_type": "code",
   "execution_count": 15,
   "metadata": {},
   "outputs": [],
   "source": [
    "sample_key, master_key = jax.random.split(master_key)\n",
    "samples = posterior.sample(x=obs, num_samples=10_000, key=sample_key) "
   ]
  },
  {
   "cell_type": "code",
   "execution_count": 16,
   "metadata": {},
   "outputs": [
    {
     "name": "stdout",
     "output_type": "stream",
     "text": [
      "Removed no burn in\n"
     ]
    },
    {
     "data": {
      "image/png": "[encoded data removed]",
      "text/plain": [
       "<Figure size 400x400 with 3 Axes>"
      ]
     },
     "metadata": {},
     "output_type": "display_data"
    }
   ],
   "source": [
    "labels = [rf'\\theta_{i}' for i in range(n_dim)]\n",
    "\n",
    "samples_gd = MCSamples(samples=samples, names=labels, labels=labels)\n",
    "\n",
    "g = plots.get_subplot_plotter()\n",
    "\n",
    "g.settings.figure_legend_frame = False\n",
    "g.settings.alpha_filled_add = 0.4\n",
    "\n",
    "g.triangle_plot([samples_gd], filled=True,\n",
    "                line_args=[\n",
    "                    {'color': 'blue'}\n",
    "                ],\n",
    "                contour_colors=['blue'],\n",
    "                markers={\n",
    "                    label: val for label, val in zip(labels, fiducial[0])\n",
    "                })\n",
    "\n",
    "plt.show()"
   ]
  },
  {
   "cell_type": "markdown",
   "metadata": {},
   "source": [
    "## Neural Likelihood Estimation (NLE)"
   ]
  },
  {
   "cell_type": "markdown",
   "metadata": {},
   "source": [
    "Likewise, we can learn the likelihood before sampling the posterior."
   ]
  },
  {
   "cell_type": "code",
   "execution_count": 10,
   "metadata": {},
   "outputs": [
    {
     "name": "stderr",
     "output_type": "stream",
     "text": [
      "/home/sacha/anaconda3/envs/jaxili/lib/python3.10/multiprocessing/popen_fork.py:66: RuntimeWarning: os.fork() was called. os.fork() is incompatible with multithreaded code, and JAX is multithreaded, so this will likely lead to a deadlock.\n",
      "  self.pid = os.fork()\n"
     ]
    },
    {
     "name": "stdout",
     "output_type": "stream",
     "text": [
      "[!] Inputs are valid.\n",
      "[!] Appending 10000 simulations to the dataset.\n",
      "[!] Dataset split into training, validation and test sets.\n",
      "[!] Training set: 7000 simulations.\n",
      "[!] Validation set: 2000 simulations.\n",
      "[!] Test set: 1000 simulations.\n"
     ]
    }
   ],
   "source": [
    "inference = NLE()\n",
    "inference = inference.append_simulations(np.array(theta), np.array(x))"
   ]
  },
  {
   "cell_type": "code",
   "execution_count": 10,
   "metadata": {},
   "outputs": [
    {
     "ename": "TypeError",
     "evalue": "TrainerModule.train_model() got an unexpected keyword argument 'checkpoint_path'",
     "output_type": "error",
     "traceback": [
      "\u001b[0;31m---------------------------------------------------------------------------\u001b[0m",
      "\u001b[0;31mTypeError\u001b[0m                                 Traceback (most recent call last)",
      "Cell \u001b[0;32mIn[10], line 8\u001b[0m\n\u001b[1;32m      4\u001b[0m CHECKPOINT_PATH \u001b[38;5;241m=\u001b[39m os\u001b[38;5;241m.\u001b[39mpath\u001b[38;5;241m.\u001b[39mabspath(CHECKPOINT_PATH)\n\u001b[1;32m      6\u001b[0m num_epochs \u001b[38;5;241m=\u001b[39m \u001b[38;5;241m250\u001b[39m\n\u001b[0;32m----> 8\u001b[0m metrics, density_estimator \u001b[38;5;241m=\u001b[39m \u001b[43minference\u001b[49m\u001b[38;5;241;43m.\u001b[39;49m\u001b[43mtrain\u001b[49m\u001b[43m(\u001b[49m\n\u001b[1;32m      9\u001b[0m \u001b[43m    \u001b[49m\u001b[43mcheckpoint_path\u001b[49m\u001b[38;5;241;43m=\u001b[39;49m\u001b[43mCHECKPOINT_PATH\u001b[49m\u001b[43m,\u001b[49m\n\u001b[1;32m     10\u001b[0m \u001b[43m    \u001b[49m\u001b[43mnum_epochs\u001b[49m\u001b[38;5;241;43m=\u001b[39;49m\u001b[43mnum_epochs\u001b[49m\u001b[43m,\u001b[49m\n\u001b[1;32m     11\u001b[0m \u001b[43m)\u001b[49m\n",
      "File \u001b[0;32m~/anaconda3/envs/jaxili/lib/python3.10/site-packages/jaxili/inference/npe.py:480\u001b[0m, in \u001b[0;36mNPE.train\u001b[0;34m(self, training_batch_size, learning_rate, patience, num_epochs, check_val_every_epoch, **kwargs)\u001b[0m\n\u001b[1;32m    477\u001b[0m     \u001b[38;5;28mself\u001b[39m\u001b[38;5;241m.\u001b[39m_create_data_loader(batch_size\u001b[38;5;241m=\u001b[39mtraining_batch_size)\n\u001b[1;32m    479\u001b[0m \u001b[38;5;28;01mtry\u001b[39;00m:\n\u001b[0;32m--> 480\u001b[0m     metrics \u001b[38;5;241m=\u001b[39m \u001b[38;5;28;43mself\u001b[39;49m\u001b[38;5;241;43m.\u001b[39;49m\u001b[43mtrainer\u001b[49m\u001b[38;5;241;43m.\u001b[39;49m\u001b[43mtrain_model\u001b[49m\u001b[43m(\u001b[49m\n\u001b[1;32m    481\u001b[0m \u001b[43m        \u001b[49m\u001b[38;5;28;43mself\u001b[39;49m\u001b[38;5;241;43m.\u001b[39;49m\u001b[43m_train_loader\u001b[49m\u001b[43m,\u001b[49m\n\u001b[1;32m    482\u001b[0m \u001b[43m        \u001b[49m\u001b[38;5;28;43mself\u001b[39;49m\u001b[38;5;241;43m.\u001b[39;49m\u001b[43m_val_loader\u001b[49m\u001b[43m,\u001b[49m\n\u001b[1;32m    483\u001b[0m \u001b[43m        \u001b[49m\u001b[43mtest_loader\u001b[49m\u001b[38;5;241;43m=\u001b[39;49m\u001b[38;5;28;43mself\u001b[39;49m\u001b[38;5;241;43m.\u001b[39;49m\u001b[43m_test_loader\u001b[49m\u001b[43m,\u001b[49m\n\u001b[1;32m    484\u001b[0m \u001b[43m        \u001b[49m\u001b[43mnum_epochs\u001b[49m\u001b[38;5;241;43m=\u001b[39;49m\u001b[43mnum_epochs\u001b[49m\u001b[43m,\u001b[49m\n\u001b[1;32m    485\u001b[0m \u001b[43m        \u001b[49m\u001b[43mpatience\u001b[49m\u001b[38;5;241;43m=\u001b[39;49m\u001b[43mpatience\u001b[49m\u001b[43m,\u001b[49m\n\u001b[1;32m    486\u001b[0m \u001b[43m        \u001b[49m\u001b[38;5;241;43m*\u001b[39;49m\u001b[38;5;241;43m*\u001b[39;49m\u001b[43mkwargs\u001b[49m\u001b[43m,\u001b[49m\n\u001b[1;32m    487\u001b[0m \u001b[43m    \u001b[49m\u001b[43m)\u001b[49m\n\u001b[1;32m    488\u001b[0m \u001b[38;5;28;01mexcept\u001b[39;00m \u001b[38;5;167;01mAttributeError\u001b[39;00m:\n\u001b[1;32m    489\u001b[0m     optimizer_hparams \u001b[38;5;241m=\u001b[39m {\n\u001b[1;32m    490\u001b[0m         \u001b[38;5;124m\"\u001b[39m\u001b[38;5;124mlr\u001b[39m\u001b[38;5;124m\"\u001b[39m: learning_rate,\n\u001b[1;32m    491\u001b[0m         \u001b[38;5;124m\"\u001b[39m\u001b[38;5;124moptimizer_name\u001b[39m\u001b[38;5;124m\"\u001b[39m: kwargs\u001b[38;5;241m.\u001b[39mget(\u001b[38;5;124m\"\u001b[39m\u001b[38;5;124moptimizer_name\u001b[39m\u001b[38;5;124m\"\u001b[39m, \u001b[38;5;124m\"\u001b[39m\u001b[38;5;124madam\u001b[39m\u001b[38;5;124m\"\u001b[39m),\n\u001b[0;32m   (...)\u001b[0m\n\u001b[1;32m    494\u001b[0m         \u001b[38;5;124m\"\u001b[39m\u001b[38;5;124mweight_decay\u001b[39m\u001b[38;5;124m\"\u001b[39m: kwargs\u001b[38;5;241m.\u001b[39mget(\u001b[38;5;124m\"\u001b[39m\u001b[38;5;124mweight_decay\u001b[39m\u001b[38;5;124m\"\u001b[39m, \u001b[38;5;241m0.0\u001b[39m),\n\u001b[1;32m    495\u001b[0m     }\n",
      "\u001b[0;31mTypeError\u001b[0m: TrainerModule.train_model() got an unexpected keyword argument 'checkpoint_path'"
     ]
    }
   ],
   "source": [
    "#Specify a checkpoint to save the weights of the neural network\n",
    "CHECKPOINT_PATH = \".\"\n",
    "#Turn it into an absolut path\n",
    "CHECKPOINT_PATH = os.path.abspath(CHECKPOINT_PATH)\n",
    "\n",
    "num_epochs = 250\n",
    "\n",
    "metrics, density_estimator = inference.train(\n",
    "    checkpoint_path=CHECKPOINT_PATH,\n",
    "    num_epochs=num_epochs,\n",
    ")"
   ]
  },
  {
   "cell_type": "code",
   "execution_count": 15,
   "metadata": {},
   "outputs": [
    {
     "name": "stdout",
     "output_type": "stream",
     "text": [
      "Using MCMC method: nuts_numpyro\n",
      "MCMC kwargs: {'num_chains': 10}\n",
      "[!] Posterior $p(\\theta| x)$ built. The class MCMCPosterior is used to sample and evaluate the log probability.\\n The sampling is performed using MCMC methods.\n"
     ]
    }
   ],
   "source": [
    "posterior = inference.build_posterior(\n",
    "    prior_distr=dist.Uniform(low=jnp.array([-1, -1]), high=jnp.array([1, 1])),\n",
    "    mcmc_kwargs={'num_chains': 10}\n",
    ")"
   ]
  },
  {
   "cell_type": "code",
   "execution_count": 16,
   "metadata": {},
   "outputs": [
    {
     "name": "stderr",
     "output_type": "stream",
     "text": [
      "/home/sacha/anaconda3/envs/jaxili/lib/python3.10/site-packages/jaxili/posterior/mcmc_posterior.py:243: UserWarning: There are not enough devices to run parallel chains: expected 10 but got 1. Chains will be drawn sequentially. If you are running MCMC in CPU, consider using `numpyro.set_host_device_count(10)` at the beginning of your program. You can double-check how many devices are available in your system using `jax.local_device_count()`.\n",
      "  mcmc = MCMC(\n",
      "sample: 100%|██████████| 3000/3000 [00:45<00:00, 66.40it/s, 31 steps of size 2.68e-01. acc. prob=0.81] \n",
      "sample: 100%|██████████| 3000/3000 [00:30<00:00, 98.12it/s, 3 steps of size 1.97e-01. acc. prob=0.90]  \n",
      "sample: 100%|██████████| 3000/3000 [00:30<00:00, 98.66it/s, 3 steps of size 1.56e-01. acc. prob=0.93]  \n",
      "sample: 100%|██████████| 3000/3000 [00:29<00:00, 100.12it/s, 27 steps of size 1.60e-01. acc. prob=0.92]\n",
      "sample: 100%|██████████| 3000/3000 [00:29<00:00, 100.44it/s, 17 steps of size 1.76e-01. acc. prob=0.92]\n",
      "sample: 100%|██████████| 3000/3000 [00:29<00:00, 103.43it/s, 3 steps of size 1.60e-01. acc. prob=0.92] \n",
      "sample: 100%|██████████| 3000/3000 [00:29<00:00, 103.22it/s, 15 steps of size 1.86e-01. acc. prob=0.90]\n",
      "sample: 100%|██████████| 3000/3000 [00:28<00:00, 104.73it/s, 7 steps of size 1.61e-01. acc. prob=0.90] \n",
      "sample: 100%|██████████| 3000/3000 [00:30<00:00, 99.61it/s, 39 steps of size 1.51e-01. acc. prob=0.93] \n",
      "sample: 100%|██████████| 3000/3000 [00:29<00:00, 100.09it/s, 13 steps of size 1.40e-01. acc. prob=0.94]\n"
     ]
    }
   ],
   "source": [
    "num_samples = 2_500\n",
    "sample_key, master_key = jax.random.split(master_key)\n",
    "samples_nle = posterior.sample(\n",
    "    x=obs, num_samples=num_samples, key=sample_key\n",
    ")"
   ]
  },
  {
   "cell_type": "code",
   "execution_count": 17,
   "metadata": {},
   "outputs": [
    {
     "name": "stdout",
     "output_type": "stream",
     "text": [
      "Removed no burn in\n",
      "Removed no burn in\n"
     ]
    },
    {
     "name": "stderr",
     "output_type": "stream",
     "text": [
      "WARNING:root:2D kernel density bandwidth optimizer failed for \\theta_0, \\theta_1. Using fallback width: f(a) and f(b) must have different signs\n"
     ]
    },
    {
     "data": {
      "image/png": "[encoded data removed]",
      "text/plain": [
       "<Figure size 400x400 with 3 Axes>"
      ]
     },
     "metadata": {},
     "output_type": "display_data"
    }
   ],
   "source": [
    "labels = [rf'\\theta_{i}' for i in range(n_dim)]\n",
    "\n",
    "samples_gd = MCSamples(samples=samples, names=labels, labels=labels)\n",
    "samples_nle_gd = MCSamples(samples=samples_nle, names=labels, labels=labels)\n",
    "\n",
    "g = plots.get_subplot_plotter()\n",
    "\n",
    "g.settings.figure_legend_frame = False\n",
    "g.settings.alpha_filled_add = 0.4\n",
    "\n",
    "g.triangle_plot([samples_gd, samples_nle_gd], filled=True,\n",
    "                line_args=[\n",
    "                    {'color': 'blue'},\n",
    "                    {'color': 'red'}\n",
    "                ],\n",
    "                legend_labels=['NPE', 'NLE'],\n",
    "                contour_colors=['blue', 'red'],\n",
    "                markers={\n",
    "                    label: val for label, val in zip(labels, fiducial[0])\n",
    "                })\n",
    "\n",
    "plt.show()"
   ]
  },
  {
   "cell_type": "code",
   "execution_count": null,
   "metadata": {},
   "outputs": [],
   "source": []
  }
 ],
 "metadata": {
  "kernelspec": {
   "display_name": "jaxili",
   "language": "python",
   "name": "python3"
  },
  "language_info": {
   "codemirror_mode": {
    "name": "ipython",
    "version": 3
   },
   "file_extension": ".py",
   "mimetype": "text/x-python",
   "name": "python",
   "nbconvert_exporter": "python",
   "pygments_lexer": "ipython3",
   "version": "3.10.13"
  }
 },
 "nbformat": 4,
 "nbformat_minor": 2
}
